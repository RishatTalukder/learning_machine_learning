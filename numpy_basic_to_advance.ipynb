{
 "cells": [
  {
   "cell_type": "markdown",
   "metadata": {},
   "source": [
    "steps:\n",
    "* Terminal Commands\n",
    "    * pip install numpy(for anaconda: conda install numpy )\n",
    "    * python -m pip install ipykernel(for conda : conda install ipykernel)\n",
    "* for jupyter notebook:\n",
    "    * its preinstalled in conda base env.\n",
    "    * for normal installation use \"pip install notebook\"\n",
    "\n"
   ]
  },
  {
   "cell_type": "markdown",
   "metadata": {},
   "source": [
    "\n",
    "* Make a new file with .ipynb extention and start coding."
   ]
  },
  {
   "cell_type": "code",
   "execution_count": 68,
   "metadata": {
    "ExecuteTime": {
     "end_time": "2023-09-14T03:37:30.049246Z",
     "start_time": "2023-09-14T03:37:29.677690Z"
    }
   },
   "outputs": [],
   "source": [
    "#make a small list on numbers\n",
    "numbers = [1,2,3,4,5,6,7,8,9,10]"
   ]
  },
  {
   "cell_type": "code",
   "execution_count": 69,
   "metadata": {
    "ExecuteTime": {
     "end_time": "2023-09-14T03:37:31.758337100Z",
     "start_time": "2023-09-14T03:37:29.691689300Z"
    }
   },
   "outputs": [],
   "source": [
    "#import numpy\n",
    "import numpy as np"
   ]
  },
  {
   "cell_type": "code",
   "execution_count": 70,
   "metadata": {
    "ExecuteTime": {
     "end_time": "2023-09-14T03:37:31.758337100Z",
     "start_time": "2023-09-14T03:37:29.750792600Z"
    }
   },
   "outputs": [],
   "source": [
    "#making the numbers list into an numpy array\n",
    "numbers_np = np.array(numbers)"
   ]
  },
  {
   "cell_type": "code",
   "execution_count": 71,
   "metadata": {
    "ExecuteTime": {
     "end_time": "2023-09-14T03:37:31.760338900Z",
     "start_time": "2023-09-14T03:37:29.765068200Z"
    }
   },
   "outputs": [
    {
     "data": {
      "text/plain": "array([ 1,  2,  3,  4,  5,  6,  7,  8,  9, 10])"
     },
     "execution_count": 71,
     "metadata": {},
     "output_type": "execute_result"
    }
   ],
   "source": [
    "#calling numbers_np\n",
    "numbers_np"
   ]
  },
  {
   "cell_type": "code",
   "execution_count": 72,
   "metadata": {
    "ExecuteTime": {
     "end_time": "2023-09-14T03:37:31.762338Z",
     "start_time": "2023-09-14T03:37:29.801743600Z"
    }
   },
   "outputs": [
    {
     "data": {
      "text/plain": "[[1, 2, 3], [4, 5, 6], [7, 8, 9]]"
     },
     "execution_count": 72,
     "metadata": {},
     "output_type": "execute_result"
    }
   ],
   "source": [
    "#list of three lists\n",
    "list_of_lists = [[1,2,3],[4,5,6],[7,8,9]]\n",
    "#this is a unclear representation of the 2d lists\n",
    "list_of_lists"
   ]
  },
  {
   "cell_type": "code",
   "execution_count": 73,
   "metadata": {
    "ExecuteTime": {
     "end_time": "2023-09-14T03:37:31.763340200Z",
     "start_time": "2023-09-14T03:37:29.844427800Z"
    }
   },
   "outputs": [
    {
     "data": {
      "text/plain": "array([[1, 2, 3],\n       [4, 5, 6],\n       [7, 8, 9]])"
     },
     "execution_count": 73,
     "metadata": {},
     "output_type": "execute_result"
    }
   ],
   "source": [
    "#for clear 2d represatation of the 2d lists\n",
    "list_of_lists_np = np.array(list_of_lists)\n",
    "list_of_lists_np"
   ]
  },
  {
   "cell_type": "code",
   "execution_count": 74,
   "metadata": {
    "ExecuteTime": {
     "end_time": "2023-09-14T03:37:31.764338100Z",
     "start_time": "2023-09-14T03:37:29.901927100Z"
    }
   },
   "outputs": [
    {
     "data": {
      "text/plain": "array([ 1,  2,  3,  4,  5,  6,  7,  8,  9, 10])"
     },
     "execution_count": 74,
     "metadata": {},
     "output_type": "execute_result"
    }
   ],
   "source": [
    "#creating a list with numpy using numpy arange\n",
    "np.arange(1,11)\n",
    "#here the two params are start and end+1\n"
   ]
  },
  {
   "cell_type": "code",
   "execution_count": 75,
   "metadata": {
    "ExecuteTime": {
     "end_time": "2023-09-14T03:37:31.764338100Z",
     "start_time": "2023-09-14T03:37:29.943969300Z"
    }
   },
   "outputs": [
    {
     "data": {
      "text/plain": "array([1, 3, 5, 7, 9])"
     },
     "execution_count": 75,
     "metadata": {},
     "output_type": "execute_result"
    }
   ],
   "source": [
    "#we can also add another param to numpy arange\n",
    "np.arange(1,11,2)\n",
    "#here the third param is the step size"
   ]
  },
  {
   "cell_type": "code",
   "execution_count": 76,
   "metadata": {
    "ExecuteTime": {
     "end_time": "2023-09-14T03:37:31.765337Z",
     "start_time": "2023-09-14T03:37:29.999354900Z"
    }
   },
   "outputs": [
    {
     "data": {
      "text/plain": "array([0., 0., 0., 0., 0., 0., 0., 0., 0., 0.])"
     },
     "execution_count": 76,
     "metadata": {},
     "output_type": "execute_result"
    }
   ],
   "source": [
    "#generating 10 zeros\n",
    "np.zeros(10)"
   ]
  },
  {
   "cell_type": "code",
   "execution_count": 77,
   "metadata": {
    "ExecuteTime": {
     "end_time": "2023-09-14T03:37:31.765337Z",
     "start_time": "2023-09-14T03:37:30.018463600Z"
    }
   },
   "outputs": [
    {
     "data": {
      "text/plain": "array([[0., 0., 0.],\n       [0., 0., 0.],\n       [0., 0., 0.]])"
     },
     "execution_count": 77,
     "metadata": {},
     "output_type": "execute_result"
    }
   ],
   "source": [
    "#two dimentional zeros by adding a tuple of two int inside the np.zeros\n",
    "np.zeros((3,3))\n"
   ]
  },
  {
   "cell_type": "code",
   "execution_count": 78,
   "metadata": {
    "ExecuteTime": {
     "end_time": "2023-09-14T03:37:31.791339100Z",
     "start_time": "2023-09-14T03:37:30.046248400Z"
    }
   },
   "outputs": [
    {
     "data": {
      "text/plain": "array([1., 1., 1., 1., 1., 1., 1., 1., 1., 1.])"
     },
     "execution_count": 78,
     "metadata": {},
     "output_type": "execute_result"
    }
   ],
   "source": [
    "#simillerly we can generate 10 ones\n",
    "np.ones(10)"
   ]
  },
  {
   "cell_type": "code",
   "execution_count": 79,
   "metadata": {
    "ExecuteTime": {
     "end_time": "2023-09-14T03:37:31.792342300Z",
     "start_time": "2023-09-14T03:37:30.074274800Z"
    }
   },
   "outputs": [
    {
     "data": {
      "text/plain": "array([[1., 1., 1.],\n       [1., 1., 1.],\n       [1., 1., 1.]])"
     },
     "execution_count": 79,
     "metadata": {},
     "output_type": "execute_result"
    }
   ],
   "source": [
    "#and also ones with a tuple of two int which makes a 3x3 matrix\n",
    "np.ones((3,3))"
   ]
  },
  {
   "cell_type": "code",
   "execution_count": 80,
   "metadata": {
    "ExecuteTime": {
     "end_time": "2023-09-14T03:37:31.793342300Z",
     "start_time": "2023-09-14T03:37:30.095400Z"
    }
   },
   "outputs": [
    {
     "data": {
      "text/plain": "array([ 0. ,  2.5,  5. ,  7.5, 10. ])"
     },
     "execution_count": 80,
     "metadata": {},
     "output_type": "execute_result"
    }
   ],
   "source": [
    "np.linspace(0,10,5)\n",
    "#here the first param is the start of the range\n",
    "#the second param is the end of the range\n",
    "#the third param is the number of points"
   ]
  },
  {
   "cell_type": "code",
   "execution_count": 135,
   "metadata": {
    "ExecuteTime": {
     "end_time": "2023-09-14T03:38:31.888895400Z",
     "start_time": "2023-09-14T03:38:31.849687200Z"
    }
   },
   "outputs": [
    {
     "data": {
      "text/plain": "array([[1., 0., 0., 0., 0.],\n       [0., 1., 0., 0., 0.],\n       [0., 0., 1., 0., 0.],\n       [0., 0., 0., 1., 0.],\n       [0., 0., 0., 0., 1.]])"
     },
     "execution_count": 135,
     "metadata": {},
     "output_type": "execute_result"
    }
   ],
   "source": [
    "#indentity matrix\n",
    "np.eye(5)\n"
   ]
  },
  {
   "cell_type": "code",
   "execution_count": 136,
   "metadata": {
    "ExecuteTime": {
     "end_time": "2023-09-14T03:38:41.664787Z",
     "start_time": "2023-09-14T03:38:41.610783100Z"
    }
   },
   "outputs": [
    {
     "data": {
      "text/plain": "array([0.24228113, 0.72229537, 0.26491803, 0.92589608, 0.62376406])"
     },
     "execution_count": 136,
     "metadata": {},
     "output_type": "execute_result"
    }
   ],
   "source": [
    "#random numbers\n",
    "np.random.rand(5)\n",
    "#this generates 5 random numbers between 0 and 1\n"
   ]
  },
  {
   "cell_type": "code",
   "execution_count": 137,
   "metadata": {
    "ExecuteTime": {
     "end_time": "2023-09-14T03:38:44.770341900Z",
     "start_time": "2023-09-14T03:38:44.728710600Z"
    }
   },
   "outputs": [
    {
     "data": {
      "text/plain": "array([[0.56521953, 0.00678138, 0.00212445],\n       [0.54980317, 0.07272112, 0.63945687],\n       [0.20713626, 0.71874069, 0.25854002]])"
     },
     "execution_count": 137,
     "metadata": {},
     "output_type": "execute_result"
    }
   ],
   "source": [
    "#for 2d matrix\n",
    "np.random.rand(3,3)"
   ]
  },
  {
   "cell_type": "code",
   "execution_count": 138,
   "metadata": {
    "ExecuteTime": {
     "end_time": "2023-09-14T03:38:46.795343400Z",
     "start_time": "2023-09-14T03:38:46.738334600Z"
    }
   },
   "outputs": [
    {
     "data": {
      "text/plain": "array([-0.67478945,  2.19131476, -0.48127578,  1.09877679,  0.20960252,\n        1.36156207,  1.30403798,  0.49581915,  0.50686659, -0.07346993])"
     },
     "execution_count": 138,
     "metadata": {},
     "output_type": "execute_result"
    }
   ],
   "source": [
    "#random normal distribution\n",
    "np.random.randn(10)\n",
    "#this generates 3 random numbers from a normal distribution\n"
   ]
  },
  {
   "cell_type": "code",
   "execution_count": 139,
   "metadata": {
    "ExecuteTime": {
     "end_time": "2023-09-14T03:38:49.764799700Z",
     "start_time": "2023-09-14T03:38:49.721351100Z"
    }
   },
   "outputs": [
    {
     "data": {
      "text/plain": "array([[-0.32541743,  3.00923126, -0.0391555 ],\n       [ 0.25344701,  0.96841311, -0.73585994],\n       [-0.73879424, -0.16292205,  1.97334136]])"
     },
     "execution_count": 139,
     "metadata": {},
     "output_type": "execute_result"
    }
   ],
   "source": [
    "#for 2d matrix\n",
    "np.random.randn(3,3)"
   ]
  },
  {
   "cell_type": "code",
   "execution_count": 86,
   "metadata": {
    "ExecuteTime": {
     "end_time": "2023-09-14T03:37:31.799340900Z",
     "start_time": "2023-09-14T03:37:30.243158900Z"
    }
   },
   "outputs": [
    {
     "data": {
      "text/plain": "array([44, 42, 24, 28, 42, 27, 71, 19, 68, 96])"
     },
     "execution_count": 86,
     "metadata": {},
     "output_type": "execute_result"
    }
   ],
   "source": [
    "np.random.randint(1,100,10)\n",
    "#this generates 10 random numbers between 1 and 100-1"
   ]
  },
  {
   "cell_type": "code",
   "execution_count": 87,
   "metadata": {
    "ExecuteTime": {
     "end_time": "2023-09-14T03:37:31.800340500Z",
     "start_time": "2023-09-14T03:37:30.264162600Z"
    }
   },
   "outputs": [],
   "source": [
    "#making a array of 20 int random numbers between 1 and 100\n",
    "np_random_int = np.random.randint(1,100,20)"
   ]
  },
  {
   "cell_type": "code",
   "execution_count": 88,
   "metadata": {
    "ExecuteTime": {
     "end_time": "2023-09-14T03:37:31.800340500Z",
     "start_time": "2023-09-14T03:37:30.274162200Z"
    }
   },
   "outputs": [
    {
     "data": {
      "text/plain": "array([82, 63, 19, 19, 87, 72, 23, 81, 42, 20, 64, 35,  9, 35, 88, 18, 97,\n       55, 75, 91])"
     },
     "execution_count": 88,
     "metadata": {},
     "output_type": "execute_result"
    }
   ],
   "source": [
    "np_random_int"
   ]
  },
  {
   "cell_type": "code",
   "execution_count": 89,
   "metadata": {
    "ExecuteTime": {
     "end_time": "2023-09-14T03:37:31.801339500Z",
     "start_time": "2023-09-14T03:37:30.294163500Z"
    }
   },
   "outputs": [
    {
     "data": {
      "text/plain": "array([[82, 63, 19, 19, 87],\n       [72, 23, 81, 42, 20],\n       [64, 35,  9, 35, 88],\n       [18, 97, 55, 75, 91]])"
     },
     "execution_count": 89,
     "metadata": {},
     "output_type": "execute_result"
    }
   ],
   "source": [
    "#reshaping the array\n",
    "np_random_int.reshape(4,5)"
   ]
  },
  {
   "cell_type": "code",
   "execution_count": 90,
   "metadata": {
    "ExecuteTime": {
     "end_time": "2023-09-14T03:37:31.801339500Z",
     "start_time": "2023-09-14T03:37:30.308325400Z"
    }
   },
   "outputs": [
    {
     "data": {
      "text/plain": "97"
     },
     "execution_count": 90,
     "metadata": {},
     "output_type": "execute_result"
    }
   ],
   "source": [
    "#finding max\n",
    "np.max(np_random_int)\n",
    "#or\n",
    "np_random_int.max()"
   ]
  },
  {
   "cell_type": "code",
   "execution_count": 91,
   "metadata": {
    "ExecuteTime": {
     "end_time": "2023-09-14T03:37:31.802341800Z",
     "start_time": "2023-09-14T03:37:30.331355900Z"
    }
   },
   "outputs": [
    {
     "data": {
      "text/plain": "9"
     },
     "execution_count": 91,
     "metadata": {},
     "output_type": "execute_result"
    }
   ],
   "source": [
    "#finding min\n",
    "np.min(np_random_int)\n",
    "#or\n",
    "np_random_int.min()\n"
   ]
  },
  {
   "cell_type": "code",
   "execution_count": 92,
   "metadata": {
    "ExecuteTime": {
     "end_time": "2023-09-14T03:37:31.803341900Z",
     "start_time": "2023-09-14T03:37:30.344357600Z"
    }
   },
   "outputs": [
    {
     "data": {
      "text/plain": "16"
     },
     "execution_count": 92,
     "metadata": {},
     "output_type": "execute_result"
    }
   ],
   "source": [
    "#index of max\n",
    "np.argmax(np_random_int)\n",
    "#or\n",
    "np_random_int.argmax()"
   ]
  },
  {
   "cell_type": "code",
   "execution_count": 93,
   "metadata": {
    "ExecuteTime": {
     "end_time": "2023-09-14T03:37:31.803341900Z",
     "start_time": "2023-09-14T03:37:30.367872Z"
    }
   },
   "outputs": [
    {
     "data": {
      "text/plain": "12"
     },
     "execution_count": 93,
     "metadata": {},
     "output_type": "execute_result"
    }
   ],
   "source": [
    "#index of min\n",
    "np.argmin(np_random_int)\n",
    "#or\n",
    "np_random_int.argmin()\n"
   ]
  },
  {
   "cell_type": "code",
   "execution_count": 94,
   "metadata": {
    "ExecuteTime": {
     "end_time": "2023-09-14T03:37:31.804340400Z",
     "start_time": "2023-09-14T03:37:30.386874Z"
    }
   },
   "outputs": [
    {
     "data": {
      "text/plain": "(20,)"
     },
     "execution_count": 94,
     "metadata": {},
     "output_type": "execute_result"
    }
   ],
   "source": [
    "#shape of array\n",
    "np_random_int.shape"
   ]
  },
  {
   "cell_type": "code",
   "execution_count": 95,
   "metadata": {
    "ExecuteTime": {
     "end_time": "2023-09-14T03:37:31.806341200Z",
     "start_time": "2023-09-14T03:37:30.402953400Z"
    }
   },
   "outputs": [
    {
     "data": {
      "text/plain": "(5, 4)"
     },
     "execution_count": 95,
     "metadata": {},
     "output_type": "execute_result"
    }
   ],
   "source": [
    "#reshaping and then chekcing shape\n",
    "new_np_random_int = np_random_int.reshape(5,4)\n",
    "new_np_random_int.shape"
   ]
  },
  {
   "cell_type": "code",
   "execution_count": 96,
   "metadata": {
    "ExecuteTime": {
     "end_time": "2023-09-14T03:37:31.806341200Z",
     "start_time": "2023-09-14T03:37:30.440990Z"
    }
   },
   "outputs": [
    {
     "data": {
      "text/plain": "dtype('int32')"
     },
     "execution_count": 96,
     "metadata": {},
     "output_type": "execute_result"
    }
   ],
   "source": [
    "#checking datatype\n",
    "np_random_int.dtype"
   ]
  },
  {
   "cell_type": "code",
   "execution_count": 97,
   "metadata": {
    "ExecuteTime": {
     "end_time": "2023-09-14T03:37:31.807340900Z",
     "start_time": "2023-09-14T03:37:30.449940900Z"
    }
   },
   "outputs": [],
   "source": [
    "#importing randint function from numpy\n",
    "from numpy.random import randint"
   ]
  },
  {
   "cell_type": "code",
   "execution_count": 98,
   "metadata": {
    "ExecuteTime": {
     "end_time": "2023-09-14T03:37:31.807340900Z",
     "start_time": "2023-09-14T03:37:30.463965700Z"
    }
   },
   "outputs": [
    {
     "data": {
      "text/plain": "array([86, 60, 82, 78, 37, 99, 85, 76, 98, 24])"
     },
     "execution_count": 98,
     "metadata": {},
     "output_type": "execute_result"
    }
   ],
   "source": [
    "#generating 10 random numbers between 1 and 100\n",
    "randint(1,100,10)"
   ]
  },
  {
   "cell_type": "markdown",
   "metadata": {},
   "source": [
    "# Numpy Indexing"
   ]
  },
  {
   "cell_type": "code",
   "execution_count": 99,
   "metadata": {
    "ExecuteTime": {
     "end_time": "2023-09-14T03:37:31.812341800Z",
     "start_time": "2023-09-14T03:37:30.482401800Z"
    }
   },
   "outputs": [
    {
     "data": {
      "text/plain": "array([ 0,  1,  2,  3,  4,  5,  6,  7,  8,  9, 10])"
     },
     "execution_count": 99,
     "metadata": {},
     "output_type": "execute_result"
    }
   ],
   "source": [
    "#array of 0 to 10\n",
    "arr = np.arange(0,11)\n",
    "arr\n"
   ]
  },
  {
   "cell_type": "code",
   "execution_count": 100,
   "metadata": {
    "ExecuteTime": {
     "end_time": "2023-09-14T03:37:31.813343Z",
     "start_time": "2023-09-14T03:37:30.495405600Z"
    }
   },
   "outputs": [
    {
     "data": {
      "text/plain": "8"
     },
     "execution_count": 100,
     "metadata": {},
     "output_type": "execute_result"
    }
   ],
   "source": [
    "#value of index 8\n",
    "arr[8]"
   ]
  },
  {
   "cell_type": "code",
   "execution_count": 101,
   "metadata": {
    "ExecuteTime": {
     "end_time": "2023-09-14T03:37:31.814341800Z",
     "start_time": "2023-09-14T03:37:30.508439400Z"
    }
   },
   "outputs": [
    {
     "data": {
      "text/plain": "array([1, 2, 3, 4, 5])"
     },
     "execution_count": 101,
     "metadata": {},
     "output_type": "execute_result"
    }
   ],
   "source": [
    "#list of items from 1 to 5\n",
    "arr[1:6]"
   ]
  },
  {
   "cell_type": "code",
   "execution_count": 102,
   "metadata": {
    "ExecuteTime": {
     "end_time": "2023-09-14T03:37:31.814341800Z",
     "start_time": "2023-09-14T03:37:30.528321600Z"
    }
   },
   "outputs": [
    {
     "data": {
      "text/plain": "array([0, 1, 2, 3, 4, 5])"
     },
     "execution_count": 102,
     "metadata": {},
     "output_type": "execute_result"
    }
   ],
   "source": [
    "#everything to index 6\n",
    "arr[:6]"
   ]
  },
  {
   "cell_type": "code",
   "execution_count": 103,
   "metadata": {
    "ExecuteTime": {
     "end_time": "2023-09-14T03:37:31.816343300Z",
     "start_time": "2023-09-14T03:37:30.554562100Z"
    }
   },
   "outputs": [
    {
     "data": {
      "text/plain": "array([ 6,  7,  8,  9, 10])"
     },
     "execution_count": 103,
     "metadata": {},
     "output_type": "execute_result"
    }
   ],
   "source": [
    "#evrything from index 6 to end\n",
    "arr[6:]\n"
   ]
  },
  {
   "cell_type": "code",
   "execution_count": 104,
   "metadata": {
    "ExecuteTime": {
     "end_time": "2023-09-14T03:37:31.816343300Z",
     "start_time": "2023-09-14T03:37:30.582565700Z"
    }
   },
   "outputs": [
    {
     "data": {
      "text/plain": "array([100, 100, 100, 100, 100,   5,   6,   7,   8,   9,  10])"
     },
     "execution_count": 104,
     "metadata": {},
     "output_type": "execute_result"
    }
   ],
   "source": [
    "#setting index 0 to 5 to 100\n",
    "arr[0:5] = 100\n",
    "arr"
   ]
  },
  {
   "cell_type": "code",
   "execution_count": 105,
   "metadata": {
    "ExecuteTime": {
     "end_time": "2023-09-14T03:37:31.817345500Z",
     "start_time": "2023-09-14T03:37:30.605883200Z"
    }
   },
   "outputs": [
    {
     "data": {
      "text/plain": "array([0, 1, 2, 3, 4, 5, 6, 7, 8, 9])"
     },
     "execution_count": 105,
     "metadata": {},
     "output_type": "execute_result"
    }
   ],
   "source": [
    "#make another array from 0 to 20\n",
    "arr2 = np.arange(0,21)\n",
    "#broadcasting the array of 0 to 10 in another variable\n",
    "arr3 = arr2[:10]\n",
    "arr3\n"
   ]
  },
  {
   "cell_type": "code",
   "execution_count": 106,
   "metadata": {
    "ExecuteTime": {
     "end_time": "2023-09-14T03:37:31.818344100Z",
     "start_time": "2023-09-14T03:37:30.628907700Z"
    }
   },
   "outputs": [
    {
     "data": {
      "text/plain": "array([99, 99, 99, 99, 99,  5,  6,  7,  8,  9])"
     },
     "execution_count": 106,
     "metadata": {},
     "output_type": "execute_result"
    }
   ],
   "source": [
    "#changing the value of arr3 from index 0 to 5 into 99\n",
    "arr3[:5] = 99\n",
    "arr3"
   ]
  },
  {
   "cell_type": "code",
   "execution_count": 107,
   "metadata": {
    "ExecuteTime": {
     "end_time": "2023-09-14T03:37:31.819344900Z",
     "start_time": "2023-09-14T03:37:30.647906Z"
    }
   },
   "outputs": [
    {
     "data": {
      "text/plain": "array([99, 99, 99, 99, 99,  5,  6,  7,  8,  9, 10, 11, 12, 13, 14, 15, 16,\n       17, 18, 19, 20])"
     },
     "execution_count": 107,
     "metadata": {},
     "output_type": "execute_result"
    }
   ],
   "source": [
    "#printing the arr2\n",
    "arr2\n",
    "#which changed the value of arr2 from index 0 to 5 into 99\n",
    "#which means arr3 is a view of arr2 and not a copy"
   ]
  },
  {
   "cell_type": "code",
   "execution_count": 108,
   "metadata": {
    "ExecuteTime": {
     "end_time": "2023-09-14T03:37:31.819344900Z",
     "start_time": "2023-09-14T03:37:30.686907400Z"
    }
   },
   "outputs": [
    {
     "data": {
      "text/plain": "array([0, 1, 2, 3, 4, 5, 6, 7, 8, 9])"
     },
     "execution_count": 108,
     "metadata": {},
     "output_type": "execute_result"
    }
   ],
   "source": [
    "#resetting the arr2 variable\n",
    "arr2 = np.arange(0,21)\n",
    "#now to copy a part of arr2 into arr3\n",
    "arr3 = arr2[:10].copy()\n",
    "arr3"
   ]
  },
  {
   "cell_type": "code",
   "execution_count": 109,
   "metadata": {
    "ExecuteTime": {
     "end_time": "2023-09-14T03:37:31.820344500Z",
     "start_time": "2023-09-14T03:37:30.735952100Z"
    }
   },
   "outputs": [
    {
     "data": {
      "text/plain": "array([99, 99, 99, 99, 99,  5,  6,  7,  8,  9])"
     },
     "execution_count": 109,
     "metadata": {},
     "output_type": "execute_result"
    }
   ],
   "source": [
    "#now changing the value of arr3 from index 0 to 5 into 99 and printing\n",
    "arr3[:5] = 99\n",
    "arr3"
   ]
  },
  {
   "cell_type": "code",
   "execution_count": 110,
   "metadata": {
    "ExecuteTime": {
     "end_time": "2023-09-14T03:37:31.821341800Z",
     "start_time": "2023-09-14T03:37:30.798955900Z"
    }
   },
   "outputs": [
    {
     "name": "stdout",
     "output_type": "stream",
     "text": [
      "[ 0  1  2  3  4  5  6  7  8  9 10 11 12 13 14 15 16 17 18 19 20]\n",
      "[99 99 99 99 99  5  6  7  8  9]\n"
     ]
    }
   ],
   "source": [
    "print(arr2)\n",
    "#arr2 is not changed but arr3 is changed\n",
    "print(arr3)"
   ]
  },
  {
   "cell_type": "code",
   "execution_count": 111,
   "metadata": {
    "ExecuteTime": {
     "end_time": "2023-09-14T03:37:31.822342200Z",
     "start_time": "2023-09-14T03:37:30.824156600Z"
    }
   },
   "outputs": [
    {
     "data": {
      "text/plain": "array([[ 5, 10, 15],\n       [20, 25, 30],\n       [35, 40, 45]])"
     },
     "execution_count": 111,
     "metadata": {},
     "output_type": "execute_result"
    }
   ],
   "source": [
    "#making a 2d array\n",
    "arr2d = np.array([[5,10,15],[20,25,30],[35,40,45]])\n",
    "arr2d"
   ]
  },
  {
   "cell_type": "code",
   "execution_count": 112,
   "metadata": {
    "ExecuteTime": {
     "end_time": "2023-09-14T03:37:31.824342200Z",
     "start_time": "2023-09-14T03:37:30.845163800Z"
    }
   },
   "outputs": [
    {
     "name": "stdout",
     "output_type": "stream",
     "text": [
      "10\n",
      "10\n"
     ]
    }
   ],
   "source": [
    "#there are two ways to grab a value from a 2d array\n",
    "print(arr2d[0,1])\n",
    "#single brackets with a comma\n",
    "print(arr2d[0][1])\n",
    "#double brackets"
   ]
  },
  {
   "cell_type": "code",
   "execution_count": 113,
   "metadata": {
    "ExecuteTime": {
     "end_time": "2023-09-14T03:37:31.825343100Z",
     "start_time": "2023-09-14T03:37:30.853845600Z"
    }
   },
   "outputs": [
    {
     "name": "stdout",
     "output_type": "stream",
     "text": [
      "[[10 15]\n",
      " [25 30]]\n",
      "[[10 15]\n",
      " [25 30]]\n"
     ]
    }
   ],
   "source": [
    "#we can also slice the 2d array with single brackets\n",
    "print(arr2d[0:2,1:3])\n",
    "#and also with double brackets\n",
    "print(arr2d[0:2,1:3])"
   ]
  },
  {
   "cell_type": "code",
   "execution_count": 114,
   "metadata": {
    "ExecuteTime": {
     "end_time": "2023-09-14T03:37:31.825343100Z",
     "start_time": "2023-09-14T03:37:30.873851Z"
    }
   },
   "outputs": [
    {
     "name": "stdout",
     "output_type": "stream",
     "text": [
      "[[ 5 10 15]\n",
      " [20 25 30]]\n"
     ]
    }
   ],
   "source": [
    "#but to simplify we can grab the first 2 row\n",
    "print(arr2d[0:2])"
   ]
  },
  {
   "cell_type": "code",
   "execution_count": 115,
   "metadata": {
    "ExecuteTime": {
     "end_time": "2023-09-14T03:37:31.826343100Z",
     "start_time": "2023-09-14T03:37:30.951853700Z"
    }
   },
   "outputs": [
    {
     "name": "stdout",
     "output_type": "stream",
     "text": [
      "[[20 25 30]\n",
      " [35 40 45]]\n"
     ]
    }
   ],
   "source": [
    "#to grab the last 2 row\n",
    "print(arr2d[1:])"
   ]
  },
  {
   "cell_type": "code",
   "execution_count": 116,
   "metadata": {
    "ExecuteTime": {
     "end_time": "2023-09-14T03:37:31.826343100Z",
     "start_time": "2023-09-14T03:37:30.998860200Z"
    }
   },
   "outputs": [
    {
     "name": "stdout",
     "output_type": "stream",
     "text": [
      "[[ 5 10]\n",
      " [20 25]]\n",
      "[[ 5 10 15]\n",
      " [20 25 30]]\n"
     ]
    }
   ],
   "source": [
    "#to grab the first 2 rows and first 2 columns\n",
    "print(arr2d[0:2,0:2])\n",
    "#with double brackets\n",
    "print(arr2d[0:2][0:2])\n"
   ]
  },
  {
   "cell_type": "code",
   "execution_count": 117,
   "metadata": {
    "ExecuteTime": {
     "end_time": "2023-09-14T03:37:31.826343100Z",
     "start_time": "2023-09-14T03:37:31.027504500Z"
    }
   },
   "outputs": [
    {
     "name": "stdout",
     "output_type": "stream",
     "text": [
      "[[15]]\n"
     ]
    }
   ],
   "source": [
    "#to grab the first row and last 2 columns\n",
    "print(arr2d[0:1,2:])"
   ]
  },
  {
   "cell_type": "code",
   "execution_count": 118,
   "metadata": {
    "ExecuteTime": {
     "end_time": "2023-09-14T03:37:31.827344Z",
     "start_time": "2023-09-14T03:37:31.050025Z"
    }
   },
   "outputs": [
    {
     "data": {
      "text/plain": "array([1, 2, 3, 4])"
     },
     "execution_count": 118,
     "metadata": {},
     "output_type": "execute_result"
    }
   ],
   "source": [
    "#create a new array from 1 to 20\n",
    "arr = np.arange(1,21)\n",
    "#now to find all the elements less then 5 \n",
    "arr[arr<5]"
   ]
  },
  {
   "cell_type": "code",
   "execution_count": 119,
   "metadata": {
    "ExecuteTime": {
     "end_time": "2023-09-14T03:37:31.827344Z",
     "start_time": "2023-09-14T03:37:31.093027200Z"
    }
   },
   "outputs": [
    {
     "data": {
      "text/plain": "array([ True,  True,  True,  True, False, False, False, False, False,\n       False, False, False, False, False, False, False, False, False,\n       False, False])"
     },
     "execution_count": 119,
     "metadata": {},
     "output_type": "execute_result"
    }
   ],
   "source": [
    "#to simplify\n",
    "arr < 5\n",
    "#returns a boolean array"
   ]
  },
  {
   "cell_type": "code",
   "execution_count": 120,
   "metadata": {
    "ExecuteTime": {
     "end_time": "2023-09-14T03:37:31.828343700Z",
     "start_time": "2023-09-14T03:37:31.123332300Z"
    }
   },
   "outputs": [
    {
     "data": {
      "text/plain": "array([1, 2, 3, 4])"
     },
     "execution_count": 120,
     "metadata": {},
     "output_type": "execute_result"
    }
   ],
   "source": [
    "#then when we use this boolean array we can use it to select the elements\n",
    "arr[arr<5]"
   ]
  },
  {
   "cell_type": "code",
   "execution_count": 121,
   "metadata": {
    "ExecuteTime": {
     "end_time": "2023-09-14T03:37:31.829344500Z",
     "start_time": "2023-09-14T03:37:31.147942600Z"
    }
   },
   "outputs": [
    {
     "data": {
      "text/plain": "array([ 1,  2,  3,  4,  5,  6,  7,  8,  9, 10, 11, 12, 13, 14, 15, 16, 17,\n       18, 19, 20, 21, 22, 23, 24, 25, 26, 27, 28, 29, 30, 31, 32, 33, 34,\n       35, 36, 37, 38, 39, 40, 41, 42, 43, 44, 45, 46, 47, 48, 49, 50])"
     },
     "execution_count": 121,
     "metadata": {},
     "output_type": "execute_result"
    }
   ],
   "source": [
    "#now we can reshape a single array into a 2d array\n",
    "#lets start by making a 1d array from 1 to 50\n",
    "arr = np.arange(1,51)\n",
    "arr"
   ]
  },
  {
   "cell_type": "code",
   "execution_count": 122,
   "metadata": {
    "ExecuteTime": {
     "end_time": "2023-09-14T03:37:31.829344500Z",
     "start_time": "2023-09-14T03:37:31.147942600Z"
    }
   },
   "outputs": [
    {
     "data": {
      "text/plain": "array([[ 1,  2,  3,  4,  5,  6,  7,  8,  9, 10],\n       [11, 12, 13, 14, 15, 16, 17, 18, 19, 20],\n       [21, 22, 23, 24, 25, 26, 27, 28, 29, 30],\n       [31, 32, 33, 34, 35, 36, 37, 38, 39, 40],\n       [41, 42, 43, 44, 45, 46, 47, 48, 49, 50]])"
     },
     "execution_count": 122,
     "metadata": {},
     "output_type": "execute_result"
    }
   ],
   "source": [
    "#now reshaping the array\n",
    "arr = arr.reshape(5,10)\n",
    "#but we have to make sure that the shape is correct before reshaping\n",
    "#otherwise we will get an error, here we have 5 rows and 10 columns\n",
    "#which means 5*10 = 50 \n",
    "arr"
   ]
  },
  {
   "cell_type": "markdown",
   "metadata": {},
   "source": [
    "# Numpy Operations"
   ]
  },
  {
   "cell_type": "code",
   "execution_count": 123,
   "metadata": {
    "ExecuteTime": {
     "end_time": "2023-09-14T03:37:31.830345400Z",
     "start_time": "2023-09-14T03:37:31.157865200Z"
    }
   },
   "outputs": [
    {
     "data": {
      "text/plain": "array([ 0,  1,  2,  3,  4,  5,  6,  7,  8,  9, 10])"
     },
     "execution_count": 123,
     "metadata": {},
     "output_type": "execute_result"
    }
   ],
   "source": [
    "#create a new array from 0 to 10\n",
    "arr = np.arange(0,11)\n",
    "arr"
   ]
  },
  {
   "cell_type": "code",
   "execution_count": 124,
   "metadata": {
    "ExecuteTime": {
     "end_time": "2023-09-14T03:37:31.831343700Z",
     "start_time": "2023-09-14T03:37:31.174499900Z"
    }
   },
   "outputs": [
    {
     "data": {
      "text/plain": "array([ 0,  2,  4,  6,  8, 10, 12, 14, 16, 18, 20])"
     },
     "execution_count": 124,
     "metadata": {},
     "output_type": "execute_result"
    }
   ],
   "source": [
    "#addition\n",
    "arr + arr"
   ]
  },
  {
   "cell_type": "code",
   "execution_count": 125,
   "metadata": {
    "ExecuteTime": {
     "end_time": "2023-09-14T03:37:31.831343700Z",
     "start_time": "2023-09-14T03:37:31.197512300Z"
    }
   },
   "outputs": [
    {
     "data": {
      "text/plain": "array([0, 0, 0, 0, 0, 0, 0, 0, 0, 0, 0])"
     },
     "execution_count": 125,
     "metadata": {},
     "output_type": "execute_result"
    }
   ],
   "source": [
    "#substraction\n",
    "arr - arr"
   ]
  },
  {
   "cell_type": "code",
   "execution_count": 126,
   "metadata": {
    "ExecuteTime": {
     "end_time": "2023-09-14T03:37:31.832343800Z",
     "start_time": "2023-09-14T03:37:31.225515600Z"
    }
   },
   "outputs": [
    {
     "data": {
      "text/plain": "array([  0,   1,   4,   9,  16,  25,  36,  49,  64,  81, 100])"
     },
     "execution_count": 126,
     "metadata": {},
     "output_type": "execute_result"
    }
   ],
   "source": [
    "# multiplication\n",
    "arr * arr"
   ]
  },
  {
   "cell_type": "code",
   "execution_count": 127,
   "metadata": {
    "ExecuteTime": {
     "end_time": "2023-09-14T03:37:31.832343800Z",
     "start_time": "2023-09-14T03:37:31.248027200Z"
    }
   },
   "outputs": [
    {
     "name": "stdout",
     "output_type": "stream",
     "text": [
      "[100 101 102 103 104 105 106 107 108 109 110]\n",
      "[-100  -99  -98  -97  -96  -95  -94  -93  -92  -91  -90]\n",
      "[   0  100  200  300  400  500  600  700  800  900 1000]\n"
     ]
    }
   ],
   "source": [
    "#add,sub and mul with 100 and print that\n",
    "print(arr + 100)\n",
    "print(arr - 100)\n",
    "print(arr * 100)\n"
   ]
  },
  {
   "cell_type": "code",
   "execution_count": 128,
   "metadata": {
    "ExecuteTime": {
     "end_time": "2023-09-14T03:37:31.833343600Z",
     "start_time": "2023-09-14T03:37:31.268650800Z"
    }
   },
   "outputs": [
    {
     "data": {
      "text/plain": "0.0"
     },
     "execution_count": 128,
     "metadata": {},
     "output_type": "execute_result"
    }
   ],
   "source": [
    "#dividing 0 by 1\n",
    "0/1"
   ]
  },
  {
   "cell_type": "code",
   "execution_count": 129,
   "metadata": {
    "ExecuteTime": {
     "end_time": "2023-09-14T03:37:31.833343600Z",
     "start_time": "2023-09-14T03:37:31.288752400Z"
    }
   },
   "outputs": [
    {
     "name": "stderr",
     "output_type": "stream",
     "text": [
      "C:\\Users\\Rishat\\AppData\\Local\\Temp\\ipykernel_11564\\2630066039.py:3: RuntimeWarning: invalid value encountered in divide\n",
      "  arr/arr\n"
     ]
    },
    {
     "data": {
      "text/plain": "array([nan,  1.,  1.,  1.,  1.,  1.,  1.,  1.,  1.,  1.,  1.])"
     },
     "execution_count": 129,
     "metadata": {},
     "output_type": "execute_result"
    }
   ],
   "source": [
    "#we get an error\n",
    "#but in numpy if we do this let see what happens\n",
    "arr/arr\n",
    "#we get "
   ]
  },
  {
   "cell_type": "code",
   "execution_count": 130,
   "metadata": {
    "ExecuteTime": {
     "end_time": "2023-09-14T03:37:31.834344700Z",
     "start_time": "2023-09-14T03:37:31.305757100Z"
    }
   },
   "outputs": [
    {
     "data": {
      "text/plain": "array([  0,   1,   4,   9,  16,  25,  36,  49,  64,  81, 100])"
     },
     "execution_count": 130,
     "metadata": {},
     "output_type": "execute_result"
    }
   ],
   "source": [
    "#expomnent\n",
    "arr ** 2"
   ]
  },
  {
   "cell_type": "code",
   "execution_count": 131,
   "metadata": {
    "ExecuteTime": {
     "end_time": "2023-09-14T03:37:31.835344400Z",
     "start_time": "2023-09-14T03:37:31.329847600Z"
    }
   },
   "outputs": [
    {
     "data": {
      "text/plain": "array([0.        , 1.        , 1.41421356, 1.73205081, 2.        ,\n       2.23606798, 2.44948974, 2.64575131, 2.82842712, 3.        ,\n       3.16227766])"
     },
     "execution_count": 131,
     "metadata": {},
     "output_type": "execute_result"
    }
   ],
   "source": [
    "#square root\n",
    "np.sqrt(arr)"
   ]
  },
  {
   "cell_type": "code",
   "execution_count": 132,
   "metadata": {
    "ExecuteTime": {
     "end_time": "2023-09-14T03:37:31.835344400Z",
     "start_time": "2023-09-14T03:37:31.352579Z"
    }
   },
   "outputs": [
    {
     "data": {
      "text/plain": "array([1.00000000e+00, 2.71828183e+00, 7.38905610e+00, 2.00855369e+01,\n       5.45981500e+01, 1.48413159e+02, 4.03428793e+02, 1.09663316e+03,\n       2.98095799e+03, 8.10308393e+03, 2.20264658e+04])"
     },
     "execution_count": 132,
     "metadata": {},
     "output_type": "execute_result"
    }
   ],
   "source": [
    "#exponential\n",
    "np.exp(arr)\n"
   ]
  },
  {
   "cell_type": "code",
   "execution_count": 133,
   "metadata": {
    "ExecuteTime": {
     "end_time": "2023-09-14T03:37:31.836345100Z",
     "start_time": "2023-09-14T03:37:31.372634800Z"
    }
   },
   "outputs": [
    {
     "data": {
      "text/plain": "array([ 0.        ,  0.84147098,  0.90929743,  0.14112001, -0.7568025 ,\n       -0.95892427, -0.2794155 ,  0.6569866 ,  0.98935825,  0.41211849,\n       -0.54402111])"
     },
     "execution_count": 133,
     "metadata": {},
     "output_type": "execute_result"
    }
   ],
   "source": [
    "#sin\n",
    "np.sin(arr)"
   ]
  },
  {
   "cell_type": "code",
   "execution_count": 134,
   "metadata": {
    "ExecuteTime": {
     "end_time": "2023-09-14T03:37:31.838344400Z",
     "start_time": "2023-09-14T03:37:31.389419900Z"
    }
   },
   "outputs": [
    {
     "name": "stderr",
     "output_type": "stream",
     "text": [
      "C:\\Users\\Rishat\\AppData\\Local\\Temp\\ipykernel_11564\\866679089.py:2: RuntimeWarning: divide by zero encountered in log\n",
      "  np.log(arr)\n"
     ]
    },
    {
     "data": {
      "text/plain": "array([      -inf, 0.        , 0.69314718, 1.09861229, 1.38629436,\n       1.60943791, 1.79175947, 1.94591015, 2.07944154, 2.19722458,\n       2.30258509])"
     },
     "execution_count": 134,
     "metadata": {},
     "output_type": "execute_result"
    }
   ],
   "source": [
    "#log\n",
    "np.log(arr)"
   ]
  },
  {
   "cell_type": "markdown",
   "metadata": {},
   "source": [
    "universal function list __[Scipy](https://numpy.org/doc/stable/reference/ufuncs.html)__"
   ]
  },
  {
   "cell_type": "markdown",
   "metadata": {},
   "source": [
    "# Greate JOB!!!!"
   ]
  }
 ],
 "metadata": {
  "kernelspec": {
   "display_name": "base",
   "language": "python",
   "name": "python3"
  },
  "language_info": {
   "codemirror_mode": {
    "name": "ipython",
    "version": 3
   },
   "file_extension": ".py",
   "mimetype": "text/x-python",
   "name": "python",
   "nbconvert_exporter": "python",
   "pygments_lexer": "ipython3",
   "version": "3.11.4"
  },
  "orig_nbformat": 4
 },
 "nbformat": 4,
 "nbformat_minor": 2
}
