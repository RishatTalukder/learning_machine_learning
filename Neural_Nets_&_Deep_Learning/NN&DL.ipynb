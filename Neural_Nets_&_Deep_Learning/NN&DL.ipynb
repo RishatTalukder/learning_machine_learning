{
 "cells": [
  {
   "cell_type": "markdown",
   "metadata": {},
   "source": [
    "<h1 align=\"center\">Beginners Guide to Neural Networks & Deep Learning</h1>\n",
    "<h6 align=\"center\">An Introduction to Machine Learning by Md. Rishat Talukder</h6>\n",
    "\n",
    "Neural Networks are the building blocks of Deep Learning. They are a the entry point to the world of Artificial Intelligence. Neural Networks are inspired by the human brain and are designed to simulate the way that humans learn but in a mathematical way. In this article, we will learn about the basics of Neural Networks, how they work, and how they are trained and how you can do it using Python.\n",
    "\n",
    "*** Pre-requisites:\n",
    "\n",
    "- Basic understanding of Python\n",
    "- Basic understanding of Mathematics\n",
    "- Basic understanding of Machine Learning concepts and algorithms\n",
    "- Basics of numpy, pandas, and matplotlib libraries\n",
    "\n",
    "*** Table of Contents:\n",
    "\n",
    "<!-- will be added later -->\n",
    "\n",
    "\n",
    "# Introduction\n",
    "\n",
    "`Neural Networks` are a set of `algorithms`, `modeled loosely` after the `human brain`, that are designed to `recognize patterns`. They `interpret sensory data` through a kind of `machine perception`, `labeling`, or `clustering` of raw input. The patterns they recognize are `numerical` and contained in `vectors`, into which all real-world data (images, sound, text, etc.) must be `translated`.\n",
    "\n",
    "`Neural Networks` help us `cluster` and `classify`. You can think of them as a `cluster of data` that can be trained to `recognize patterns`. They can be used to `model complex patterns` and `prediction problems` that are `non-linear` in nature.\n",
    "\n",
    "Now, to make things more clear about this article, Here are some of the key points that we will cover in this article:\n",
    "\n",
    "- Part 1: Theory\n",
    "    - Perceptron model\n",
    "    - Activation Functions\n",
    "    - Cost function\n",
    "    - Feedforward Neural Networks\n",
    "    - Backpropagation\n",
    "\n",
    "- Part 2: Implementation\n",
    "    - Basics of TensorFlow syntax\n",
    "    - Building a Neural Network using TensorFlow\n",
    "    - Keras API\n",
    "    - ANN With Keras\n",
    "        - Regression\n",
    "        - Classification\n",
    "    - Tensorboard Visualization\n",
    "\n",
    "- Part 3: A Simple Project\n",
    "\n",
    "# Part 1: Theory\n",
    "\n",
    "## Perceptron Model\n",
    "\n"
   ]
  },
  {
   "cell_type": "code",
   "execution_count": null,
   "metadata": {},
   "outputs": [],
   "source": []
  }
 ],
 "metadata": {
  "language_info": {
   "name": "python"
  }
 },
 "nbformat": 4,
 "nbformat_minor": 2
}
