{
 "cells": [
  {
   "attachments": {
    "image.png": {
     "image/png": "[encoded data removed]"
    }
   },
   "cell_type": "markdown",
   "metadata": {},
   "source": [
    "<h1 style=\"text-align: center\"> Natural Language Processing (NLP) </h1>\n",
    "<h5 style=\"text-align: center\"> An introduction to Machine Learning </h5>\n",
    "\n",
    "NLP is a fascinating field at the intersection of computer science and linguistics, and it's a key component of many of the technologies we use every day, from search engines to virtual assistants.\n",
    "\n",
    "In this Article, we'll dive into the core concepts of NLP, explore various techniques, and see how we can apply them to real-world problems. Whether you're a seasoned data scientist or just starting out, there's something here for you.\n",
    "\n",
    "If you're interested in Machine Learning and Data Science, I invite you to follow me on my various platforms:\n",
    "\n",
    "- [LinkedIn](https://www.linkedin.com/in/md-rishat-talukder-a22157239/)\n",
    "- [GitHub](https://github.com/RishatTalukder/learning_machine_learning/tree/main)\n",
    "- [YouTube](https://www.youtube.com/channel/UCEEkKXpAkSwcMaIHnGi3Niw)\n",
    "\n",
    "Prerequisites:\n",
    "\n",
    "- Basic knowledge of Python\n",
    "- Familiarity with Machine Learning concepts\n",
    "- NumPy, Pandas, and Matplotlib libraries\n",
    "\n",
    "Let's get started!\n",
    "\n",
    "**Table of contents**<a id='toc0_'></a>    \n",
    "- [Introduction](#toc1_)    \n",
    "  - [What & How of NLP](#toc1_1_)    \n",
    "    - [What is NLP?](#toc1_1_1_)    \n",
    "    - [How does NLP work?](#toc1_1_2_)    \n",
    "- [Natural Language Processing using Python](#toc2_)    \n",
    "  - [NLTK Basics](#toc2_1_)    \n",
    "  - [What Kind of Data are we dealing with?](#toc2_2_)    \n",
    "  - [Feature Engineering](#toc2_3_)    \n",
    "  - [Text Preprocessing](#toc2_4_)    \n",
    "    - [Bag of Words](#toc2_4_1_)    \n",
    "      - [Tokenization](#toc2_4_1_1_)    \n",
    "      - [Vectorization](#toc2_4_1_2_)    \n",
    "    - [TF-IDF](#toc2_4_2_)    \n",
    "- [Conclusion](#toc2_5_)    \n",
    "        - [happy NLPing 😁](#toc2_5_1_1_1_)    \n",
    "\n",
    "# <a id='toc1_'></a>[Introduction](#toc0_)\n",
    "\n",
    "Natural Language Processing (NLP) is a subfield of artificial intelligence that focuses on the interaction between computers and humans using natural language. It's a fascinating field that has seen rapid growth in recent years, thanks to advances in machine learning and deep learning.\n",
    "\n",
    "Some Real World Applications of NLP are:\n",
    "\n",
    "- `Chatbots`\n",
    "- `CHAT GPT`\n",
    "- `Copilot`\n",
    "\n",
    "> Even 30% of this article was written by Copilot 😁\n",
    "\n",
    "## <a id='toc1_1_'></a>[What & How of NLP](#toc0_)\n",
    "\n",
    "### <a id='toc1_1_1_'></a>[What is NLP?](#toc0_)\n",
    "\n",
    "`Natural Language Processing (NLP)` is a very broad field that encompasses a wide range of tasks, from simple text processing to complex language understanding. As it is a `subfield of artificial intelligence`, it is concerned with the interaction between computers and humans using natural language.\n",
    "\n",
    "Suppose You work for a `customer service department` and you receive hundreds of `emails` every day. It would be impossible to read and respond to each one manually. \n",
    "\n",
    "Or you are a `doctor` and you have to go through hundreds of `medical records` to `diagnose` a patient. It would be very time-consuming and error-prone for you to do this manually.\n",
    "\n",
    "There are Hundreds of such examples where if it's done manually it would be very time-consuming and error-prone. This is where `NLP` comes in. It can help you `automate` these tasks and make your life easier.\n",
    "\n",
    "`NLP` can help you `extract information` from `text`, `classify` text into different categories, `summarize` text, `translate` text from one language to another, and much more.\n",
    "\n",
    "So, think of the first scenario where you receive hundreds of emails every day. You can use `NLP` to `automatically read` and `classify` these emails into different categories. This way, you can `prioritize` which emails to respond to first and which ones to respond to later. How this happens:\n",
    "\n",
    "- `Compile` all the emails into a single document.\n",
    "- `Featurize` the text data, meaning you would want to convert the text data into a format that can be used by a machine learning model.\n",
    "- `Compare` the Features of the text data to a set of predefined categories.\n",
    "\n",
    "These are the basic steps involved in `NLP` but there are many more advanced techniques that can be used to `extract information` from text data.\n",
    "\n",
    "### <a id='toc1_1_2_'></a>[How does NLP work?](#toc0_)\n",
    "\n",
    "Here's a simple example to illustrate how `NLP` works:\n",
    "\n",
    "Suppose you have two `documents`:\n",
    "\n",
    "- Document 1: \"Bob Likes Apples\"\n",
    "- Document 2: \"Sam Likes Oranges\"\n",
    "\n",
    "You want to `compare` these two documents to see if they are `similar` or `different`. We can:\n",
    "\n",
    "- `Tokenize` the documents, meaning we would split the documents into individual words. SO, the tokenized version of the documents would be:\n",
    "    - Document 1: [\"Bob\", \"Likes\", \"Apples\"]\n",
    "    - Document 2: [\"Sam\", \"Likes\", \"Oranges\"]\n",
    "\n",
    "- `Vectorize` the documents, meaning we would convert the words into numbers. We can use a technique called `Bag of Words` to do this. The vectorized version of the documents would be:\n",
    "\n",
    "`Bag of Words` is a simple technique that converts text data into a matrix of word counts. Each row in the matrix represents a document, and each column represents a word. The value in each cell represents the count of the word in the document.\n",
    "\n",
    "So, we compile all the words in the documents into a single list:\n",
    "\n",
    "`[\"Bob\", \"Sam\", \"Likes\", \"Apples\", \"Oranges\"]`\n",
    "\n",
    "Now, we can convert the documents into vectors:\n",
    "\n",
    "- Document 1: `\"Bob Likes Apples\"` -> `[\"Bob\": 1, \"Sam\": 0, \"Likes\": 1, \"Apples\": 1, \"Oranges\": 0]` -> `[1, 0, 1, 1, 0]`\n",
    "- Document 2: `\"Sam Likes Oranges\"` -> `[\"Bob\": 0, \"Sam\": 1, \"Likes\": 1, \"Apples\": 0, \"Oranges\": 1]` -> `[0, 1, 1, 0, 1]`\n",
    "\n",
    "Now, We have a fully `vectorized` version of each document. We can now `compare` these vectors to see if they are `similar` or `different`. This is very useful for `document classification` because we are treating the documents as `vectors` of `features`. SO, we can perform `mathematical operations` like `dot products` and `cosine similarity` to compare the documents.\n",
    "\n",
    "Now, I'm not going to go deep into the `mathematical details` of how these operations work, GO DO YOUR OWN RESEARCH 😁\n",
    "\n",
    "> `COSINE SIMILARITY` is a the `dot product` of two vectors `divided` by the `product` of the `magnitude` or `length` of the two vectors from the `origin`.\n",
    "\n",
    "![cosine](attachment:image.png)\n",
    "\n",
    "The `equation` for `cosine similarity` is:\n",
    "\n",
    "$$ \\text{Cosine Similarity} = \\frac{A \\cdot B}{||A|| \\times ||B||} $$\n",
    "\n",
    "Where `A` and `B` are the two vectors and `||A||` and `||B||` are the magnitudes of the two vectors."
   ]
  },
  {
   "cell_type": "markdown",
   "metadata": {},
   "source": [
    "We cna use `cosine similarity` to `compare` the `similarity` of two `documents`. If the `cosine similarity` is `close to 1`, then the documents are `similar`. If the `cosine similarity` is `close to 0`, then the documents are `different`.\n",
    "\n",
    "We can also imporve the `Bag of Words` model by adjusting the `word counts` based on the `frequency` of the words in the `corpus`.(A `corpus` is a collection of `documents`)\n",
    "- `TF-IDF` (Term Frequency-Inverse Document Frequency) is a technique that does this. It `weights` the `word counts` based on the `frequency` of the words in the `corpus`.\n",
    "\n",
    "`TF(Term Frequency)` is the `importance` of the `term` or `word` in the `document`. It is calculated as the `number of times` the `term` appears in the `document`. We represent it as:\n",
    "\n",
    "$$ \\text{TF(d, t)} = \\text{Number of times term t appears in document d} $$\n",
    "\n",
    "`IDF(Inverse Document Frequency)` is the `importance` of the `term` or `word` in the `corpus` meaning `all the documents`. It also means how `rare` the `term` is in the `corpus`. It is calculated as the `logarithm` of the `total number of documents` divided by the `number of documents` that contain the `term`. We represent it as:\n",
    "\n",
    "$$ \\text{IDF(t)} = \\log(\\frac{\\text{D}}{\\text{t}}) $$\n",
    "\n",
    "Where `D` is the `total number of documents` and `t` is the `number of documents` that contain the `term`.\n",
    "\n",
    "`TF-IDF` is calculated as the `product` of `TF` and `IDF`. It `weights` the `word counts` based on the `frequency` of the words in the `corpus`.\n",
    "\n",
    "$$ \\text{W(x, y)} = \\text{TF(x, y)} \\times \\text{IDF(x)} $$\n",
    "$$ \\text{W(x, y)} = \\text{Number of times term x appears in document y} \\times \\log(\\frac{\\text{N}}{\\text{df(x)}}) $$\n",
    "\n",
    "Here, \n",
    "\n",
    "- `N` is the `total number of documents`\n",
    "- `df(x)` is the `number of documents` that contain the `term x`\n",
    "- `TF(x, y)` is the `number of times` the `term x` appears in the `document y`\n",
    "\n",
    "`TF-IDF` is a very powerful technique that can help you `extract important information` from `text data`. We do this to get, not just the `word counts`, but the `importance` of the `words` in the `document`.\n",
    "\n",
    "This is just a `brief overview` of how `NLP` works. There are many more `advanced techniques` that can be used to `extract information` from `text data`.\n",
    "\n",
    "# <a id='toc2_'></a>[Natural Language Processing using Python](#toc0_)\n",
    "\n",
    "Now that we have a basic understanding of `NLP`, let's see how we can use `Python` to `perform NLP` tasks. We'll use the `Natural Language Toolkit (NLTK)` library, which is a `popular library` for `NLP` in `Python`.\n",
    "\n",
    "We have to `install` the `NLTK` library first. We can do this using the following command:\n",
    "\n",
    "```bash\n",
    "\n",
    "conda install nltk # If you are using Anaconda\n",
    "\n",
    "pip install nltk # If you are using pip\n",
    "\n",
    "```\n",
    "\n",
    "In this Article, I'll show you the workings of `NLP` using the `NLTK` library and build a `spam filter` using. In this process, we'll learn about `tokenization`, `stemming`, `lemmatization`, and `TF-IDF`.\n",
    "\n",
    "Let's get started!\n",
    "\n",
    "## <a id='toc2_1_'></a>[NLTK Basics](#toc0_)\n",
    "\n",
    "The `Natural Language Toolkit (NLTK)` is a `popular library` for `NLP` in `Python`. It provides a wide range of tools and resources for `text processing` and `analysis`. I hope you have already installed the `NLTK` library.\n",
    "\n",
    "Lets import the `NLTK` library and `download` some `resources`:\n"
   ]
  },
  {
   "cell_type": "code",
   "execution_count": 119,
   "metadata": {},
   "outputs": [],
   "source": [
    "import nltk"
   ]
  },
  {
   "cell_type": "markdown",
   "metadata": {},
   "source": [
    "Before going to the code, let me give you and overview. I'll use `nltk.download_shell()` to show you how to `download` the `resources`. You can `download` the `resources` and `corpora` that you need for your `NLP` tasks.\n",
    "\n",
    "This method will open a `shell` where you can `download` the `resources` and `corpora` that you need. You can `download` the `resources` by `selecting` the `number` of the `resource` you want to `download`.\n",
    "\n",
    "The shell will give you choices like:\n",
    "\n",
    "- `d` to `download` the `resource`\n",
    "- `q` to `quit` the `shell`\n",
    "- `l` to `list` the `resources`\n",
    "- `u` to `update` the `resources`\n",
    "\n",
    "SO, let's download the `resources` and `corpora` named `stopwords`."
   ]
  },
  {
   "cell_type": "code",
   "execution_count": 120,
   "metadata": {},
   "outputs": [],
   "source": [
    "#nltk.download_shell()"
   ]
  },
  {
   "cell_type": "markdown",
   "metadata": {},
   "source": [
    "Here I have downloaded the `stopwords` `corpora` using the `nltk.download_shell()` method. You can `download` the `resources` and `corpora` that you need for your `NLP` tasks too.\n",
    "\n",
    "Now, for info I'll use a dataset from `UCI Machine Learning Repository` named `SMS Spam Collection`. This dataset contains `SMS` messages that are `labeled` as `spam` or `ham` (not spam). We'll use this dataset to build a `spam filter` using `NLP`.\n",
    "\n",
    "You can `download` the `dataset` from this link (https://archive.ics.uci.edu/dataset/228/sms+spam+collection).\n",
    "\n",
    "And I also have the dataset in my `GitHub` repository. You can `download` it from there too. (https://github.com/RishatTalukder/learning_machine_learning/tree/main/Natural_Language_Processing/datasets/smsspamcollection)\n",
    "\n",
    "Now, let's start making the `spam filter` using `NLP`.\n",
    "\n",
    "## <a id='toc2_2_'></a>[What Kind of Data are we dealing with?](#toc0_)\n",
    "\n",
    "SO, we have a `dataset` that contains `SMS` messages that are `labeled` as `spam` or `ham` (not spam). But we need to `explore` the `data` first to see what kind of `data` we are dealing with and how we can `process` it.\n",
    "\n",
    "So, I'll simply `read` the `dataset` using `open()` method and `print` the `first few lines` just to get a `glimpse` of the `data` and I hope we can `understand` the `data` better."
   ]
  },
  {
   "cell_type": "code",
   "execution_count": 121,
   "metadata": {},
   "outputs": [],
   "source": [
    "# taking a line from the file and adding it to a list\n",
    "messages = [line.rstrip() for line in open('datasets/smsspamcollection/SMSSpamCollection',)]\n"
   ]
  },
  {
   "cell_type": "code",
   "execution_count": 122,
   "metadata": {},
   "outputs": [
    {
     "data": {
      "text/plain": [
       "5574"
      ]
     },
     "execution_count": 122,
     "metadata": {},
     "output_type": "execute_result"
    }
   ],
   "source": [
    "len(messages)"
   ]
  },
  {
   "cell_type": "markdown",
   "metadata": {},
   "source": [
    "So, you can see that the dataset has `5574` `SMS` messages that are `labeled` as `spam` or `ham` (not spam). Let's see the `first few lines` of the `data` to get a `glimpse` of the `data`."
   ]
  },
  {
   "cell_type": "code",
   "execution_count": 123,
   "metadata": {},
   "outputs": [
    {
     "data": {
      "text/plain": [
       "'ham\\tGo until jurong point, crazy.. Available only in bugis n great world la e buffet... Cine there got amore wat...'"
      ]
     },
     "execution_count": 123,
     "metadata": {},
     "output_type": "execute_result"
    }
   ],
   "source": [
    "messages[0]"
   ]
  },
  {
   "cell_type": "markdown",
   "metadata": {},
   "source": [
    "Well this does not look good. there is a `\\t` in the `data`, what does that mean? Let's `explore` the `data` further to see what's going on.\n",
    "\n",
    "> I'm dumbing down the code here, so that anyone can understand it. \n",
    "\n",
    "let's print the `first few lines` of the `data` to see what's going on."
   ]
  },
  {
   "cell_type": "code",
   "execution_count": 124,
   "metadata": {},
   "outputs": [
    {
     "name": "stdout",
     "output_type": "stream",
     "text": [
      "0 ham\tGo until jurong point, crazy.. Available only in bugis n great world la e buffet... Cine there got amore wat...\n",
      "1 ham\tOk lar... Joking wif u oni...\n",
      "2 spam\tFree entry in 2 a wkly comp to win FA Cup final tkts 21st May 2005. Text FA to 87121 to receive entry question(std txt rate)T&C's apply 08452810075over18's\n",
      "3 ham\tU dun say so early hor... U c already then say...\n",
      "4 ham\tNah I don't think he goes to usf, he lives around here though\n",
      "5 spam\tFreeMsg Hey there darling it's been 3 week's now and no word back! I'd like some fun you up for it still? Tb ok! XxX std chgs to send, £1.50 to rcv\n",
      "6 ham\tEven my brother is not like to speak with me. They treat me like aids patent.\n",
      "7 ham\tAs per your request 'Melle Melle (Oru Minnaminunginte Nurungu Vettam)' has been set as your callertune for all Callers. Press *9 to copy your friends Callertune\n",
      "8 spam\tWINNER!! As a valued network customer you have been selected to receivea £900 prize reward! To claim call 09061701461. Claim code KL341. Valid 12 hours only.\n",
      "9 spam\tHad your mobile 11 months or more? U R entitled to Update to the latest colour mobiles with camera for Free! Call The Mobile Update Co FREE on 08002986030\n"
     ]
    }
   ],
   "source": [
    "for mess_no, msg in enumerate(messages[:10]):\n",
    "    print(mess_no, msg)"
   ]
  },
  {
   "cell_type": "markdown",
   "metadata": {},
   "source": [
    "Well that is interesting. The `print` statement is `splitting` the `data` into `two columns` based on the `tab` character. SO, now we know what the `\\t` means. It is the `tab` character that `separates` the `label` from the `message`.\n",
    "\n",
    "Which means if we make a `dataframe` using this `data`, we have to `split` the `data` into `two columns` based on the `tab` character. "
   ]
  },
  {
   "cell_type": "code",
   "execution_count": 125,
   "metadata": {},
   "outputs": [
    {
     "data": {
      "text/html": [
       "<div>\n",
       "<style scoped>\n",
       "    .dataframe tbody tr th:only-of-type {\n",
       "        vertical-align: middle;\n",
       "    }\n",
       "\n",
       "    .dataframe tbody tr th {\n",
       "        vertical-align: top;\n",
       "    }\n",
       "\n",
       "    .dataframe thead th {\n",
       "        text-align: right;\n",
       "    }\n",
       "</style>\n",
       "<table border=\"1\" class=\"dataframe\">\n",
       "  <thead>\n",
       "    <tr style=\"text-align: right;\">\n",
       "      <th></th>\n",
       "      <th>label</th>\n",
       "      <th>message</th>\n",
       "    </tr>\n",
       "  </thead>\n",
       "  <tbody>\n",
       "    <tr>\n",
       "      <th>0</th>\n",
       "      <td>ham</td>\n",
       "      <td>Go until jurong point, crazy.. Available only ...</td>\n",
       "    </tr>\n",
       "    <tr>\n",
       "      <th>1</th>\n",
       "      <td>ham</td>\n",
       "      <td>Ok lar... Joking wif u oni...</td>\n",
       "    </tr>\n",
       "    <tr>\n",
       "      <th>2</th>\n",
       "      <td>spam</td>\n",
       "      <td>Free entry in 2 a wkly comp to win FA Cup fina...</td>\n",
       "    </tr>\n",
       "    <tr>\n",
       "      <th>3</th>\n",
       "      <td>ham</td>\n",
       "      <td>U dun say so early hor... U c already then say...</td>\n",
       "    </tr>\n",
       "    <tr>\n",
       "      <th>4</th>\n",
       "      <td>ham</td>\n",
       "      <td>Nah I don't think he goes to usf, he lives aro...</td>\n",
       "    </tr>\n",
       "  </tbody>\n",
       "</table>\n",
       "</div>"
      ],
      "text/plain": [
       "  label                                            message\n",
       "0   ham  Go until jurong point, crazy.. Available only ...\n",
       "1   ham                      Ok lar... Joking wif u oni...\n",
       "2  spam  Free entry in 2 a wkly comp to win FA Cup fina...\n",
       "3   ham  U dun say so early hor... U c already then say...\n",
       "4   ham  Nah I don't think he goes to usf, he lives aro..."
      ]
     },
     "execution_count": 125,
     "metadata": {},
     "output_type": "execute_result"
    }
   ],
   "source": [
    "import numpy as np\n",
    "import pandas as pd \n",
    "\n",
    "messeges = pd.read_csv('datasets/smsspamcollection/SMSSpamCollection', sep='\\t', names=['label', 'message'])\n",
    "messeges.head()"
   ]
  },
  {
   "cell_type": "markdown",
   "metadata": {},
   "source": [
    "Here we have a `dataframe` that contains `two columns` named `label` and `message`. The `label` column contains the `labels` of the `SMS` messages (spam or ham) and the `message` column contains the `text` of the `SMS` messages.\n",
    "\n",
    "Now, time for further `exploration` of the `data`. \n",
    "\n",
    "\n",
    "\n",
    "\n",
    "\n",
    "\n",
    "\n",
    "\n",
    "\n",
    "\n",
    "\n",
    "\n",
    "\n",
    "\n",
    "\n",
    "\n",
    "\n",
    "\n",
    "\n"
   ]
  },
  {
   "cell_type": "code",
   "execution_count": 126,
   "metadata": {},
   "outputs": [
    {
     "data": {
      "text/html": [
       "<div>\n",
       "<style scoped>\n",
       "    .dataframe tbody tr th:only-of-type {\n",
       "        vertical-align: middle;\n",
       "    }\n",
       "\n",
       "    .dataframe tbody tr th {\n",
       "        vertical-align: top;\n",
       "    }\n",
       "\n",
       "    .dataframe thead th {\n",
       "        text-align: right;\n",
       "    }\n",
       "</style>\n",
       "<table border=\"1\" class=\"dataframe\">\n",
       "  <thead>\n",
       "    <tr style=\"text-align: right;\">\n",
       "      <th></th>\n",
       "      <th>label</th>\n",
       "      <th>message</th>\n",
       "    </tr>\n",
       "  </thead>\n",
       "  <tbody>\n",
       "    <tr>\n",
       "      <th>count</th>\n",
       "      <td>5572</td>\n",
       "      <td>5572</td>\n",
       "    </tr>\n",
       "    <tr>\n",
       "      <th>unique</th>\n",
       "      <td>2</td>\n",
       "      <td>5169</td>\n",
       "    </tr>\n",
       "    <tr>\n",
       "      <th>top</th>\n",
       "      <td>ham</td>\n",
       "      <td>Sorry, I'll call later</td>\n",
       "    </tr>\n",
       "    <tr>\n",
       "      <th>freq</th>\n",
       "      <td>4825</td>\n",
       "      <td>30</td>\n",
       "    </tr>\n",
       "  </tbody>\n",
       "</table>\n",
       "</div>"
      ],
      "text/plain": [
       "       label                 message\n",
       "count   5572                    5572\n",
       "unique     2                    5169\n",
       "top      ham  Sorry, I'll call later\n",
       "freq    4825                      30"
      ]
     },
     "execution_count": 126,
     "metadata": {},
     "output_type": "execute_result"
    }
   ],
   "source": [
    "messeges.describe()"
   ]
  },
  {
   "cell_type": "markdown",
   "metadata": {},
   "source": [
    "The `describe()` method gives us some `basic statistics` about the `data`. In this case, we have the unique `labels` and the `frequency` of the `labels` in the `data` as well as the `top` and `frequency` of the `top` `message`.\n",
    "\n",
    "We can see that the dataset has `5574` `SMS` messages that are `labeled` as `spam` or `ham` (not spam). But we have less `unique` `labels` than the `total` `SMS` messages. This means that there are `duplicate` `SMS` messages in the `data`.\n",
    "\n",
    "THis makes sense because the `SMS` messages might have been `sent` to `multiple` `recipients`, for example. `sorry, I'm busy` or `I'm on my way` etc.\n",
    "\n",
    "Now, we can see that the `top` `message` is a `ham` message `sorry, I'll call later`. This is the `most frequent` `message` in the `data`.\n",
    "\n",
    "I want to know the top `spam` message too. It's because I want to see what kind of `spam` messages are in the `data`."
   ]
  },
  {
   "cell_type": "code",
   "execution_count": 127,
   "metadata": {},
   "outputs": [
    {
     "data": {
      "text/html": [
       "<div>\n",
       "<style scoped>\n",
       "    .dataframe tbody tr th:only-of-type {\n",
       "        vertical-align: middle;\n",
       "    }\n",
       "\n",
       "    .dataframe tbody tr th {\n",
       "        vertical-align: top;\n",
       "    }\n",
       "\n",
       "    .dataframe thead tr th {\n",
       "        text-align: left;\n",
       "    }\n",
       "\n",
       "    .dataframe thead tr:last-of-type th {\n",
       "        text-align: right;\n",
       "    }\n",
       "</style>\n",
       "<table border=\"1\" class=\"dataframe\">\n",
       "  <thead>\n",
       "    <tr>\n",
       "      <th></th>\n",
       "      <th colspan=\"4\" halign=\"left\">message</th>\n",
       "    </tr>\n",
       "    <tr>\n",
       "      <th></th>\n",
       "      <th>count</th>\n",
       "      <th>unique</th>\n",
       "      <th>top</th>\n",
       "      <th>freq</th>\n",
       "    </tr>\n",
       "    <tr>\n",
       "      <th>label</th>\n",
       "      <th></th>\n",
       "      <th></th>\n",
       "      <th></th>\n",
       "      <th></th>\n",
       "    </tr>\n",
       "  </thead>\n",
       "  <tbody>\n",
       "    <tr>\n",
       "      <th>ham</th>\n",
       "      <td>4825</td>\n",
       "      <td>4516</td>\n",
       "      <td>Sorry, I'll call later</td>\n",
       "      <td>30</td>\n",
       "    </tr>\n",
       "    <tr>\n",
       "      <th>spam</th>\n",
       "      <td>747</td>\n",
       "      <td>653</td>\n",
       "      <td>Please call our customer service representativ...</td>\n",
       "      <td>4</td>\n",
       "    </tr>\n",
       "  </tbody>\n",
       "</table>\n",
       "</div>"
      ],
      "text/plain": [
       "      message                                                               \n",
       "        count unique                                                top freq\n",
       "label                                                                       \n",
       "ham      4825   4516                             Sorry, I'll call later   30\n",
       "spam      747    653  Please call our customer service representativ...    4"
      ]
     },
     "execution_count": 127,
     "metadata": {},
     "output_type": "execute_result"
    }
   ],
   "source": [
    "messeges.groupby('label').describe()"
   ]
  },
  {
   "cell_type": "markdown",
   "metadata": {},
   "source": [
    "Ans this is how you see the `top` `spam` and `ham` `messages` in the `data`. The `top` `spam` message is `please call our customer service representative on 0800 169 6031` and the `top` `ham` message is `sorry, I'll call later`.\n",
    "\n",
    "## <a id='toc2_3_'></a>[Feature Engineering](#toc0_)\n",
    "\n",
    "A big part of `Machine Learning` is `feature engineering`. It's the process of `creating new features` from the `existing features` which can help the `machine learning model` to `learn` better.\n",
    "\n",
    "Feature engineering is a very important step in the `machine learning pipeline`. It can help you `improve` the `performance` of your `machine learning model` and `extract important information` from the `data`.\n",
    "\n",
    "The more domain knowledge you have, the better you can `engineer features` from the `data`. You can `create new features` from the `existing features` like I can `create` a `new feature` from the `message` column that contains the `length` of the `message`.\n"
   ]
  },
  {
   "cell_type": "code",
   "execution_count": 128,
   "metadata": {},
   "outputs": [],
   "source": [
    "messeges['length'] = messeges['message'].apply(len)"
   ]
  },
  {
   "cell_type": "code",
   "execution_count": 129,
   "metadata": {},
   "outputs": [
    {
     "data": {
      "text/html": [
       "<div>\n",
       "<style scoped>\n",
       "    .dataframe tbody tr th:only-of-type {\n",
       "        vertical-align: middle;\n",
       "    }\n",
       "\n",
       "    .dataframe tbody tr th {\n",
       "        vertical-align: top;\n",
       "    }\n",
       "\n",
       "    .dataframe thead th {\n",
       "        text-align: right;\n",
       "    }\n",
       "</style>\n",
       "<table border=\"1\" class=\"dataframe\">\n",
       "  <thead>\n",
       "    <tr style=\"text-align: right;\">\n",
       "      <th></th>\n",
       "      <th>label</th>\n",
       "      <th>message</th>\n",
       "      <th>length</th>\n",
       "    </tr>\n",
       "  </thead>\n",
       "  <tbody>\n",
       "    <tr>\n",
       "      <th>0</th>\n",
       "      <td>ham</td>\n",
       "      <td>Go until jurong point, crazy.. Available only ...</td>\n",
       "      <td>111</td>\n",
       "    </tr>\n",
       "    <tr>\n",
       "      <th>1</th>\n",
       "      <td>ham</td>\n",
       "      <td>Ok lar... Joking wif u oni...</td>\n",
       "      <td>29</td>\n",
       "    </tr>\n",
       "    <tr>\n",
       "      <th>2</th>\n",
       "      <td>spam</td>\n",
       "      <td>Free entry in 2 a wkly comp to win FA Cup fina...</td>\n",
       "      <td>155</td>\n",
       "    </tr>\n",
       "    <tr>\n",
       "      <th>3</th>\n",
       "      <td>ham</td>\n",
       "      <td>U dun say so early hor... U c already then say...</td>\n",
       "      <td>49</td>\n",
       "    </tr>\n",
       "    <tr>\n",
       "      <th>4</th>\n",
       "      <td>ham</td>\n",
       "      <td>Nah I don't think he goes to usf, he lives aro...</td>\n",
       "      <td>61</td>\n",
       "    </tr>\n",
       "  </tbody>\n",
       "</table>\n",
       "</div>"
      ],
      "text/plain": [
       "  label                                            message  length\n",
       "0   ham  Go until jurong point, crazy.. Available only ...     111\n",
       "1   ham                      Ok lar... Joking wif u oni...      29\n",
       "2  spam  Free entry in 2 a wkly comp to win FA Cup fina...     155\n",
       "3   ham  U dun say so early hor... U c already then say...      49\n",
       "4   ham  Nah I don't think he goes to usf, he lives aro...      61"
      ]
     },
     "execution_count": 129,
     "metadata": {},
     "output_type": "execute_result"
    }
   ],
   "source": [
    "messeges.head()"
   ]
  },
  {
   "cell_type": "markdown",
   "metadata": {},
   "source": [
    "And now we have an extra column named `length` that contains the `length` of the `message`. This is a `new feature` that we have `engineered` from the `existing features`.\n",
    "\n",
    "Now time to `visualize` the `data` to see if we can `extract` any `important information` from the `data`.\n",
    "\n",
    "To do that I'll start with importing the `famous` `plotting` library `matplotlib` and `seaborn` for `data visualization`."
   ]
  },
  {
   "cell_type": "code",
   "execution_count": 130,
   "metadata": {},
   "outputs": [],
   "source": [
    "import matplotlib.pyplot as plt\n",
    "import seaborn as sns\n",
    "\n",
    "%matplotlib inline"
   ]
  },
  {
   "cell_type": "markdown",
   "metadata": {},
   "source": [
    "Now we can do some `data visualization`."
   ]
  },
  {
   "cell_type": "code",
   "execution_count": 131,
   "metadata": {},
   "outputs": [
    {
     "data": {
      "text/plain": [
       "<Axes: xlabel='length', ylabel='Count'>"
      ]
     },
     "execution_count": 131,
     "metadata": {},
     "output_type": "execute_result"
    },
    {
     "data": {
      "image/png": "[encoded data removed]",
      "text/plain": [
       "<Figure size 1000x800 with 1 Axes>"
      ]
     },
     "metadata": {},
     "output_type": "display_data"
    }
   ],
   "source": [
    "plt.figure(figsize=(10, 8))\n",
    "sns.histplot(messeges['length'], bins=100, kde=True)"
   ]
  },
  {
   "cell_type": "markdown",
   "metadata": {},
   "source": [
    "> I suggest you play with the `bins` and `kde` values to see how the `distribution` of the `length` of the `messages` changes.\n",
    "\n",
    "In my `plot` you can see that the destribution of the `length` of the `messages` is `right-skewed`. This means that most of the `messages` are `short` and only a few `messages` are `long` but there is an exeption too. The has a `bi-modal` distribution going on.\n",
    "\n",
    "Meaning there are text massages that are quite `long`. Let's see some details about the `long` `messages`.\n"
   ]
  },
  {
   "cell_type": "code",
   "execution_count": 132,
   "metadata": {},
   "outputs": [
    {
     "data": {
      "text/plain": [
       "count    5572.000000\n",
       "mean       80.489950\n",
       "std        59.942907\n",
       "min         2.000000\n",
       "25%        36.000000\n",
       "50%        62.000000\n",
       "75%       122.000000\n",
       "max       910.000000\n",
       "Name: length, dtype: float64"
      ]
     },
     "execution_count": 132,
     "metadata": {},
     "output_type": "execute_result"
    }
   ],
   "source": [
    "messeges['length'].describe()"
   ]
  },
  {
   "cell_type": "markdown",
   "metadata": {},
   "source": [
    "Well, that's interesting. The `longest` `message` in the `data` is `910` `characters` long, that's a very long `message`, I wonder if it was from a girl, if that was the case, then I feel sorry for the guy 😁\n",
    "\n",
    "You know what? I really want to see the `longest` `message` in the `data`. \n"
   ]
  },
  {
   "cell_type": "code",
   "execution_count": 133,
   "metadata": {},
   "outputs": [
    {
     "name": "stdout",
     "output_type": "stream",
     "text": [
      "For me the love should start with attraction.i should feel that I need her every time around me.she should be the first thing which comes in my thoughts.I would start the day and end it with her.she should be there every time I dream.love will be then when my every breath has her name.my life should happen around her.my life will be named to her.I would cry for her.will give all my happiness and take all her sorrows.I will be ready to fight with anyone for her.I will be in love when I will be doing the craziest things for her.love will be when I don't have to proove anyone that my girl is the most beautiful lady on the whole planet.I will always be singing praises for her.love will be when I start up making chicken curry and end up makiing sambar.life will be the most beautiful then.will get every morning and thank god for the day because she is with me.I would like to say a lot..will tell later..\n"
     ]
    }
   ],
   "source": [
    "print(messeges[messeges['length'] == 910]['message'].iloc[0])"
   ]
  },
  {
   "cell_type": "markdown",
   "metadata": {},
   "source": [
    "I couldn't have been more wrong. The `longest` `message` is a `monologue` from `a random guy` about `love` and how he `feels` about it. 🥴\n",
    "\n",
    "With that out of the way, Let's see another `histogram` of the `length` of the `messages` based on the `label` column. Let's see if we can get some `insights` from the `data`."
   ]
  },
  {
   "cell_type": "code",
   "execution_count": 134,
   "metadata": {},
   "outputs": [
    {
     "data": {
      "text/plain": [
       "Text(0.5, 1.0, 'Spam Message Length')"
      ]
     },
     "execution_count": 134,
     "metadata": {},
     "output_type": "execute_result"
    },
    {
     "data": {
      "image/png": "[encoded data removed]",
      "text/plain": [
       "<Figure size 1200x800 with 2 Axes>"
      ]
     },
     "metadata": {},
     "output_type": "display_data"
    }
   ],
   "source": [
    "plt.figure(figsize=(12, 8))\n",
    "\n",
    "plt.subplot(1, 2, 1)\n",
    "sns.histplot(messeges[messeges['label'] == 'ham']['length'], bins=100, kde=True, color='blue')\n",
    "plt.title('Ham Message Length')\n",
    "\n",
    "plt.subplot(1, 2, 2)\n",
    "sns.histplot(messeges[messeges['label'] == 'spam']['length'], bins=100, kde=True, color='red')\n",
    "plt.title('Spam Message Length')"
   ]
  },
  {
   "cell_type": "markdown",
   "metadata": {},
   "source": [
    "This is a very hard way to `visualize` the `data`. You can use the `FacetGrid` or `pandas` built-in `plotting` methods to `visualize` the `data` in a more `efficient` way. I'll show you both because it will be a good practice for you."
   ]
  },
  {
   "cell_type": "code",
   "execution_count": 135,
   "metadata": {},
   "outputs": [
    {
     "data": {
      "text/plain": [
       "<seaborn.axisgrid.FacetGrid at 0x7e2d564bf090>"
      ]
     },
     "execution_count": 135,
     "metadata": {},
     "output_type": "execute_result"
    },
    {
     "data": {
      "image/png": "[encoded data removed]",
      "text/plain": [
       "<Figure size 1600x800 with 2 Axes>"
      ]
     },
     "metadata": {},
     "output_type": "display_data"
    }
   ],
   "source": [
    "sns.FacetGrid(messeges, col='label', height=8).map(plt.hist, 'length', bins=60,)"
   ]
  },
  {
   "cell_type": "code",
   "execution_count": 136,
   "metadata": {},
   "outputs": [
    {
     "data": {
      "text/plain": [
       "array([<Axes: title={'center': 'ham'}>, <Axes: title={'center': 'spam'}>],\n",
       "      dtype=object)"
      ]
     },
     "execution_count": 136,
     "metadata": {},
     "output_type": "execute_result"
    },
    {
     "data": {
      "image/png": "[encoded data removed]",
      "text/plain": [
       "<Figure size 1200x800 with 2 Axes>"
      ]
     },
     "metadata": {},
     "output_type": "display_data"
    }
   ],
   "source": [
    "#pandas plot\n",
    "messeges.hist(column='length', by='label', bins=60, figsize=(12, 8))"
   ]
  },
  {
   "cell_type": "markdown",
   "metadata": {},
   "source": [
    "SO, we can see that the `spam` `messages` are `longer` than the `ham` `messages`. `Ham` `messages` are `short` almost at the `5-100` `characters` range. But the `spam` `messages` are `long` and are in the `120-180` `characters` range.\n",
    "\n",
    "But if you have a look at the `facetgrid` `plot`, you can see that the `spam` `messages` are `longer` but the `ham` `messages` are `more` in `number`. This is very `important` information that will `effect` the `performance` of the `machine learning model` that we are going to build to `classify` the `messages` as `spam` or `ham`. \n",
    "\n",
    "Now, time for the next step,\n",
    "\n",
    "## <a id='toc2_4_'></a>[Text Preprocessing](#toc0_)\n",
    "\n",
    "`Text preprocessing` is a very important step in `NLP`. It involves `cleaning` and `transforming` the `text data` into a `format` that can be used by a `machine learning model`. As we have seen before(i'm  refering to my other articles), `machine learning models` cannot `work` with `text data` directly because they are `mathematical models` that require `numerical input`.\n",
    "\n",
    "But in our hand we have `string` `text data`. So, we have to `convert` the `text data` into a `format` that can be used by a `machine learning model`. This is where `text preprocessing` comes in.\n",
    "\n",
    "In the theory section, I have talked about the `bag of words` model and the `TF-IDF` technique. These are the `techniques` that we can use to `convert` the `text data` into a `format` that can be used by a `machine learning model`.\n",
    "\n",
    "### <a id='toc2_4_1_'></a>[Bag of Words](#toc0_)\n",
    "\n",
    "Let me give you a `reminder` of what the `bag of words` model is and how we transform the `text data` into a `bag of words`.\n",
    "\n",
    "The `bag of words` model is a `simple technique` that converts `text data` into a `matrix` of `word counts`. Each `row` in the `matrix` represents a `document`, and each `column` represents a `word`. The `value` in each `cell` represents the `count` of the `word` in the `document`.\n",
    "\n",
    "suppose we have two `documents`:\n",
    "\n",
    "- Document 1: \"Bob Likes Apples\"\n",
    "- Document 2: \"Bob Likes Oranges\"\n",
    "\n",
    "We split the `documents` into `individual words`:\n",
    "\n",
    "- Document 1: [\"Bob\", \"Likes\", \"Apples\"]\n",
    "- Document 2: [\"Bob\", \"Likes\", \"Oranges\"]\n",
    "\n",
    "We compile all the `words` in the `documents` into a `single list`:\n",
    "\n",
    "`[\"Bob\", \"Likes\", \"Apples\", \"Oranges\"]`\n",
    "\n",
    "Now, we can `convert` the `documents` into `vectors`:\n",
    "\n",
    "- Document 1: `\"Bob Likes Apples\"` -> `[\"Bob\": 1, \"Likes\": 1, \"Apples\": 1, \"Oranges\": 0]` -> `[1, 1, 1, 0]`\n",
    "\n",
    "- Document 2: `\"Bob Likes Oranges\"` -> `[\"Bob\": 1, \"Likes\": 1, \"Apples\": 0, \"Oranges\": 1]` -> `[1, 1, 0, 1]`\n",
    "\n",
    "Now, we have a `fully vectorized` version of each `document`. The spliting of the `documents` into `individual words` is called `tokenization` and the `conversion` of the `words` into `vectors` is called `vectorization`.\n",
    "\n",
    "And this whole process is called `bag of words` model. So, we start with `tokenization`.\n",
    "\n",
    "#### <a id='toc2_4_1_1_'></a>[Tokenization](#toc0_)\n",
    "\n",
    "As I have said before, `tokenization` is the process of `splitting` the `text data` into `individual words`. SO, let's `split` the `data`.\n",
    "\n",
    "To do all that we will use the `built-in` `string` `methods` in `Python`. We will also use the `split()` method to `split` the `data` into `individual words`.\n",
    "\n",
    "Let's me first demonstrate the `string` `methods` that we are going to use to `split` the `data`.\n"
   ]
  },
  {
   "cell_type": "code",
   "execution_count": 137,
   "metadata": {},
   "outputs": [],
   "source": [
    "import string"
   ]
  },
  {
   "cell_type": "code",
   "execution_count": 138,
   "metadata": {},
   "outputs": [],
   "source": [
    "# a sample message\n",
    "mess = 'Sample message! Notice: it has punctuation.'"
   ]
  },
  {
   "cell_type": "markdown",
   "metadata": {},
   "source": [
    "I have taken a sample string and I'll remove the `punctuation` from the `string` by using the `string.punctuation` which will return a `string` containing all the `punctuation` characters. "
   ]
  },
  {
   "cell_type": "code",
   "execution_count": 139,
   "metadata": {},
   "outputs": [
    {
     "data": {
      "text/plain": [
       "'!\"#$%&\\'()*+,-./:;<=>?@[\\\\]^_`{|}~'"
      ]
     },
     "execution_count": 139,
     "metadata": {},
     "output_type": "execute_result"
    }
   ],
   "source": [
    "string.punctuation"
   ]
  },
  {
   "cell_type": "markdown",
   "metadata": {},
   "source": [
    "Now We use string comprehehension to `remove` the `punctuation` from the `string` and then use `join()` method to `join` the `characters` into a `single string` again."
   ]
  },
  {
   "cell_type": "code",
   "execution_count": 140,
   "metadata": {},
   "outputs": [
    {
     "name": "stdout",
     "output_type": "stream",
     "text": [
      "Original message: Sample message! Notice: it has punctuation.\n",
      "After removing punctuation: ['S', 'a', 'm', 'p', 'l', 'e', ' ', 'm', 'e', 's', 's', 'a', 'g', 'e', ' ', 'N', 'o', 't', 'i', 'c', 'e', ' ', 'i', 't', ' ', 'h', 'a', 's', ' ', 'p', 'u', 'n', 'c', 't', 'u', 'a', 't', 'i', 'o', 'n']\n",
      "Complete message: Sample message Notice it has punctuation\n"
     ]
    }
   ],
   "source": [
    "no_punc = [char for char in mess if char not in string.punctuation]\n",
    "# meaning of the above code is that if the character is not in the string.punctuation then add it to the list\n",
    "\n",
    "print(f'Original message: {mess}')\n",
    "print(f'After removing punctuation: {no_punc}')\n",
    "\n",
    "# joining the list of characters to form a string\n",
    "no_punc = ''.join(no_punc) # this is the way to join a list of characters to form a string\n",
    "\n",
    "print(f'Complete message: {no_punc}')\n"
   ]
  },
  {
   "cell_type": "markdown",
   "metadata": {},
   "source": [
    "Now we have a `string` that does not contain any `punctuation`. \n",
    "\n",
    "Now, what we can do is `split` the `string` into `individual words` using the `split()` method. This will `split` the `string` into `individual words` based on the `space` character."
   ]
  },
  {
   "cell_type": "code",
   "execution_count": 141,
   "metadata": {},
   "outputs": [
    {
     "data": {
      "text/plain": [
       "['Sample', 'message', 'Notice', 'it', 'has', 'punctuation']"
      ]
     },
     "execution_count": 141,
     "metadata": {},
     "output_type": "execute_result"
    }
   ],
   "source": [
    "no_punc.split()"
   ]
  },
  {
   "cell_type": "markdown",
   "metadata": {},
   "source": [
    "Wel, that was easy right??? Wrong, this is just the `beginning`. We cannot just `split` the `data` into `individual words` and call it a day. We have to `clean` the `data` first.\n",
    "\n",
    "By `cleaning` the `data` I mean `removing` the `stopwords`, `lowercasing` the `data`, and `stemming` the `data.\n",
    "\n",
    "So, we start by removing the `stopwords` from the `data`.\n",
    "\n",
    "WE downloaded the `stopwords` `corpora` before. Now we can use the `stopwords` to `remove` the `stopwords` from the `data`."
   ]
  },
  {
   "cell_type": "code",
   "execution_count": 142,
   "metadata": {},
   "outputs": [
    {
     "data": {
      "text/plain": [
       "['i', 'me', 'my', 'myself', 'we', 'our', 'ours', 'ourselves', 'you', \"you're\"]"
      ]
     },
     "execution_count": 142,
     "metadata": {},
     "output_type": "execute_result"
    }
   ],
   "source": [
    "from nltk.corpus import stopwords\n",
    "\n",
    "stopwords.words('english')[:10]"
   ]
  },
  {
   "cell_type": "markdown",
   "metadata": {},
   "source": [
    "Here are the first `few` `stopwords` in the `corpora`. `stopwords` are `most common` `words` that do not `contribute` much to the `meaning` of the `text`. So, we can `remove` the `stopwords` from the `data` to `clean` the `data`. \n",
    "\n",
    "Now, we make another list that will contain the `words` that are `not` in the `stopwords` `corpora`. \n",
    "\n",
    ">Note: The words that are in the `stopwords` `corpora` are in `lowercase`, so we have to `lowercase` every `word` in the `data` to `compare` the `words` with the `stopwords`."
   ]
  },
  {
   "cell_type": "code",
   "execution_count": 143,
   "metadata": {},
   "outputs": [
    {
     "name": "stdout",
     "output_type": "stream",
     "text": [
      "Original msg with stopwords: ['Sample', 'message', 'Notice', 'it', 'has', 'punctuation']\n",
      "Clean msg: ['Sample', 'message', 'Notice', 'punctuation']\n"
     ]
    }
   ],
   "source": [
    "clean_msg = [word for word in no_punc.split() if word.lower() not in stopwords.words('english')]\n",
    "\n",
    "print(f'Original msg with stopwords: {no_punc.split()}')\n",
    "print(f'Clean msg: {clean_msg}')"
   ]
  },
  {
   "cell_type": "markdown",
   "metadata": {},
   "source": [
    "As you can see that `it` and `has` are `removed` from the `data` because they are `stopwords`. \n",
    "\n",
    "We won't lowercase the `data` yet. Because we are not `vectorizing` the `data` yet. SO, we have to `lowercase` the `data` before `vectorizing` the `data`.\n",
    "\n",
    "But now we have to think about how we can apply this `cleaning` to the `whole` `dataset`. We can use the `apply()` method to `apply` the `cleaning` to the `whole` `dataset`.\n",
    "\n",
    "But before using the `apply()` method, we have to `define` a `function` that will `clean` the `data` then we can use that `function` with the `apply()` method to `clean` the `whole` `dataset`."
   ]
  },
  {
   "cell_type": "code",
   "execution_count": 144,
   "metadata": {},
   "outputs": [],
   "source": [
    "def text_process(msg):\n",
    "    \"\"\"\n",
    "    1. Remove punctuation\n",
    "    2. Remove stopwords\n",
    "    3. Return list of clean text words\n",
    "    \"\"\"\n",
    "    no_punc = [char for char in msg if char not in string.punctuation]\n",
    "    no_punc = ''.join(no_punc)\n",
    "    return [word for word in no_punc.split() if word.lower() not in stopwords.words('english')]"
   ]
  },
  {
   "cell_type": "markdown",
   "metadata": {},
   "source": [
    "Now, we use this `function` with the `apply()` method to `clean` the `whole` `dataset`.\n",
    "\n",
    "I'll use the `first 5` `messages` to `demonstrate` the `cleaning` of the `data`."
   ]
  },
  {
   "cell_type": "code",
   "execution_count": 145,
   "metadata": {},
   "outputs": [
    {
     "data": {
      "text/html": [
       "<div>\n",
       "<style scoped>\n",
       "    .dataframe tbody tr th:only-of-type {\n",
       "        vertical-align: middle;\n",
       "    }\n",
       "\n",
       "    .dataframe tbody tr th {\n",
       "        vertical-align: top;\n",
       "    }\n",
       "\n",
       "    .dataframe thead th {\n",
       "        text-align: right;\n",
       "    }\n",
       "</style>\n",
       "<table border=\"1\" class=\"dataframe\">\n",
       "  <thead>\n",
       "    <tr style=\"text-align: right;\">\n",
       "      <th></th>\n",
       "      <th>label</th>\n",
       "      <th>message</th>\n",
       "      <th>length</th>\n",
       "    </tr>\n",
       "  </thead>\n",
       "  <tbody>\n",
       "    <tr>\n",
       "      <th>0</th>\n",
       "      <td>ham</td>\n",
       "      <td>Go until jurong point, crazy.. Available only ...</td>\n",
       "      <td>111</td>\n",
       "    </tr>\n",
       "    <tr>\n",
       "      <th>1</th>\n",
       "      <td>ham</td>\n",
       "      <td>Ok lar... Joking wif u oni...</td>\n",
       "      <td>29</td>\n",
       "    </tr>\n",
       "    <tr>\n",
       "      <th>2</th>\n",
       "      <td>spam</td>\n",
       "      <td>Free entry in 2 a wkly comp to win FA Cup fina...</td>\n",
       "      <td>155</td>\n",
       "    </tr>\n",
       "    <tr>\n",
       "      <th>3</th>\n",
       "      <td>ham</td>\n",
       "      <td>U dun say so early hor... U c already then say...</td>\n",
       "      <td>49</td>\n",
       "    </tr>\n",
       "    <tr>\n",
       "      <th>4</th>\n",
       "      <td>ham</td>\n",
       "      <td>Nah I don't think he goes to usf, he lives aro...</td>\n",
       "      <td>61</td>\n",
       "    </tr>\n",
       "  </tbody>\n",
       "</table>\n",
       "</div>"
      ],
      "text/plain": [
       "  label                                            message  length\n",
       "0   ham  Go until jurong point, crazy.. Available only ...     111\n",
       "1   ham                      Ok lar... Joking wif u oni...      29\n",
       "2  spam  Free entry in 2 a wkly comp to win FA Cup fina...     155\n",
       "3   ham  U dun say so early hor... U c already then say...      49\n",
       "4   ham  Nah I don't think he goes to usf, he lives aro...      61"
      ]
     },
     "execution_count": 145,
     "metadata": {},
     "output_type": "execute_result"
    }
   ],
   "source": [
    "messeges.head(5)"
   ]
  },
  {
   "cell_type": "code",
   "execution_count": 146,
   "metadata": {},
   "outputs": [
    {
     "data": {
      "text/plain": [
       "0    [Go, jurong, point, crazy, Available, bugis, n...\n",
       "1                       [Ok, lar, Joking, wif, u, oni]\n",
       "2    [Free, entry, 2, wkly, comp, win, FA, Cup, fin...\n",
       "3        [U, dun, say, early, hor, U, c, already, say]\n",
       "4    [Nah, dont, think, goes, usf, lives, around, t...\n",
       "Name: message, dtype: object"
      ]
     },
     "execution_count": 146,
     "metadata": {},
     "output_type": "execute_result"
    }
   ],
   "source": [
    "messeges['message'].head(5).apply(text_process)"
   ]
  },
  {
   "cell_type": "markdown",
   "metadata": {},
   "source": [
    "So, the `apply()` method `applies` the `cleaning` `function` to the `whole` `dataset` and in the end we have a `cleaned` `dataset`.\n",
    "\n",
    "Now, for the `stemming` part...\n",
    "\n",
    "`Stemming` is the process of `reducing` the `words` to their `root` or `base` form. For example, the `stem` of the `word` `running` is `run`. This can help us `reduce` the `dimensionality` of the `data` and `improve` the `performance` of the `machine learning model`. \n",
    "\n",
    "But for our data set, `stemming` is not a good idea. Because the `stemmed` `words` might not make any `sense` in the `context` of the `SMS` messages and also in the messages we have words like `U`, `r`, `ok`, `lol` etc. which are not `real` `words` but short forms of `real` `words`. So, `stemming` will not be a good idea for our `data`.\\\n",
    "\n",
    "> We will use the `text_process` function in the `vectorization` step.\n",
    "\n",
    "#### <a id='toc2_4_1_2_'></a>[Vectorization](#toc0_)\n",
    "\n",
    "Now, we have to `vectorize` the `data` using the `bag of words` model. We will use the `CountVectorizer` class from the `sklearn` library to `vectorize` the `data`. \n",
    "\n",
    "Before diving into the `vectorization` part, let me give you a brief overview of the `CountVectorizer` class.\n",
    "\n",
    "The `CountVectorizer` class is a `sklearn` `class` that `converts` a `collection` of `text documents` into a `matrix` of `token` `counts`. Each `row` in the `matrix` represents a `Word` and each `column` represents a `message`. The `value` in each `cell` represents the `count` of the `word` in the `message`.\n",
    "\n",
    "<table>\n",
    "    <tr>\n",
    "        <th></th>\n",
    "        <th>Message 1</th>\n",
    "        <th>Message 2</th>\n",
    "        <th>Message 3</th>\n",
    "    </tr>\n",
    "    <tr>\n",
    "        <td>Word 1</td>\n",
    "        <td>1</td>\n",
    "        <td>0</td>\n",
    "        <td>0</td>\n",
    "    </tr>\n",
    "    <tr>\n",
    "        <td>Word 2</td>\n",
    "        <td>0</td>\n",
    "        <td>1</td>\n",
    "        <td>0</td>\n",
    "    </tr>\n",
    "    <tr>\n",
    "        <td>Word 3</td>\n",
    "        <td>1</td>\n",
    "        <td>0</td>\n",
    "        <td>1</td>\n",
    "    </tr>\n",
    "\n",
    "</table>"
   ]
  },
  {
   "cell_type": "markdown",
   "metadata": {},
   "source": [
    "By the above table we can say that the `Word 1` is in the `Message 1` `once` but not in the `Message 2` and `Message 3`. On the other hand, the `Word 3` is in the `Message 1` and `Message 3` `once` but not in the `Message 2`.\n",
    "\n",
    "SO, we can use the `CountVectorizer` class to `convert` the `data` into a `matrix` of `word counts`. We will first `import` the `CountVectorizer` class from the `sklearn` library and then `initialize` the `CountVectorizer` class.\n",
    "\n",
    "As this is model transforms the `data` into a `matrix` of `word counts` and has a `column` for each `word` in the `data`, the `dimensionality` of the `data` will be `very high`. So, it makes a `sparse matrix` to `store` the `data`.\n",
    "\n",
    "what is a `sparse matrix`?\n",
    "\n",
    "A `sparse matrix` is a `matrix` that has `few` `non-zero` `elements`. It is used to `store` `large` `matrices` that have `few` `non-zero` `elements`. It is `efficient` in terms of `memory` because it does not `store` the `zero` `elements`. \n",
    "\n",
    "For resouce limitaions I can't show explain the `sparse matrix` in greater detail. But you can `research` it on your own. Here's a link to get you started (https://en.wikipedia.org/wiki/Sparse_matrix)"
   ]
  },
  {
   "cell_type": "code",
   "execution_count": 147,
   "metadata": {},
   "outputs": [],
   "source": [
    "from sklearn.feature_extraction.text import CountVectorizer"
   ]
  },
  {
   "cell_type": "markdown",
   "metadata": {},
   "source": [
    "Now we can fit our `messeges` to the `CountVectorizer` class and `transform` the `messages` into a `matrix` of `word counts`.\n",
    "\n",
    "> The  `CountVectorizer` class has a `lot` of `parameters` that you can `tune` to `improve` the `performance` of the `machine learning model` but we will use the `default` `parameters` for now and pass our `cleaner` `function` to the `CountVectorizer` class as the `analyzer` parameter. This way the `CountVectorizer` class will `clean` the `data` before `vectorizing` the `data` using the `cleaner` `function` we built before."
   ]
  },
  {
   "cell_type": "code",
   "execution_count": 148,
   "metadata": {},
   "outputs": [
    {
     "name": "stdout",
     "output_type": "stream",
     "text": [
      "Total number of vocabularies in the bag of words: 11425\n"
     ]
    }
   ],
   "source": [
    "#bag of words transformer\n",
    "bow_transformer = CountVectorizer(analyzer=text_process).fit(messeges['message'])\n",
    "\n",
    "print(f\"Total number of vocabularies in the bag of words: {len(bow_transformer.vocabulary_)}\")"
   ]
  },
  {
   "cell_type": "markdown",
   "metadata": {},
   "source": [
    "This might take a while to `transform` the `data` into a `matrix` of `word counts`. So, be `patient`.\n",
    "\n",
    "My `data` is `transformed` into a `matrix` of `word counts` and It has `11425` `unique` `words` in the `data` even after `cleaning` the `data`.\n",
    "\n",
    "Let's now explore the `bow_transformer` to see what we have `achieved`. LEt's get the `4th` `message` from the `data` and `transform` it into a `matrix` of `word counts`."
   ]
  },
  {
   "cell_type": "code",
   "execution_count": 149,
   "metadata": {},
   "outputs": [
    {
     "name": "stdout",
     "output_type": "stream",
     "text": [
      "Message 4: U dun say so early hor... U c already then say...\n"
     ]
    }
   ],
   "source": [
    "mess4 = messeges['message'][3]\n",
    "print(f'Message 4: {mess4}')"
   ]
  },
  {
   "cell_type": "code",
   "execution_count": 150,
   "metadata": {},
   "outputs": [
    {
     "name": "stdout",
     "output_type": "stream",
     "text": [
      "  (0, 4068)\t2\n",
      "  (0, 4629)\t1\n",
      "  (0, 5261)\t1\n",
      "  (0, 6204)\t1\n",
      "  (0, 6222)\t1\n",
      "  (0, 7186)\t1\n",
      "  (0, 9554)\t2\n"
     ]
    }
   ],
   "source": [
    "bow4 = bow_transformer.transform([mess4])\n",
    "print(bow4)"
   ]
  },
  {
   "cell_type": "code",
   "execution_count": 151,
   "metadata": {},
   "outputs": [
    {
     "data": {
      "text/plain": [
       "(1, 11425)"
      ]
     },
     "execution_count": 151,
     "metadata": {},
     "output_type": "execute_result"
    }
   ],
   "source": [
    "bow4.shape"
   ]
  },
  {
   "cell_type": "markdown",
   "metadata": {},
   "source": [
    "SO, we have successfully `transformed` the `4th` `message` into a `matrix` of `word counts`. YOu might get confused by the `numbers` in the `matrix` and the `shape` of the `matrix`. But don't worry, I'll explain it to you.\n",
    "\n",
    "the `shape` of the `matrix` is `(1, 11425)`. This means that the `matrix` has `1 row` and `11425 columns`. The row represents the `message` and the `columns` represent the `words` in the `data`.\n",
    "\n",
    "We see the output in something like this.\n",
    "\n",
    "```bash\n",
    "\n",
    "  (0, 4068)\t 2\n",
    "  (0, 4629)\t 1\n",
    "  (0, 5261)\t 1\n",
    "  (0, 6204)\t 1\n",
    "  (0, 6222)\t 1\n",
    "  (0, 7186)\t 1\n",
    "  (0, 9554)\t 2\n",
    "\n",
    "```\n",
    "\n",
    "This is a `sparse matrix` representation of the `message`. The `numbers` in the `matrix` represent the `count` of the `word` in the `message`. For example, the `word` at `index` `4068` appears `2` times in the `message`. \n",
    "\n",
    "this index is the `index` of the `word` in the transformed `data` we vectorized before.\n",
    "\n",
    "So, if you look carefully you can see that the there are `7` `words` in the `message` and the `word` at `index` `4068` appears `2` times in the `message`.\n",
    "\n",
    "So, let's see if it's true or not.\n",
    "\n",
    "> (0, 4068), here `0` is the `row` and `4068` is the `index` of the `word` in the `transformed` `data`."
   ]
  },
  {
   "cell_type": "code",
   "execution_count": 152,
   "metadata": {},
   "outputs": [
    {
     "data": {
      "text/plain": [
       "'U'"
      ]
     },
     "execution_count": 152,
     "metadata": {},
     "output_type": "execute_result"
    }
   ],
   "source": [
    "bow_transformer.get_feature_names_out()[4068]"
   ]
  },
  {
   "cell_type": "markdown",
   "metadata": {},
   "source": [
    "> We can use the `get_feature_names()` method to get the whole list of `words` in the `transformed` `data`.\n",
    "\n",
    "There you go.. \n",
    "\n",
    "We got the `word` at `index` `4068` is `U` and it appears `2` times in the `message`. Which is `true`.\n",
    "\n",
    "SO, we can be assured that the `CountVectorizer` class has `transformed` the `data` into a `matrix` of `word counts` successfully.\n",
    "\n",
    "Well, we have done a lot of `work` so far. We have `cleaned` the `data`, `transformed` the `data` into a `matrix` of `word counts`, and `vectorized` the `data`(not complete yet). Nwo what we can do is `TF-IDF` the `data`.\n",
    "\n",
    "\n",
    "### <a id='toc2_4_2_'></a>[TF-IDF](#toc0_)\n",
    "\n",
    "`TF-IDF` (Term Frequency-Inverse Document Frequency) is a `technique` that `weights` the `word counts` based on the `frequency` of the `words` in the `corpus`. It is a very `powerful technique` that can help you `extract important information` from `text data`.\n",
    "\n",
    "I have already talked about the `TF-IDF` technique in the `theory` section. So, I'll not go into the `details` of the `TF-IDF` technique. But I'll show you how to `TF-IDF` the `data` using the `TfidfTransformer` class from the `sklearn` library.\n",
    "\n",
    "But before that we need to get the `sparse matrix` of the `word counts` that we got from the `CountVectorizer` class. We can use the `bow_transformer` to `transform` the `data` into a `sparse matrix` of `word counts`."
   ]
  },
  {
   "cell_type": "code",
   "execution_count": 153,
   "metadata": {},
   "outputs": [
    {
     "name": "stdout",
     "output_type": "stream",
     "text": [
      "shape of the matrix: (5572, 11425)\n"
     ]
    }
   ],
   "source": [
    "msg_bow = bow_transformer.transform(messeges['message']) # passing the entire message column\n",
    "print(f\"shape of the matrix: {msg_bow.shape}\")"
   ]
  },
  {
   "cell_type": "markdown",
   "metadata": {},
   "source": [
    "And we have the `sparse matrix` of the `word counts` that we got from the `CountVectorizer` class. The shape of the `matrix` is `(5574, 11425)`. This means that the `matrix` has `5574 rows` and `11425 columns`. The `rows` represent the `messages` and the `columns` represent the `words` in the `data`. As this is a `sparse matrix`, it does not `store` the `zero` `elements`. So, we have a `lot` of `non-zero` `elements` in the `matrix`. Let's see it"
   ]
  },
  {
   "cell_type": "code",
   "execution_count": 154,
   "metadata": {},
   "outputs": [
    {
     "data": {
      "text/plain": [
       "50548"
      ]
     },
     "execution_count": 154,
     "metadata": {},
     "output_type": "execute_result"
    }
   ],
   "source": [
    "msg_bow.nnz # number of non-zero occurences"
   ]
  },
  {
   "cell_type": "markdown",
   "metadata": {},
   "source": [
    "Well, that's a `lot` of `non-zero` `elements` in the `matrix`, almost `51k` `non-zero` `elements`. This is because the `messages` has a `lot` of `unique` `words`.\n",
    "\n",
    "We can calculated the `sparsity` of the `matrix` by dividing the `number` of `non-zero` `elements` by the `total` `number` of `elements` in the `matrix`."
   ]
  },
  {
   "cell_type": "code",
   "execution_count": 155,
   "metadata": {},
   "outputs": [
    {
     "name": "stdout",
     "output_type": "stream",
     "text": [
      "Sparsity: 0.07940295412668218\n"
     ]
    }
   ],
   "source": [
    "sparsity = (100.0 * msg_bow.nnz / (msg_bow.shape[0] * msg_bow.shape[1]))\n",
    "print(f\"Sparsity: {sparsity}\")"
   ]
  },
  {
   "cell_type": "markdown",
   "metadata": {},
   "source": [
    "Sparsity tells us how `sparse` the `matrix` is. A `sparse matrix` is a `matrix` that has `few` `non-zero` `elements`. It is used to `store` `large` `matrices` that have `few` `non-zero` `elements`. It is `efficient` in terms of `memory` because it does not `store` the `zero` `elements`.\n",
    "\n",
    "In this case, the `sparsity` of the `matrix` is `0.0794`. This means that the `matrix` has `7.94%` `non-zero` `elements`. This is very `efficient` in terms of `memory` because it does not `store` the `zero` `elements`.\n",
    "\n",
    "Now we use the `TfidfTransformer` class to `TF-IDF` the `data`. We will `fit` the `sparse matrix` of the `word counts` to the `TfidfTransformer` class and `transform` the `sparse matrix` into a `matrix` of `TF-IDF` `values`."
   ]
  },
  {
   "cell_type": "code",
   "execution_count": 156,
   "metadata": {},
   "outputs": [
    {
     "name": "stdout",
     "output_type": "stream",
     "text": [
      "TFIDF of message 4: \n",
      "  (0, 9554)\t0.5385626262927564\n",
      "  (0, 7186)\t0.4389365653379857\n",
      "  (0, 6222)\t0.3187216892949149\n",
      "  (0, 6204)\t0.29953799723697416\n",
      "  (0, 5261)\t0.29729957405868723\n",
      "  (0, 4629)\t0.26619801906087187\n",
      "  (0, 4068)\t0.40832589933384067\n",
      "IDF of the word 'university': 8.527076498901426\n"
     ]
    }
   ],
   "source": [
    "from sklearn.feature_extraction.text import TfidfTransformer\n",
    "\n",
    "tfidf_transformer = TfidfTransformer().fit(msg_bow)\n",
    "\n",
    "# transforming the bag of words\n",
    "tfidf4 = tfidf_transformer.transform(bow4) # passing the bag of words of message 4\n",
    "\n",
    "print(f\"TFIDF of message 4: \\n{tfidf4}\")\n",
    "\n",
    "# we can also check the idf of a particular word\n",
    "print(f\"IDF of the word 'university': {tfidf_transformer.idf_[bow_transformer.vocabulary_['university']]}\")"
   ]
  },
  {
   "cell_type": "markdown",
   "metadata": {},
   "source": [
    "We can see the `Tf-Idf` `values` of the `4th` `message` in the `data`. The `Tf-Idf` `values` are `normalized` and `weighted` based on the `frequency` of the `words` in the `corpus`. \n",
    "\n",
    "Let's transform the `whole` `data` into a `matrix` of `TF-IDF` `values`."
   ]
  },
  {
   "cell_type": "code",
   "execution_count": 157,
   "metadata": {},
   "outputs": [],
   "source": [
    "msg_tfidf = tfidf_transformer.transform(msg_bow)"
   ]
  },
  {
   "cell_type": "markdown",
   "metadata": {},
   "source": [
    "Now, we can use any `machine learning model` to `classify` the `messages` as `spam` or `ham` now. If you know how to `classify` any data using `machine learning models`, then you can use any `machine learning model` to `classify` the `messages` as `spam` or `ham`.\n",
    "\n",
    "But in this case I'll use `Naive Bayes` `classifier` to `classify` the `messages` as `spam` or `ham`. I'll use the `MultinomialNB` class from the `sklearn` library to `classify` the `messages` as `spam` or `ham`."
   ]
  },
  {
   "cell_type": "code",
   "execution_count": 158,
   "metadata": {},
   "outputs": [],
   "source": [
    "from sklearn.model_selection import train_test_split\n",
    "from sklearn.naive_bayes import MultinomialNB\n",
    "\n",
    "msg_train, msg_test, label_train, label_test = train_test_split(messeges['message'], messeges['label'], test_size=0.3)"
   ]
  },
  {
   "cell_type": "markdown",
   "metadata": {},
   "source": [
    "Now, we have split the data into `training` and `testing` `data`. We have to go through the whole process of `cleaning` the `data`, `transforming` the `data` into a `matrix` of `word counts`, and `TF-IDF` the `data` for the `testing` `data` too and then we can `train` the `Naive Bayes` `classifier` on the `training` `data` and `test` the `classifier` on the `testing` `data`.\n",
    "\n",
    "SO, I'll go through the whole process of `cleaning` the `data`, `transforming` the `data` into a `matrix` of `word counts`, and `transforming` the `data` into a `matrix` of `TF-IDF` `values` for the `testing` `data` too.\n",
    "\n",
    "SKlearn has a great `pipeline` `feature` that can help you `automate` the `process` of `cleaning` the `data` and `transforming` the `data` too. I'll show you how to use the `pipeline` `feature` to `automate` the `process` of `cleaning` the `data` and `transforming` the `data`.\n",
    "\n",
    "The `pipeline` `feature` in `sklearn` is a `powerful` `tool` that can help you `automate` the `process` of `cleaning` the `data` and `transforming` the `data`. You can `chain` `multiple` `transformers` and `estimators` in a `pipeline` and `fit` the `pipeline` to the `data` to finally `predict` the `output`.\n",
    "\n",
    "It takes a `list` of `tuples` as an `argument`. The `tuples` contain the `name` of the `step` and the `transformer` or `estimator` that you want to `chain` in the `pipeline`.\n",
    "\n",
    "SO, LEt's think of what the chain of `transformers` and `estimators` will be in the `pipeline`.\n",
    "\n",
    "- `CountVectorizer` class to `transform` the `data` into a `matrix` of `word counts` or bag of words.\n",
    "- `TfidfTransformer` class to `transform` the `bow` `matrix` into a `matrix` of `TF-IDF` `values`.\n",
    "- `MultinomialNB` class to `classify` the `messages` as `spam` or `ham`.\n",
    "\n",
    "So we have to pass the `list` of `tuples` like this:\n"
   ]
  },
  {
   "cell_type": "code",
   "execution_count": 159,
   "metadata": {},
   "outputs": [],
   "source": [
    "from sklearn.pipeline import Pipeline\n",
    "pipeline = Pipeline([\n",
    "    ('bow', CountVectorizer(analyzer=text_process)), # bow is the name of the step and CountVectorizer is the transformer\n",
    "    ('tfidf', TfidfTransformer()), # tfidf is the name of the step and TfidfTransformer is the transformer\n",
    "    ('classifier', MultinomialNB()) # classifier is the name of the step and MultinomialNB is the estimator\n",
    "])"
   ]
  },
  {
   "cell_type": "markdown",
   "metadata": {},
   "source": [
    "Now, we can directly `fit` the `pipeline` to the `data` and `predict` the `output`. "
   ]
  },
  {
   "cell_type": "code",
   "execution_count": 160,
   "metadata": {},
   "outputs": [
    {
     "data": {
      "text/html": [
       "<style>#sk-container-id-3 {color: black;}#sk-container-id-3 pre{padding: 0;}#sk-container-id-3 div.sk-toggleable {background-color: white;}#sk-container-id-3 label.sk-toggleable__label {cursor: pointer;display: block;width: 100%;margin-bottom: 0;padding: 0.3em;box-sizing: border-box;text-align: center;}#sk-container-id-3 label.sk-toggleable__label-arrow:before {content: \"▸\";float: left;margin-right: 0.25em;color: #696969;}#sk-container-id-3 label.sk-toggleable__label-arrow:hover:before {color: black;}#sk-container-id-3 div.sk-estimator:hover label.sk-toggleable__label-arrow:before {color: black;}#sk-container-id-3 div.sk-toggleable__content {max-height: 0;max-width: 0;overflow: hidden;text-align: left;background-color: #f0f8ff;}#sk-container-id-3 div.sk-toggleable__content pre {margin: 0.2em;color: black;border-radius: 0.25em;background-color: #f0f8ff;}#sk-container-id-3 input.sk-toggleable__control:checked~div.sk-toggleable__content {max-height: 200px;max-width: 100%;overflow: auto;}#sk-container-id-3 input.sk-toggleable__control:checked~label.sk-toggleable__label-arrow:before {content: \"▾\";}#sk-container-id-3 div.sk-estimator input.sk-toggleable__control:checked~label.sk-toggleable__label {background-color: #d4ebff;}#sk-container-id-3 div.sk-label input.sk-toggleable__control:checked~label.sk-toggleable__label {background-color: #d4ebff;}#sk-container-id-3 input.sk-hidden--visually {border: 0;clip: rect(1px 1px 1px 1px);clip: rect(1px, 1px, 1px, 1px);height: 1px;margin: -1px;overflow: hidden;padding: 0;position: absolute;width: 1px;}#sk-container-id-3 div.sk-estimator {font-family: monospace;background-color: #f0f8ff;border: 1px dotted black;border-radius: 0.25em;box-sizing: border-box;margin-bottom: 0.5em;}#sk-container-id-3 div.sk-estimator:hover {background-color: #d4ebff;}#sk-container-id-3 div.sk-parallel-item::after {content: \"\";width: 100%;border-bottom: 1px solid gray;flex-grow: 1;}#sk-container-id-3 div.sk-label:hover label.sk-toggleable__label {background-color: #d4ebff;}#sk-container-id-3 div.sk-serial::before {content: \"\";position: absolute;border-left: 1px solid gray;box-sizing: border-box;top: 0;bottom: 0;left: 50%;z-index: 0;}#sk-container-id-3 div.sk-serial {display: flex;flex-direction: column;align-items: center;background-color: white;padding-right: 0.2em;padding-left: 0.2em;position: relative;}#sk-container-id-3 div.sk-item {position: relative;z-index: 1;}#sk-container-id-3 div.sk-parallel {display: flex;align-items: stretch;justify-content: center;background-color: white;position: relative;}#sk-container-id-3 div.sk-item::before, #sk-container-id-3 div.sk-parallel-item::before {content: \"\";position: absolute;border-left: 1px solid gray;box-sizing: border-box;top: 0;bottom: 0;left: 50%;z-index: -1;}#sk-container-id-3 div.sk-parallel-item {display: flex;flex-direction: column;z-index: 1;position: relative;background-color: white;}#sk-container-id-3 div.sk-parallel-item:first-child::after {align-self: flex-end;width: 50%;}#sk-container-id-3 div.sk-parallel-item:last-child::after {align-self: flex-start;width: 50%;}#sk-container-id-3 div.sk-parallel-item:only-child::after {width: 0;}#sk-container-id-3 div.sk-dashed-wrapped {border: 1px dashed gray;margin: 0 0.4em 0.5em 0.4em;box-sizing: border-box;padding-bottom: 0.4em;background-color: white;}#sk-container-id-3 div.sk-label label {font-family: monospace;font-weight: bold;display: inline-block;line-height: 1.2em;}#sk-container-id-3 div.sk-label-container {text-align: center;}#sk-container-id-3 div.sk-container {/* jupyter's `normalize.less` sets `[hidden] { display: none; }` but bootstrap.min.css set `[hidden] { display: none !important; }` so we also need the `!important` here to be able to override the default hidden behavior on the sphinx rendered scikit-learn.org. See: https://github.com/scikit-learn/scikit-learn/issues/21755 */display: inline-block !important;position: relative;}#sk-container-id-3 div.sk-text-repr-fallback {display: none;}</style><div id=\"sk-container-id-3\" class=\"sk-top-container\"><div class=\"sk-text-repr-fallback\"><pre>Pipeline(steps=[(&#x27;bow&#x27;,\n",
       "                 CountVectorizer(analyzer=&lt;function text_process at 0x7e2d5580bf60&gt;)),\n",
       "                (&#x27;tfidf&#x27;, TfidfTransformer()),\n",
       "                (&#x27;classifier&#x27;, MultinomialNB())])</pre><b>In a Jupyter environment, please rerun this cell to show the HTML representation or trust the notebook. <br />On GitHub, the HTML representation is unable to render, please try loading this page with nbviewer.org.</b></div><div class=\"sk-container\" hidden><div class=\"sk-item sk-dashed-wrapped\"><div class=\"sk-label-container\"><div class=\"sk-label sk-toggleable\"><input class=\"sk-toggleable__control sk-hidden--visually\" id=\"sk-estimator-id-9\" type=\"checkbox\" ><label for=\"sk-estimator-id-9\" class=\"sk-toggleable__label sk-toggleable__label-arrow\">Pipeline</label><div class=\"sk-toggleable__content\"><pre>Pipeline(steps=[(&#x27;bow&#x27;,\n",
       "                 CountVectorizer(analyzer=&lt;function text_process at 0x7e2d5580bf60&gt;)),\n",
       "                (&#x27;tfidf&#x27;, TfidfTransformer()),\n",
       "                (&#x27;classifier&#x27;, MultinomialNB())])</pre></div></div></div><div class=\"sk-serial\"><div class=\"sk-item\"><div class=\"sk-estimator sk-toggleable\"><input class=\"sk-toggleable__control sk-hidden--visually\" id=\"sk-estimator-id-10\" type=\"checkbox\" ><label for=\"sk-estimator-id-10\" class=\"sk-toggleable__label sk-toggleable__label-arrow\">CountVectorizer</label><div class=\"sk-toggleable__content\"><pre>CountVectorizer(analyzer=&lt;function text_process at 0x7e2d5580bf60&gt;)</pre></div></div></div><div class=\"sk-item\"><div class=\"sk-estimator sk-toggleable\"><input class=\"sk-toggleable__control sk-hidden--visually\" id=\"sk-estimator-id-11\" type=\"checkbox\" ><label for=\"sk-estimator-id-11\" class=\"sk-toggleable__label sk-toggleable__label-arrow\">TfidfTransformer</label><div class=\"sk-toggleable__content\"><pre>TfidfTransformer()</pre></div></div></div><div class=\"sk-item\"><div class=\"sk-estimator sk-toggleable\"><input class=\"sk-toggleable__control sk-hidden--visually\" id=\"sk-estimator-id-12\" type=\"checkbox\" ><label for=\"sk-estimator-id-12\" class=\"sk-toggleable__label sk-toggleable__label-arrow\">MultinomialNB</label><div class=\"sk-toggleable__content\"><pre>MultinomialNB()</pre></div></div></div></div></div></div></div>"
      ],
      "text/plain": [
       "Pipeline(steps=[('bow',\n",
       "                 CountVectorizer(analyzer=<function text_process at 0x7e2d5580bf60>)),\n",
       "                ('tfidf', TfidfTransformer()),\n",
       "                ('classifier', MultinomialNB())])"
      ]
     },
     "execution_count": 160,
     "metadata": {},
     "output_type": "execute_result"
    }
   ],
   "source": [
    "pipeline.fit(msg_train, label_train)"
   ]
  },
  {
   "cell_type": "markdown",
   "metadata": {},
   "source": [
    "And we have `trained` the `pipeline` on the `training` `data` and `predicted` the `output` on the `testing` `data` using the `multinomialNB` `classifier`. \n",
    "\n",
    "Now, we can use the `classification_report` and `confusion_matrix` to `evaluate` the `performance` of the `classifier`."
   ]
  },
  {
   "cell_type": "code",
   "execution_count": 161,
   "metadata": {},
   "outputs": [],
   "source": [
    "predictions = pipeline.predict(msg_test)"
   ]
  },
  {
   "cell_type": "code",
   "execution_count": 162,
   "metadata": {},
   "outputs": [
    {
     "name": "stdout",
     "output_type": "stream",
     "text": [
      "              precision    recall  f1-score   support\n",
      "\n",
      "         ham       0.96      1.00      0.98      1458\n",
      "        spam       1.00      0.71      0.83       214\n",
      "\n",
      "    accuracy                           0.96      1672\n",
      "   macro avg       0.98      0.86      0.90      1672\n",
      "weighted avg       0.96      0.96      0.96      1672\n",
      "\n",
      "\n",
      "\n",
      "[[1458    0]\n",
      " [  62  152]]\n"
     ]
    }
   ],
   "source": [
    "from sklearn.metrics import classification_report, confusion_matrix\n",
    "\n",
    "print(classification_report(label_test, predictions))\n",
    "print('\\n')\n",
    "print(confusion_matrix(label_test, predictions))"
   ]
  },
  {
   "cell_type": "markdown",
   "metadata": {},
   "source": [
    "AAANDDD. we have an accuracy of `96.4%` which is `very good`. The `classifier` has `classified` the `messages` as `spam` with a precision of `100%` and a recall of `71%`. That's an `amazing` `performance` by the `classifier`.\n",
    "\n",
    "We can also use any other `machine learning model`. Let's say we want to use the `RandomForestClassifier` to `classify` the `messages` as `spam` or `ham`. "
   ]
  },
  {
   "cell_type": "code",
   "execution_count": 163,
   "metadata": {},
   "outputs": [],
   "source": [
    "from sklearn.ensemble import RandomForestClassifier\n",
    "\n",
    "rf = Pipeline([\n",
    "    ('bow', CountVectorizer(analyzer=text_process)),\n",
    "    ('tfidf', TfidfTransformer()),\n",
    "    ('classifier', RandomForestClassifier(n_estimators=1000))\n",
    "])\n",
    "\n",
    "rf.fit(msg_train, label_train)\n",
    "\n",
    "rf_predictions = rf.predict(msg_test)"
   ]
  },
  {
   "cell_type": "code",
   "execution_count": 164,
   "metadata": {},
   "outputs": [
    {
     "name": "stdout",
     "output_type": "stream",
     "text": [
      "              precision    recall  f1-score   support\n",
      "\n",
      "         ham     0.9688    1.0000    0.9841      1458\n",
      "        spam     1.0000    0.7804    0.8766       214\n",
      "\n",
      "    accuracy                         0.9719      1672\n",
      "   macro avg     0.9844    0.8902    0.9304      1672\n",
      "weighted avg     0.9728    0.9719    0.9704      1672\n",
      "\n",
      "\n",
      "\n",
      "[[1458    0]\n",
      " [  47  167]]\n"
     ]
    }
   ],
   "source": [
    "print(classification_report(label_test, rf_predictions, digits=4))\n",
    "print('\\n')\n",
    "print(confusion_matrix(label_test, rf_predictions, ))"
   ]
  },
  {
   "cell_type": "markdown",
   "metadata": {},
   "source": [
    "we have a `better` `accuracy` of `97.19%` with the `RandomForestClassifier`. SO, we have successfully `classified` the `messages` as `spam` or `ham` using the `RandomForestClassifier` and the `Naive Bayes` `classifier`."
   ]
  },
  {
   "cell_type": "markdown",
   "metadata": {},
   "source": [
    "# <a id='toc2_5_'></a>[Conclusion](#toc0_)\n",
    "\n",
    "In this Article, I have shown you how to `perform` `NLP` tasks using the `NLTK` library in `Python`. We have `cleaned` the `data`, `transformed` the `data` into a `matrix` of `word counts`, and `TF-IDF` the `data`. We have also `classified` the `messages` as `spam` or `ham` using the `Naive Bayes` `classifier` and the `RandomForestClassifier`.\n",
    "\n",
    "This is just the surface of `NLP`. There are many more `advanced techniques` that you can use to `extract information` from `text data`. This feild is so big that you can have a Whole `degree` on it and I'm not even kidding.\n",
    "\n",
    "SO, I hope you have learned something new from this Article. If you have any `questions` or `suggestions`, feel free to `comment` below. I'll be `happy` to help you.\n",
    "\n",
    "##### <a id='toc2_5_1_1_1_'></a>[happy NLPing 😁](#toc0_)"
   ]
  }
 ],
 "metadata": {
  "kernelspec": {
   "display_name": "Python 3 (ipykernel)",
   "language": "python",
   "name": "python3"
  },
  "language_info": {
   "codemirror_mode": {
    "name": "ipython",
    "version": 3
   },
   "file_extension": ".py",
   "mimetype": "text/x-python",
   "name": "python",
   "nbconvert_exporter": "python",
   "pygments_lexer": "ipython3",
   "version": "3.11.0"
  }
 },
 "nbformat": 4,
 "nbformat_minor": 4
}
