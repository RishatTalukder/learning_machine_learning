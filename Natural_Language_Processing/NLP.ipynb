{
 "cells": [
  {
   "attachments": {
    "image.png": {
     "image/png": "[encoded data removed]"
    }
   },
   "cell_type": "markdown",
   "metadata": {},
   "source": [
    "<h1 style=\"text-align: center\"> Natural Language Processing (NLP) </h1>\n",
    "<h5 style=\"text-align: center\"> An introduction to Machine Learning </h5>\n",
    "\n",
    "NLP is a fascinating field at the intersection of computer science and linguistics, and it's a key component of many of the technologies we use every day, from search engines to virtual assistants.\n",
    "\n",
    "In this Article, we'll dive into the core concepts of NLP, explore various techniques, and see how we can apply them to real-world problems. Whether you're a seasoned data scientist or just starting out, there's something here for you.\n",
    "\n",
    "If you're interested in Machine Learning and Data Science, I invite you to follow me on my various platforms:\n",
    "\n",
    "- [LinkedIn](https://www.linkedin.com/in/md-rishat-talukder-a22157239/)\n",
    "- [GitHub](https://github.com/RishatTalukder/learning_machine_learning/tree/main)\n",
    "- [YouTube](https://www.youtube.com/channel/UCEEkKXpAkSwcMaIHnGi3Niw)\n",
    "\n",
    "Let's get started!\n",
    "\n",
    "# Introduction\n",
    "\n",
    "Natural Language Processing (NLP) is a subfield of artificial intelligence that focuses on the interaction between computers and humans using natural language. It's a fascinating field that has seen rapid growth in recent years, thanks to advances in machine learning and deep learning.\n",
    "\n",
    "Some Real World Applications of NLP are:\n",
    "\n",
    "- `Chatbots`\n",
    "- `CHAT GPT`\n",
    "- `Copilot`\n",
    "\n",
    "> Even 30% of this article was written by Copilot 😁\n",
    "\n",
    "## What & How of NLP\n",
    "\n",
    "### What is NLP?\n",
    "\n",
    "`Natural Language Processing (NLP)` is a very broad field that encompasses a wide range of tasks, from simple text processing to complex language understanding. As it is a `subfield of artificial intelligence`, it is concerned with the interaction between computers and humans using natural language.\n",
    "\n",
    "Suppose You work for a `customer service department` and you receive hundreds of `emails` every day. It would be impossible to read and respond to each one manually. \n",
    "\n",
    "Or you are a `doctor` and you have to go through hundreds of `medical records` to `diagnose` a patient. It would be very time-consuming and error-prone for you to do this manually.\n",
    "\n",
    "There are Hundreds of such examples where if it's done manually it would be very time-consuming and error-prone. This is where `NLP` comes in. It can help you `automate` these tasks and make your life easier.\n",
    "\n",
    "`NLP` can help you `extract information` from `text`, `classify` text into different categories, `summarize` text, `translate` text from one language to another, and much more.\n",
    "\n",
    "So, think of the first scenario where you receive hundreds of emails every day. You can use `NLP` to `automatically read` and `classify` these emails into different categories. This way, you can `prioritize` which emails to respond to first and which ones to respond to later. How this happens:\n",
    "\n",
    "- `Compile` all the emails into a single document.\n",
    "- `Featurize` the text data, meaning you would want to convert the text data into a format that can be used by a machine learning model.\n",
    "- `Compare` the Features of the text data to a set of predefined categories.\n",
    "\n",
    "These are the basic steps involved in `NLP` but there are many more advanced techniques that can be used to `extract information` from text data.\n",
    "\n",
    "### How does NLP work?\n",
    "\n",
    "Here's a simple example to illustrate how `NLP` works:\n",
    "\n",
    "Suppose you have two `documents`:\n",
    "\n",
    "- Document 1: \"Bob Likes Apples\"\n",
    "- Document 2: \"Sam Likes Oranges\"\n",
    "\n",
    "You want to `compare` these two documents to see if they are `similar` or `different`. We can:\n",
    "\n",
    "- `Tokenize` the documents, meaning we would split the documents into individual words. SO, the tokenized version of the documents would be:\n",
    "    - Document 1: [\"Bob\", \"Likes\", \"Apples\"]\n",
    "    - Document 2: [\"Sam\", \"Likes\", \"Oranges\"]\n",
    "\n",
    "- `Vectorize` the documents, meaning we would convert the words into numbers. We can use a technique called `Bag of Words` to do this. The vectorized version of the documents would be:\n",
    "\n",
    "`Bag of Words` is a simple technique that converts text data into a matrix of word counts. Each row in the matrix represents a document, and each column represents a word. The value in each cell represents the count of the word in the document.\n",
    "\n",
    "So, we compile all the words in the documents into a single list:\n",
    "\n",
    "`[\"Bob\", \"Sam\", \"Likes\", \"Apples\", \"Oranges\"]`\n",
    "\n",
    "Now, we can convert the documents into vectors:\n",
    "\n",
    "- Document 1: `\"Bob Likes Apples\"` -> `[\"Bob\": 1, \"Sam\": 0, \"Likes\": 1, \"Apples\": 1, \"Oranges\": 0]` -> `[1, 0, 1, 1, 0]`\n",
    "- Document 2: `\"Sam Likes Oranges\"` -> `[\"Bob\": 0, \"Sam\": 1, \"Likes\": 1, \"Apples\": 0, \"Oranges\": 1]` -> `[0, 1, 1, 0, 1]`\n",
    "\n",
    "Now, We have a fully `vectorized` version of each document. We can now `compare` these vectors to see if they are `similar` or `different`. This is very useful for `document classification` because we are treating the documents as `vectors` of `features`. SO, we can perform `mathematical operations` like `dot products` and `cosine similarity` to compare the documents.\n",
    "\n",
    "Now, I'm not going to go deep into the `mathematical details` of how these operations work, GO DO YOUR OWN RESEARCH 😁\n",
    "\n",
    "> `COSINE SIMILARITY` is a the `dot product` of two vectors `divided` by the `product` of the `magnitude` or `length` of the two vectors from the `origin`.\n",
    "\n",
    "![cosine](attachment:image.png)\n",
    "\n",
    "The `equation` for `cosine similarity` is:\n",
    "\n",
    "$$ \\text{Cosine Similarity} = \\frac{A \\cdot B}{||A|| \\times ||B||} $$\n",
    "\n",
    "Where `A` and `B` are the two vectors and `||A||` and `||B||` are the magnitudes of the two vectors."
   ]
  },
  {
   "cell_type": "markdown",
   "metadata": {},
   "source": [
    "We cna use `cosine similarity` to `compare` the `similarity` of two `documents`. If the `cosine similarity` is `close to 1`, then the documents are `similar`. If the `cosine similarity` is `close to 0`, then the documents are `different`.\n",
    "\n",
    "We can also imporve the `Bag of Words` model by adjusting the `word counts` based on the `frequency` of the words in the `corpus`.(A `corpus` is a collection of `documents`)\n",
    "- `TF-IDF` (Term Frequency-Inverse Document Frequency) is a technique that does this. It `weights` the `word counts` based on the `frequency` of the words in the `corpus`.\n",
    "\n",
    "`TF(Term Frequency)` is the `importance` of the `term` or `word` in the `document`. It is calculated as the `number of times` the `term` appears in the `document`. We represent it as:\n",
    "\n",
    "$$ \\text{TF(d, t)} = \\text{Number of times term t appears in document d} $$\n",
    "\n",
    "`IDF(Inverse Document Frequency)` is the `importance` of the `term` or `word` in the `corpus` meaning `all the documents`. It also means how `rare` the `term` is in the `corpus`. It is calculated as the `logarithm` of the `total number of documents` divided by the `number of documents` that contain the `term`. We represent it as:\n",
    "\n",
    "$$ \\text{IDF(t)} = \\log(\\frac{\\text{D}}{\\text{t}}) $$\n",
    "\n",
    "Where `D` is the `total number of documents` and `t` is the `number of documents` that contain the `term`.\n",
    "\n",
    "`TF-IDF` is calculated as the `product` of `TF` and `IDF`. It `weights` the `word counts` based on the `frequency` of the words in the `corpus`.\n",
    "\n",
    "$$ \\text{W(x, y)} = \\text{TF(x, y)} \\times \\text{IDF(x)} $$\n",
    "$$ \\text{W(x, y)} = \\text{Number of times term x appears in document y} \\times \\log(\\frac{\\text{N}}{\\text{df(x)}}) $$\n",
    "\n",
    "Here, \n",
    "\n",
    "- `N` is the `total number of documents`\n",
    "- `df(x)` is the `number of documents` that contain the `term x`\n",
    "- `TF(x, y)` is the `number of times` the `term x` appears in the `document y`\n",
    "\n",
    "`TF-IDF` is a very powerful technique that can help you `extract important information` from `text data`. We do this to get, not just the `word counts`, but the `importance` of the `words` in the `document`.\n",
    "\n",
    "This is just a `brief overview` of how `NLP` works. There are many more `advanced techniques` that can be used to `extract information` from `text data`.\n",
    "\n",
    "# Natural Language Processing using Python\n",
    "\n",
    "Now that we have a basic understanding of `NLP`, let's see how we can use `Python` to `perform NLP` tasks. We'll use the `Natural Language Toolkit (NLTK)` library, which is a `popular library` for `NLP` in `Python`.\n",
    "\n",
    "We have to `install` the `NLTK` library first. We can do this using the following command:\n",
    "\n",
    "```bash\n",
    "\n",
    "conda install nltk # If you are using Anaconda\n",
    "\n",
    "pip install nltk # If you are using pip\n",
    "\n",
    "```\n",
    "\n",
    "In this Article, I'll show you the workings of `NLP` using the `NLTK` library and build a `spam filter` using. In this process, we'll learn about `tokenization`, `stemming`, `lemmatization`, and `TF-IDF`.\n",
    "\n",
    "Let's get started!\n",
    "\n",
    "## NLTK Basics\n",
    "\n",
    "The `Natural Language Toolkit (NLTK)` is a `popular library` for `NLP` in `Python`. It provides a wide range of tools and resources for `text processing` and `analysis`. I hope you have already installed the `NLTK` library.\n",
    "\n",
    "Lets import the `NLTK` library and `download` some `resources`:\n"
   ]
  },
  {
   "cell_type": "code",
   "execution_count": 1,
   "metadata": {},
   "outputs": [],
   "source": [
    "import nltk"
   ]
  },
  {
   "cell_type": "markdown",
   "metadata": {},
   "source": [
    "Before going to the code, let me give you and overview. I'll use `nltk.download_shell()` to show you how to `download` the `resources`. You can `download` the `resources` and `corpora` that you need for your `NLP` tasks.\n",
    "\n",
    "This method will open a `shell` where you can `download` the `resources` and `corpora` that you need. You can `download` the `resources` by `selecting` the `number` of the `resource` you want to `download`.\n",
    "\n",
    "The shell will give you choices like:\n",
    "\n",
    "- `d` to `download` the `resource`\n",
    "- `q` to `quit` the `shell`\n",
    "- `l` to `list` the `resources`\n",
    "- `u` to `update` the `resources`\n",
    "\n",
    "SO, let's download the `resources` and `corpora` named `stopwords`."
   ]
  },
  {
   "cell_type": "code",
   "execution_count": 2,
   "metadata": {},
   "outputs": [
    {
     "name": "stdout",
     "output_type": "stream",
     "text": [
      "NLTK Downloader\n",
      "---------------------------------------------------------------------------\n",
      "    d) Download   l) List    u) Update   c) Config   h) Help   q) Quit\n",
      "---------------------------------------------------------------------------\n"
     ]
    },
    {
     "name": "stdout",
     "output_type": "stream",
     "text": [
      "Downloader>  d\n"
     ]
    },
    {
     "name": "stdout",
     "output_type": "stream",
     "text": [
      "\n",
      "Download which package (l=list; x=cancel)?\n"
     ]
    },
    {
     "name": "stdout",
     "output_type": "stream",
     "text": [
      "  Identifier>  stopwords\n"
     ]
    },
    {
     "name": "stderr",
     "output_type": "stream",
     "text": [
      "    Downloading package stopwords to /home/rishat/nltk_data...\n",
      "      Package stopwords is already up-to-date!\n"
     ]
    },
    {
     "name": "stdout",
     "output_type": "stream",
     "text": [
      "\n",
      "---------------------------------------------------------------------------\n",
      "    d) Download   l) List    u) Update   c) Config   h) Help   q) Quit\n",
      "---------------------------------------------------------------------------\n"
     ]
    },
    {
     "name": "stdout",
     "output_type": "stream",
     "text": [
      "Downloader>  l\n"
     ]
    },
    {
     "name": "stdout",
     "output_type": "stream",
     "text": [
      "\n",
      "Packages:\n",
      "  [ ] abc................. Australian Broadcasting Commission 2006\n",
      "  [ ] alpino.............. Alpino Dutch Treebank\n",
      "  [ ] averaged_perceptron_tagger Averaged Perceptron Tagger\n",
      "  [ ] averaged_perceptron_tagger_ru Averaged Perceptron Tagger (Russian)\n",
      "  [ ] basque_grammars..... Grammars for Basque\n",
      "  [ ] bcp47............... BCP-47 Language Tags\n",
      "  [ ] biocreative_ppi..... BioCreAtIvE (Critical Assessment of Information\n",
      "                           Extraction Systems in Biology)\n",
      "  [ ] bllip_wsj_no_aux.... BLLIP Parser: WSJ Model\n",
      "  [ ] book_grammars....... Grammars from NLTK Book\n",
      "  [ ] brown............... Brown Corpus\n",
      "  [ ] brown_tei........... Brown Corpus (TEI XML Version)\n",
      "  [ ] cess_cat............ CESS-CAT Treebank\n",
      "  [ ] cess_esp............ CESS-ESP Treebank\n",
      "  [ ] chat80.............. Chat-80 Data Files\n",
      "  [ ] city_database....... City Database\n",
      "  [ ] cmudict............. The Carnegie Mellon Pronouncing Dictionary (0.6)\n",
      "  [ ] comparative_sentences Comparative Sentence Dataset\n",
      "  [ ] comtrans............ ComTrans Corpus Sample\n",
      "  [ ] conll2000........... CONLL 2000 Chunking Corpus\n"
     ]
    },
    {
     "name": "stdout",
     "output_type": "stream",
     "text": [
      "Hit Enter to continue:  \n"
     ]
    },
    {
     "name": "stdout",
     "output_type": "stream",
     "text": [
      "  [ ] conll2002........... CONLL 2002 Named Entity Recognition Corpus\n",
      "  [ ] conll2007........... Dependency Treebanks from CoNLL 2007 (Catalan\n",
      "                           and Basque Subset)\n",
      "  [ ] crubadan............ Crubadan Corpus\n",
      "  [ ] dependency_treebank. Dependency Parsed Treebank\n",
      "  [ ] dolch............... Dolch Word List\n",
      "  [ ] europarl_raw........ Sample European Parliament Proceedings Parallel\n",
      "                           Corpus\n",
      "  [ ] extended_omw........ Extended Open Multilingual WordNet\n",
      "  [ ] floresta............ Portuguese Treebank\n",
      "  [ ] framenet_v15........ FrameNet 1.5\n",
      "  [ ] framenet_v17........ FrameNet 1.7\n",
      "  [ ] gazetteers.......... Gazeteer Lists\n",
      "  [ ] genesis............. Genesis Corpus\n",
      "  [ ] gutenberg........... Project Gutenberg Selections\n",
      "  [ ] ieer................ NIST IE-ER DATA SAMPLE\n",
      "  [ ] inaugural........... C-Span Inaugural Address Corpus\n",
      "  [ ] indian.............. Indian Language POS-Tagged Corpus\n",
      "  [ ] jeita............... JEITA Public Morphologically Tagged Corpus (in\n",
      "                           ChaSen format)\n",
      "  [ ] kimmo............... PC-KIMMO Data Files\n"
     ]
    },
    {
     "name": "stdout",
     "output_type": "stream",
     "text": [
      "Hit Enter to continue:  \n"
     ]
    },
    {
     "name": "stdout",
     "output_type": "stream",
     "text": [
      "  [ ] knbc................ KNB Corpus (Annotated blog corpus)\n",
      "  [ ] large_grammars...... Large context-free and feature-based grammars\n",
      "                           for parser comparison\n",
      "  [ ] lin_thesaurus....... Lin's Dependency Thesaurus\n",
      "  [ ] mac_morpho.......... MAC-MORPHO: Brazilian Portuguese news text with\n",
      "                           part-of-speech tags\n",
      "  [ ] machado............. Machado de Assis -- Obra Completa\n",
      "  [ ] masc_tagged......... MASC Tagged Corpus\n",
      "  [ ] maxent_ne_chunker... ACE Named Entity Chunker (Maximum entropy)\n",
      "  [ ] maxent_treebank_pos_tagger Treebank Part of Speech Tagger (Maximum entropy)\n",
      "  [ ] moses_sample........ Moses Sample Models\n",
      "  [ ] movie_reviews....... Sentiment Polarity Dataset Version 2.0\n",
      "  [ ] mte_teip5........... MULTEXT-East 1984 annotated corpus 4.0\n",
      "  [ ] mwa_ppdb............ The monolingual word aligner (Sultan et al.\n",
      "                           2015) subset of the Paraphrase Database.\n",
      "  [ ] names............... Names Corpus, Version 1.3 (1994-03-29)\n",
      "  [ ] nombank.1.0......... NomBank Corpus 1.0\n",
      "  [ ] nonbreaking_prefixes Non-Breaking Prefixes (Moses Decoder)\n",
      "  [ ] nps_chat............ NPS Chat\n",
      "  [ ] omw-1.4............. Open Multilingual Wordnet\n",
      "  [ ] omw................. Open Multilingual Wordnet\n"
     ]
    },
    {
     "name": "stdout",
     "output_type": "stream",
     "text": [
      "Hit Enter to continue:  \n"
     ]
    },
    {
     "name": "stdout",
     "output_type": "stream",
     "text": [
      "  [ ] opinion_lexicon..... Opinion Lexicon\n",
      "  [ ] panlex_swadesh...... PanLex Swadesh Corpora\n",
      "  [ ] paradigms........... Paradigm Corpus\n",
      "  [ ] pe08................ Cross-Framework and Cross-Domain Parser\n",
      "                           Evaluation Shared Task\n",
      "  [ ] perluniprops........ perluniprops: Index of Unicode Version 7.0.0\n",
      "                           character properties in Perl\n",
      "  [ ] pil................. The Patient Information Leaflet (PIL) Corpus\n",
      "  [ ] pl196x.............. Polish language of the XX century sixties\n",
      "  [ ] porter_test......... Porter Stemmer Test Files\n",
      "  [ ] ppattach............ Prepositional Phrase Attachment Corpus\n",
      "  [ ] problem_reports..... Problem Report Corpus\n",
      "  [ ] product_reviews_1... Product Reviews (5 Products)\n",
      "  [ ] product_reviews_2... Product Reviews (9 Products)\n",
      "  [ ] propbank............ Proposition Bank Corpus 1.0\n",
      "  [ ] pros_cons........... Pros and Cons\n",
      "  [ ] ptb................. Penn Treebank\n",
      "  [ ] punkt............... Punkt Tokenizer Models\n",
      "  [ ] qc.................. Experimental Data for Question Classification\n",
      "  [ ] reuters............. The Reuters-21578 benchmark corpus, ApteMod\n",
      "                           version\n"
     ]
    },
    {
     "name": "stdout",
     "output_type": "stream",
     "text": [
      "Hit Enter to continue:  \n"
     ]
    },
    {
     "name": "stdout",
     "output_type": "stream",
     "text": [
      "  [ ] rslp................ RSLP Stemmer (Removedor de Sufixos da Lingua\n",
      "                           Portuguesa)\n",
      "  [ ] rte................. PASCAL RTE Challenges 1, 2, and 3\n",
      "  [ ] sample_grammars..... Sample Grammars\n",
      "  [ ] semcor.............. SemCor 3.0\n",
      "  [ ] senseval............ SENSEVAL 2 Corpus: Sense Tagged Text\n",
      "  [ ] sentence_polarity... Sentence Polarity Dataset v1.0\n",
      "  [ ] sentiwordnet........ SentiWordNet\n",
      "  [ ] shakespeare......... Shakespeare XML Corpus Sample\n",
      "  [ ] sinica_treebank..... Sinica Treebank Corpus Sample\n",
      "  [ ] smultron............ SMULTRON Corpus Sample\n",
      "  [ ] snowball_data....... Snowball Data\n",
      "  [ ] spanish_grammars.... Grammars for Spanish\n",
      "  [ ] state_union......... C-Span State of the Union Address Corpus\n",
      "  [*] stopwords........... Stopwords Corpus\n",
      "  [ ] subjectivity........ Subjectivity Dataset v1.0\n",
      "  [ ] swadesh............. Swadesh Wordlists\n",
      "  [ ] switchboard......... Switchboard Corpus Sample\n",
      "  [ ] tagsets............. Help on Tagsets\n",
      "  [ ] timit............... TIMIT Corpus Sample\n",
      "  [ ] toolbox............. Toolbox Sample Files\n"
     ]
    },
    {
     "name": "stdout",
     "output_type": "stream",
     "text": [
      "Hit Enter to continue:  \n"
     ]
    },
    {
     "name": "stdout",
     "output_type": "stream",
     "text": [
      "  [ ] treebank............ Penn Treebank Sample\n",
      "  [ ] twitter_samples..... Twitter Samples\n",
      "  [ ] udhr2............... Universal Declaration of Human Rights Corpus\n",
      "                           (Unicode Version)\n",
      "  [ ] udhr................ Universal Declaration of Human Rights Corpus\n",
      "  [ ] unicode_samples..... Unicode Samples\n",
      "  [ ] universal_tagset.... Mappings to the Universal Part-of-Speech Tagset\n",
      "  [ ] universal_treebanks_v20 Universal Treebanks Version 2.0\n",
      "  [ ] vader_lexicon....... VADER Sentiment Lexicon\n",
      "  [ ] verbnet3............ VerbNet Lexicon, Version 3.3\n",
      "  [ ] verbnet............. VerbNet Lexicon, Version 2.1\n",
      "  [ ] webtext............. Web Text Corpus\n",
      "  [ ] wmt15_eval.......... Evaluation data from WMT15\n",
      "  [ ] word2vec_sample..... Word2Vec Sample\n",
      "  [ ] wordnet2021......... Open English Wordnet 2021\n",
      "  [ ] wordnet2022......... Open English Wordnet 2022\n",
      "  [ ] wordnet31........... Wordnet 3.1\n",
      "  [ ] wordnet............. WordNet\n",
      "  [ ] wordnet_ic.......... WordNet-InfoContent\n",
      "  [ ] words............... Word Lists\n",
      "  [ ] ycoe................ York-Toronto-Helsinki Parsed Corpus of Old\n",
      "                           English Prose\n"
     ]
    },
    {
     "name": "stdout",
     "output_type": "stream",
     "text": [
      "Hit Enter to continue:  \n"
     ]
    },
    {
     "name": "stdout",
     "output_type": "stream",
     "text": [
      "\n",
      "Collections:\n",
      "  [P] all-corpora......... All the corpora\n",
      "  [P] all-nltk............ All packages available on nltk_data gh-pages\n",
      "                           branch\n",
      "  [P] all................. All packages\n",
      "  [P] book................ Everything used in the NLTK Book\n",
      "  [P] popular............. Popular packages\n",
      "  [ ] tests............... Packages for running tests\n",
      "  [ ] third-party......... Third-party data packages\n",
      "\n",
      "([*] marks installed packages; [P] marks partially installed collections)\n",
      "\n",
      "---------------------------------------------------------------------------\n",
      "    d) Download   l) List    u) Update   c) Config   h) Help   q) Quit\n",
      "---------------------------------------------------------------------------\n"
     ]
    },
    {
     "name": "stdout",
     "output_type": "stream",
     "text": [
      "Downloader>  d\n"
     ]
    },
    {
     "name": "stdout",
     "output_type": "stream",
     "text": [
      "\n",
      "Download which package (l=list; x=cancel)?\n"
     ]
    },
    {
     "name": "stdout",
     "output_type": "stream",
     "text": [
      "  Identifier>  brown\n"
     ]
    },
    {
     "name": "stderr",
     "output_type": "stream",
     "text": [
      "    Downloading package brown to /home/rishat/nltk_data...\n",
      "      Unzipping corpora/brown.zip.\n"
     ]
    },
    {
     "name": "stdout",
     "output_type": "stream",
     "text": [
      "\n",
      "---------------------------------------------------------------------------\n",
      "    d) Download   l) List    u) Update   c) Config   h) Help   q) Quit\n",
      "---------------------------------------------------------------------------\n"
     ]
    },
    {
     "name": "stdout",
     "output_type": "stream",
     "text": [
      "Downloader>  q\n"
     ]
    }
   ],
   "source": [
    "nltk.download_shell()"
   ]
  },
  {
   "cell_type": "markdown",
   "metadata": {},
   "source": [
    "Here I have downloaded the `stopwords` `corpora` using the `nltk.download_shell()` method. You can `download` the `resources` and `corpora` that you need for your `NLP` tasks too.\n",
    "\n",
    "Now, for info I'll use a dataset from `UCI Machine Learning Repository` named `SMS Spam Collection`. This dataset contains `SMS` messages that are `labeled` as `spam` or `ham` (not spam). We'll use this dataset to build a `spam filter` using `NLP`.\n",
    "\n",
    "You can `download` the `dataset` from this link (https://archive.ics.uci.edu/dataset/228/sms+spam+collection).\n",
    "\n",
    "And I also have the dataset in my `GitHub` repository. You can `download` it from there too."
   ]
  },
  {
   "cell_type": "code",
   "execution_count": null,
   "metadata": {},
   "outputs": [],
   "source": []
  }
 ],
 "metadata": {
  "kernelspec": {
   "display_name": "ML_ENV",
   "language": "python",
   "name": "python3"
  },
  "language_info": {
   "codemirror_mode": {
    "name": "ipython",
    "version": 3
   },
   "file_extension": ".py",
   "mimetype": "text/x-python",
   "name": "python",
   "nbconvert_exporter": "python",
   "pygments_lexer": "ipython3",
   "version": "3.11.0"
  }
 },
 "nbformat": 4,
 "nbformat_minor": 4
}
