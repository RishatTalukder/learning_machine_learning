{
 "cells": [
  {
   "cell_type": "markdown",
   "metadata": {},
   "source": [
    "<h1 align=\"center\"> K NEAREST NEIGHBORS </h1>\n",
    "<h6 align=\"center\"> An introduction to Machine Learning</h6>\n",
    "\n",
    "KNN is a `popular` algorithm used for both classification and regression and I tried my best to explain it in this artcle. I regularly write these type of article explaining machine learning algorithms and concepts and other stuffs related to programming. So, if you are interested in reading more of these, you can follow me on `linkedin`(https://www.linkedin.com/in/md-rishat-talukder-a22157239/)\n",
    "\n",
    "I also have a `youtube` channel where I post videos on programming and machine learning. So, if you are interested in watching those, you can subscribe to my channel(https://www.youtube.com/channel/UCEEkKXpAkSwcMaIHnGi3Niw)\n",
    "\n",
    "And you can also check out my `github` repo here(https://github.com/RishatTalukder/learning_machine_learning/tree/main)\n",
    "\n",
    "Some prerequisites for this article are:\n",
    "\n",
    "- Basic knowledge of python\n",
    "- Basic knowledge of machine learning\n",
    "- Basic knowledge of numpy and pandas\n",
    "- Basic knowledge of matplotlib\n",
    "- Basic knowledge of jupyter notebook\n",
    "- Basic knowledge of machine learning algorithms like linear regression and logistic regression\n",
    "\n",
    "Installation of the libraries:\n",
    "\n",
    "- Install conda from here(https://docs.conda.io/en/latest/miniconda.html)\n",
    "- goto my github repository(https://github.com/RishatTalukder/learning_machine_learning)\n",
    "- Here you will find a file named `environment.yml`\n",
    "- Download this file\n",
    "- Open your terminal and type `conda env create -f environment.yml`\n",
    "- This will create a conda environment named `ML_ENV`\n",
    "- Now, type `conda activate ML_ENV`\n",
    "- Now, you are ready to go\n",
    "\n",
    "> I'm Hoping you know how to use jupyter notebook in vs code or any other editor.|\n",
    "\n",
    "So, let's get started with the article.\n",
    "\n",
    "# **Table of contents**<a id='toc0_'></a>    \n",
    "- [Introduction to KNN (K Nearest Neighbors)](#toc1_)    \n",
    "    - [Classification](#toc1_1_1_)    \n",
    "    - [Regression](#toc1_1_2_)    \n",
    "- [How KNN works?](#toc2_)    \n",
    "  - [Choosing the value of `k`](#toc2_1_)    \n",
    "  - [Choosing the `distance` metric](#toc2_2_)    \n",
    "  - [Evaluating the model](#toc2_3_)    \n",
    "    - [Confusion matrix](#toc2_3_1_)    \n",
    "      - [Accuracy](#toc2_3_1_1_)    \n",
    "      - [Precision](#toc2_3_1_2_)    \n",
    "      - [Recall](#toc2_3_1_3_)    \n",
    "      - [F1 Score](#toc2_3_1_4_)    \n",
    "    - [Evaluating a model using `Confusion matrix`](#toc2_3_2_)    \n",
    "      - [Accuracy](#toc2_3_2_1_)    \n",
    "      - [Precision](#toc2_3_2_2_)    \n",
    "      - [Recall](#toc2_3_2_3_)    \n",
    "      - [F1 Score](#toc2_3_2_4_)    \n",
    "- [KNN in python](#toc3_)    \n",
    "  - [Scaling the features](#toc3_1_)    \n",
    "  - [Making the model](#toc3_2_)    \n",
    "  - [Choosing the best value of `k`](#toc3_3_)    \n",
    "- [Conclusion](#toc4_)    \n",
    "        - [Happy coding](#toc4_1_1_1_1_)    \n",
    "\n",
    "<!-- vscode-jupyter-toc-config\n",
    "\tnumbering=false\n",
    "\tanchor=true\n",
    "\tflat=false\n",
    "\tminLevel=1\n",
    "\tmaxLevel=6\n",
    "\t/vscode-jupyter-toc-config -->\n",
    "<!-- THIS CELL WILL BE REPLACED ON TOC UPDATE. DO NOT WRITE YOUR TEXT IN THIS CELL -->\n",
    "\n",
    "# <a id='toc1_'></a>[Introduction to KNN (K Nearest Neighbors)](#toc0_)\n",
    "\n",
    "`k nearest neighbors` or `knn` is a `supervised` machine learning algorithm which is used for both `classification` and `regression`. It is a `non-parametric` algorithm which means it does not make any assumption on the underlying data distribution. It is also a `lazy` algorithm which means it does not learn anything in the training period. It just stores the training data and uses it to make predictions. It is also called a `memory-based` algorithm because it memorizes the training dataset. It is also called an `instance-based` algorithm because it uses the training dataset as the instance to make predictions.\n",
    "\n",
    "\n",
    "AAAANNNNNNDDDDD I can say that `ALL` this `FANCY` words are not going to make any sense to you if you are a beginner. So, let's break it down and understand what it means.\n",
    "\n",
    "`KNN` is a `machine learning algorithm` mainly used for `classification` and `regression`. So, what is `classification` and `regression`?\n",
    "\n",
    "### <a id='toc1_1_1_'></a>[Classification](#toc0_)\n",
    "\n",
    "`Classification` is a `supervised` machine learning algorithm which is used to `classify` data into different classes. For example, we have a dataset of `flowers` and we want to classify them into different classes. So, we can use `classification` algorithm to classify them into different classes.\n",
    "\n",
    "> I'm assuming you know about `supervised` and `unsupervised` machine learning algorithms. If you don't know about them, you can check this video (https://www.youtube.com/watch?v=W01tIRP_Rqs)\n",
    "\n",
    "### <a id='toc1_1_2_'></a>[Regression](#toc0_)\n",
    "\n",
    "`Regression` is also a `supervised` machine learning algorithm which is used to `predict` a `continuous` value. For example, we have a dataset of `house prices` and we want to predict the `price` of a `house` based on the `features` of the `house`. So, we can use `regression` algorithm to predict the `price` of the `house`.\n",
    "\n",
    "So, `KNN` is a `supervised` machine learning algorithm which is used for both `classification` and `regression`. Meaning this algorithm can be used to classify data into different classes and also to predict a continuous value.\n",
    "\n",
    "In this article we will only focus on `classification` using `KNN` algorithm. So, let's get started.\n",
    "\n",
    "# <a id='toc2_'></a>[How KNN works?](#toc0_)\n",
    "\n",
    "Actually `KNN` is a very simple algorithm. It is based on the `distance` between the `data points`. And the name is actually explains the algorithm. \n",
    "\n",
    "`KNN` stands for `K Nearest Neighbors`. So, what does it mean?\n",
    "\n",
    "It means that a datapoint will be classified based on the majority of it's closest neighbors. \n",
    "\n",
    "The steps are pretty simple:\n",
    "\n",
    "- Calculate the `euclidean distance` between the `new data point` and all the `data points` in the `dataset`\n",
    "- Sort the `dataset` based on the `euclidean distance` in `ascending` order\n",
    "- Take the `first k` data points from the `sorted dataset`\n",
    "- Find Which `class` has the `majority` in the `first k` data points\n",
    "- Assign the `new data point` to the `class` which has the `majority` in the `first k` data points\n",
    "\n",
    "let's say you have two `datasets` named `dogs` and `cats`.\n",
    "\n",
    "sample data from `dogs` dataset:\n",
    "\n",
    "| height | weight | type |\n",
    "| ------ | ------ | ---- |\n",
    "| 22     | 10     | dog  |\n",
    "| 25     | 15     | dog  |\n",
    "| 30     | 20     | dog  |\n",
    "| 35     | 25     | dog  |\n",
    "| 40     | 30     | dog  |\n",
    "\n",
    "sample data from `cats` dataset:\n",
    "\n",
    "| height | weight | type  |\n",
    "| ------ | ------ | ----- |\n",
    "| 10     | 5      | cat   |\n",
    "| 15     | 10     | cat   |\n",
    "| 20     | 15     | cat   |\n",
    "| 25     | 20     | cat   |\n",
    "| 30     | 25     | cat   |\n",
    "\n",
    "Now, you have a new data point with `height = 20` and `weight = 10`. And you want to classify this data point into either `dog` or `cat`. So, how will you do that?\n",
    "\n",
    "Now, if we marge these two datasets and add the new data point to it, it will look like this:\n",
    "\n",
    "| height | weight | type  |\n",
    "| ------ | ------ | ----- |\n",
    "| 22     | 10     | dog   |\n",
    "| 25     | 15     | dog   |\n",
    "| 30     | 20     | dog   |\n",
    "| 35     | 25     | dog   |\n",
    "| 40     | 30     | dog   |\n",
    "| 10     | 5      | cat   |\n",
    "| 15     | 10     | cat   |\n",
    "| 20     | 15     | cat   |\n",
    "| 25     | 20     | cat   | \n",
    "| 30     | 25     | cat   |\n",
    "| 20     | 10     | ?     |\n",
    "\n",
    "SO, `KNN` we will find the `euclidean distance` between the `new data point` and all the `data points` in the `dataset`. So, suppose `height` is `x` and `weight` is `y`. \n",
    "\n",
    "$$ Euclidean Distance = \\sqrt{(x_2 - x_1)^2 + (y_2 - y_1)^2} $$\n",
    "\n",
    "So, the `euclidean distance` between the `new data point` and the `first data point` in the `dataset` will be:\n",
    "\n",
    "$$ \\sqrt{(20 - 22)^2 + (10 - 10)^2} = \\sqrt{4} = 2 $$\n",
    "\n",
    "This way we can do the whole dataset and find the `euclidean distance` between the `new data point` and all the `data points` in the `dataset`. SO, let's make a new column named `distance` and add the `euclidean distance` to it.\n",
    "\n",
    "| height | weight | type  | distance |\n",
    "| ------ | ------ | ----- | -------- |\n",
    "| 22     | 10     | dog   | 2        |\n",
    "| 25     | 15     | dog   |7.07 |\n",
    "| 30     | 20     | dog   | 14.14 |\n",
    "| 35     | 25     | dog   | 18.02 |\n",
    "| 40     | 30     | dog   | 22.36 |\n",
    "| 10     | 5      | cat   | 11.18 |\n",
    "| 15     | 10     | cat   |5 |\n",
    "| 20     | 15     | cat   |5 |\n",
    "| 25     | 20     | cat   | 11.18 |\n",
    "| 30     | 25     | cat   | 16.58 |\n",
    "\n",
    "Now we will sort the `dataset` based on the `distance` column in `ascending` order. So, the `dataset` will look like this:\n",
    "\n",
    "| height | weight | type  | distance |\n",
    "| ------ | ------ | ----- | -------- |\n",
    "| 22     | 10     | dog   | 2        |\n",
    "| 25     | 15     | dog   |5 |\n",
    "| 15     | 10     | cat   |5 |\n",
    "| 20     | 15     | cat   |5 |\n",
    "| 30     | 20     | dog   | 14.14 |\n",
    "| 35     | 25     | dog   | 18.02 |\n",
    "| 10     | 5      | cat   | 11.18 |\n",
    "| 25     | 20     | cat   | 11.18 |\n",
    "| 30     | 25     | cat   | 16.58 |\n",
    "| 40     | 30     | dog   | 22.36 |\n",
    "\n",
    "Now, let's say `k = 5` and we will take the `first 5` data points from the `sorted dataset`. So, the `first 5` data points are:\n",
    "\n",
    "| height | weight | type  | distance |\n",
    "| ------ | ------ | ----- | -------- |\n",
    "| 22     | 10     | dog   | 2        |\n",
    "| 25     | 15     | dog   |5 |\n",
    "| 15     | 10     | cat   |5 |\n",
    "| 20     | 15     | cat   |5 |\n",
    "| 30     | 20     | dog   | 14.14 |\n",
    "\n",
    "Now, we will find which `class` has the `majority` in the `first 5` data points. So, in the `first 5` data points there are `3` `dogs` and `2` `cats`. So, the `class` with the `majority` is `dog`. So, we will assign the `new data point` to the `dog` class.\n",
    "\n",
    "AAAANNNDDD that's how `KNN` works. It's pretty simple, right?\n",
    "\n",
    "## <a id='toc2_1_'></a>[Choosing the value of `k`](#toc0_)\n",
    "\n",
    "Now, you might be wondering how to choose the value of `k`. Well, there is no `fixed` value of `k`. It depends on the `dataset`. But there are some `rules of thumb` for choosing the value of `k`.\n",
    "\n",
    "- `k` should be `odd` to avoid `tied` votes\n",
    "- `k` should not be a `multiple` of the `number of classes` to avoid `tied` votes\n",
    "- `k` should not be too `small` or too `large`\n",
    "- `k` should be `small` if the `dataset` is `noisy`\n",
    "- `k` should be `large` if the `dataset` is `clean`\n",
    "- `k` should be `large` if the `dataset` is `large`\n",
    "- `k` should be `small` if the `dataset` is `small`\n",
    "\n",
    "So, these are some `rules of thumb` for choosing the value of `k`. But there is no `fixed` value of `k`. You have to try different values of `k` and see which one gives the best result.\n",
    "\n",
    "## <a id='toc2_2_'></a>[Choosing the `distance` metric](#toc0_)\n",
    "\n",
    "Now, you might be wondering what is `euclidean distance` and how to choose the `distance` metric. Well, there are many `distance` metrics like `euclidean distance`, `manhattan distance`, `minkowski distance`, `hamming distance`, `cosine distance` etc. But the most commonly used `distance` metric is `euclidean distance`. So, we will use `euclidean distance` in this article.\n",
    "\n",
    "## <a id='toc2_3_'></a>[Evaluating the model](#toc0_)\n",
    "\n",
    "We can use the same `evaluation` metrics we used in `logistic regression` to evaluate the `KNN` model. So, we can use `confusion matrix`, `accuracy`, `precision`, `recall`, `f1 score` etc. to evaluate the `KNN` model.\n",
    "\n",
    "Here's a recap of the `evaluation` metrics:\n",
    "\n",
    "### <a id='toc2_3_1_'></a>[Confusion matrix](#toc0_)\n",
    "\n",
    "`Confusion matrix` is a `2x2` matrix which is used to evaluate the `classification` model. It is used to find the `accuracy`, `precision`, `recall` and `f1 score` of the `classification` model.\n",
    "\n",
    "|            | Predicted: Yes | Predicted: No |\n",
    "| ---------- | -------------- | ------------- |\n",
    "| Actual: Yes| True Positive  | False Negative|\n",
    "| Actual: No | False Positive | True Negative |\n",
    "\n",
    "#### <a id='toc2_3_1_1_'></a>[Accuracy](#toc0_)\n",
    "\n",
    "`Accuracy` is the `ratio` of `correct predictions` to the `total number` of `predictions`. It is used to find the `accuracy` of the `classification` model.\n",
    "\n",
    "$$ Accuracy = \\frac{True Positive + True Negative}{True Positive + True Negative + False Positive + False Negative} $$\n",
    "\n",
    "#### <a id='toc2_3_1_2_'></a>[Precision](#toc0_)\n",
    "\n",
    "`Precision` is the `ratio` of `correct positive predictions` to the `total number` of `positive predictions`. It is used to find the `precision` of the `classification` model.\n",
    "\n",
    "$$ Precision = \\frac{True Positive}{True Positive + False Positive} $$\n",
    "\n",
    "#### <a id='toc2_3_1_3_'></a>[Recall](#toc0_)\n",
    "\n",
    "`Recall` is the `ratio` of `correct positive predictions` to the `total number` of `actual positive values`. It is used to find the `recall` of the `classification` model.\n",
    "\n",
    "$$ Recall = \\frac{True Positive}{True Positive + False Negative} $$\n",
    "\n",
    "#### <a id='toc2_3_1_4_'></a>[F1 Score](#toc0_)\n",
    "\n",
    "`F1 Score` is the `harmonic mean` of `precision` and `recall`. It is used to find the `f1 score` of the `classification` model.\n",
    "\n",
    "$$ F1 Score = 2 * \\frac{Precision * Recall}{Precision + Recall} $$\n",
    "\n",
    "### <a id='toc2_3_2_'></a>[Evaluating a model using `Confusion matrix`](#toc0_)\n",
    "\n",
    "Now, let's see how to evaluate a model using `confusion matrix`. So, let's say we have a `confusion matrix` like this:\n",
    "\n",
    "|            | Predicted: Yes | Predicted: No | Total |\n",
    "| ---------- | -------------- | ------------- | ----- |\n",
    "| Actual: Yes| 950            | 50            | 1000  |\n",
    "| Actual: No | 50             | 950           | 1000  |\n",
    "| Total      | 1000           | 1000          | 2000  |\n",
    "\n",
    "Now, we will find the `accuracy`, `precision`, `recall` and `f1 score` of the `classification` model using this `confusion matrix`.\n",
    "\n",
    "#### <a id='toc2_3_2_1_'></a>[Accuracy](#toc0_)\n",
    "\n",
    "$$ Accuracy = \\frac{True Positive + True Negative}{True Positive + True Negative + False Positive + False Negative} $$\n",
    "\n",
    "$$ Accuracy = \\frac{950 + 950}{950 + 950 + 50 + 50} $$\n",
    "$$ Accuracy = \\frac{1900}{2000} $$\n",
    "$$ Accuracy = 0.95 $$\n",
    "\n",
    "#### <a id='toc2_3_2_2_'></a>[Precision](#toc0_)\n",
    "\n",
    "$$ Precision = \\frac{True Positive}{True Positive + False Positive} $$\n",
    "$$ Precision = \\frac{950}{950 + 50} $$\n",
    "$$ Precision = \\frac{950}{1000} $$\n",
    "$$ Precision = 0.95 $$\n",
    "\n",
    "#### <a id='toc2_3_2_3_'></a>[Recall](#toc0_)\n",
    "\n",
    "$$ Recall = \\frac{True Positive}{True Positive + False Negative} $$\n",
    "$$ Recall = \\frac{950}{950 + 50} $$\n",
    "$$ Recall = \\frac{950}{1000} $$\n",
    "$$ Recall = 0.95 $$\n",
    "\n",
    "#### <a id='toc2_3_2_4_'></a>[F1 Score](#toc0_)\n",
    "\n",
    "$$ F1 Score = 2 * \\frac{Precision * Recall}{Precision + Recall} $$\n",
    "$$ F1 Score = 2 * \\frac{0.95 * 0.95}{0.95 + 0.95} $$\n",
    "$$ F1 Score = 2 * \\frac{0.9025}{1.9} $$\n",
    "$$ F1 Score = 2 * 0.475 $$\n",
    "$$ F1 Score = 0.95 $$\n",
    "\n",
    "So, this is how we can evaluate a `classification` model using `confusion matrix`. Now, let's see how to implement `KNN` algorithm in python.\n",
    "\n"
   ]
  },
  {
   "cell_type": "markdown",
   "metadata": {},
   "source": [
    "# <a id='toc3_'></a>[KNN in python](#toc0_)\n",
    "\n",
    "Let's import the libraries first.\n",
    "\n",
    "- numpy (conda install numpy)\n",
    "- pandas (conda install pandas)\n",
    "- matplotlib (conda install matplotlib)\n",
    "- seaborn (conda install seaborn)\n"
   ]
  },
  {
   "cell_type": "code",
   "execution_count": 39,
   "metadata": {},
   "outputs": [],
   "source": [
    "# ignoring the warning\n",
    "import warnings\n",
    "warnings.filterwarnings(\"ignore\")"
   ]
  },
  {
   "cell_type": "markdown",
   "metadata": {},
   "source": [
    "> Don't worry about this because it's for my jupyter notebook and i did this to not get long warnings."
   ]
  },
  {
   "cell_type": "code",
   "execution_count": 40,
   "metadata": {},
   "outputs": [],
   "source": [
    "# importing the libraries\n",
    "import numpy as np\n",
    "import pandas as pd\n",
    "import matplotlib.pyplot as plt\n",
    "import seaborn as sns\n",
    "\n",
    "%matplotlib inline"
   ]
  },
  {
   "cell_type": "markdown",
   "metadata": {},
   "source": [
    "Now that we have imported the libraries, let's import the dataset. YOu can get the data in my github repository(https://github.com/RishatTalukder/learning_machine_learning/tree/main) and goto the `KNN` folder and you will see all the datasets i've ever used. Download the `Classified Data` dataset and put it in the `data` folder.\n",
    "\n",
    "Now you can load the dataset using pandas."
   ]
  },
  {
   "cell_type": "code",
   "execution_count": 41,
   "metadata": {},
   "outputs": [
    {
     "data": {
      "text/html": [
       "<div>\n",
       "<style scoped>\n",
       "    .dataframe tbody tr th:only-of-type {\n",
       "        vertical-align: middle;\n",
       "    }\n",
       "\n",
       "    .dataframe tbody tr th {\n",
       "        vertical-align: top;\n",
       "    }\n",
       "\n",
       "    .dataframe thead th {\n",
       "        text-align: right;\n",
       "    }\n",
       "</style>\n",
       "<table border=\"1\" class=\"dataframe\">\n",
       "  <thead>\n",
       "    <tr style=\"text-align: right;\">\n",
       "      <th></th>\n",
       "      <th>WTT</th>\n",
       "      <th>PTI</th>\n",
       "      <th>EQW</th>\n",
       "      <th>SBI</th>\n",
       "      <th>LQE</th>\n",
       "      <th>QWG</th>\n",
       "      <th>FDJ</th>\n",
       "      <th>PJF</th>\n",
       "      <th>HQE</th>\n",
       "      <th>NXJ</th>\n",
       "      <th>TARGET CLASS</th>\n",
       "    </tr>\n",
       "  </thead>\n",
       "  <tbody>\n",
       "    <tr>\n",
       "      <th>0</th>\n",
       "      <td>0.913917</td>\n",
       "      <td>1.162073</td>\n",
       "      <td>0.567946</td>\n",
       "      <td>0.755464</td>\n",
       "      <td>0.780862</td>\n",
       "      <td>0.352608</td>\n",
       "      <td>0.759697</td>\n",
       "      <td>0.643798</td>\n",
       "      <td>0.879422</td>\n",
       "      <td>1.231409</td>\n",
       "      <td>1</td>\n",
       "    </tr>\n",
       "    <tr>\n",
       "      <th>1</th>\n",
       "      <td>0.635632</td>\n",
       "      <td>1.003722</td>\n",
       "      <td>0.535342</td>\n",
       "      <td>0.825645</td>\n",
       "      <td>0.924109</td>\n",
       "      <td>0.648450</td>\n",
       "      <td>0.675334</td>\n",
       "      <td>1.013546</td>\n",
       "      <td>0.621552</td>\n",
       "      <td>1.492702</td>\n",
       "      <td>0</td>\n",
       "    </tr>\n",
       "    <tr>\n",
       "      <th>2</th>\n",
       "      <td>0.721360</td>\n",
       "      <td>1.201493</td>\n",
       "      <td>0.921990</td>\n",
       "      <td>0.855595</td>\n",
       "      <td>1.526629</td>\n",
       "      <td>0.720781</td>\n",
       "      <td>1.626351</td>\n",
       "      <td>1.154483</td>\n",
       "      <td>0.957877</td>\n",
       "      <td>1.285597</td>\n",
       "      <td>0</td>\n",
       "    </tr>\n",
       "    <tr>\n",
       "      <th>3</th>\n",
       "      <td>1.234204</td>\n",
       "      <td>1.386726</td>\n",
       "      <td>0.653046</td>\n",
       "      <td>0.825624</td>\n",
       "      <td>1.142504</td>\n",
       "      <td>0.875128</td>\n",
       "      <td>1.409708</td>\n",
       "      <td>1.380003</td>\n",
       "      <td>1.522692</td>\n",
       "      <td>1.153093</td>\n",
       "      <td>1</td>\n",
       "    </tr>\n",
       "    <tr>\n",
       "      <th>4</th>\n",
       "      <td>1.279491</td>\n",
       "      <td>0.949750</td>\n",
       "      <td>0.627280</td>\n",
       "      <td>0.668976</td>\n",
       "      <td>1.232537</td>\n",
       "      <td>0.703727</td>\n",
       "      <td>1.115596</td>\n",
       "      <td>0.646691</td>\n",
       "      <td>1.463812</td>\n",
       "      <td>1.419167</td>\n",
       "      <td>1</td>\n",
       "    </tr>\n",
       "  </tbody>\n",
       "</table>\n",
       "</div>"
      ],
      "text/plain": [
       "        WTT       PTI       EQW       SBI       LQE       QWG       FDJ  \\\n",
       "0  0.913917  1.162073  0.567946  0.755464  0.780862  0.352608  0.759697   \n",
       "1  0.635632  1.003722  0.535342  0.825645  0.924109  0.648450  0.675334   \n",
       "2  0.721360  1.201493  0.921990  0.855595  1.526629  0.720781  1.626351   \n",
       "3  1.234204  1.386726  0.653046  0.825624  1.142504  0.875128  1.409708   \n",
       "4  1.279491  0.949750  0.627280  0.668976  1.232537  0.703727  1.115596   \n",
       "\n",
       "        PJF       HQE       NXJ  TARGET CLASS  \n",
       "0  0.643798  0.879422  1.231409             1  \n",
       "1  1.013546  0.621552  1.492702             0  \n",
       "2  1.154483  0.957877  1.285597             0  \n",
       "3  1.380003  1.522692  1.153093             1  \n",
       "4  0.646691  1.463812  1.419167             1  "
      ]
     },
     "execution_count": 41,
     "metadata": {},
     "output_type": "execute_result"
    }
   ],
   "source": [
    "df = pd.read_csv('datasets/Classified Data',index_col=0)\n",
    "df.head()"
   ]
  },
  {
   "cell_type": "markdown",
   "metadata": {},
   "source": [
    "`pd.read_csv('data/Classified Data', index_col=0)` because the dataset had a index column and we don't want to create a new index column.\n",
    "\n",
    "Well the data is loaded. As you can see the attributes are `anonymous` and The `target` column is `0` or `1`. So, we will use `KNN` to classify the data into `0` or `1`."
   ]
  },
  {
   "cell_type": "code",
   "execution_count": 42,
   "metadata": {},
   "outputs": [
    {
     "name": "stdout",
     "output_type": "stream",
     "text": [
      "<class 'pandas.core.frame.DataFrame'>\n",
      "Index: 1000 entries, 0 to 999\n",
      "Data columns (total 11 columns):\n",
      " #   Column        Non-Null Count  Dtype  \n",
      "---  ------        --------------  -----  \n",
      " 0   WTT           1000 non-null   float64\n",
      " 1   PTI           1000 non-null   float64\n",
      " 2   EQW           1000 non-null   float64\n",
      " 3   SBI           1000 non-null   float64\n",
      " 4   LQE           1000 non-null   float64\n",
      " 5   QWG           1000 non-null   float64\n",
      " 6   FDJ           1000 non-null   float64\n",
      " 7   PJF           1000 non-null   float64\n",
      " 8   HQE           1000 non-null   float64\n",
      " 9   NXJ           1000 non-null   float64\n",
      " 10  TARGET CLASS  1000 non-null   int64  \n",
      "dtypes: float64(10), int64(1)\n",
      "memory usage: 93.8 KB\n"
     ]
    }
   ],
   "source": [
    "df.info()"
   ]
  },
  {
   "cell_type": "markdown",
   "metadata": {},
   "source": [
    "The `dataset` has `1000` rows and `11` columns. So, we have `1000` data points and `10` features. And we will use these `10` features to classify the data into `0` or `1`.\n",
    "\n",
    "Now an important thing is `scaling`. Because `KNN` is a `distance` based algorithm, we need to `scale` the `features`. Now, what is `scaling` you ask?\n",
    "\n",
    "`Scaling` is the process of `transforming` the `features` so that they have a `mean` of `0` and a `standard deviation` of `1`. It is also called `standardization`. It is done to `normalize` the `features` so that one `feature` does not dominate the other `features`.\n",
    "\n",
    "Suppose we have two `features` named `height` and `weight`. And the `height` is in `cm` and the `weight` is in `kg`. Height has a `mean` of `170` and a `standard deviation` of `10`. And the `weight` has a `mean` of `70` and a `standard deviation` of `5`. So, the `weight` will dominate the `height` because it has a `smaller` `mean` and a `smaller` `standard deviation`. So, we need to `scale` the `features` so that they have a `mean` of `0` and a `standard deviation` of `1`.\n",
    "\n",
    "## <a id='toc3_1_'></a>[Scaling the features](#toc0_)\n",
    "\n",
    "`SCI-KIT LEARN` has a `StandardScaler` class which is used to `scale` the `features`. So, let's import the `StandardScaler` class from `SCI-KIT LEARN`. (conda install scikit-learn)"
   ]
  },
  {
   "cell_type": "code",
   "execution_count": 43,
   "metadata": {},
   "outputs": [],
   "source": [
    "from sklearn.preprocessing import StandardScaler # for scaling the data"
   ]
  },
  {
   "cell_type": "markdown",
   "metadata": {},
   "source": [
    "We will create a `StandardScaler` object and use `fit` method to `fit` the `features` to the `StandardScaler` object. And then we will use `transform` method to `transform` the `features` to `scaled` `features`."
   ]
  },
  {
   "cell_type": "code",
   "execution_count": 44,
   "metadata": {},
   "outputs": [
    {
     "data": {
      "text/html": [
       "<style>#sk-container-id-3 {color: black;}#sk-container-id-3 pre{padding: 0;}#sk-container-id-3 div.sk-toggleable {background-color: white;}#sk-container-id-3 label.sk-toggleable__label {cursor: pointer;display: block;width: 100%;margin-bottom: 0;padding: 0.3em;box-sizing: border-box;text-align: center;}#sk-container-id-3 label.sk-toggleable__label-arrow:before {content: \"▸\";float: left;margin-right: 0.25em;color: #696969;}#sk-container-id-3 label.sk-toggleable__label-arrow:hover:before {color: black;}#sk-container-id-3 div.sk-estimator:hover label.sk-toggleable__label-arrow:before {color: black;}#sk-container-id-3 div.sk-toggleable__content {max-height: 0;max-width: 0;overflow: hidden;text-align: left;background-color: #f0f8ff;}#sk-container-id-3 div.sk-toggleable__content pre {margin: 0.2em;color: black;border-radius: 0.25em;background-color: #f0f8ff;}#sk-container-id-3 input.sk-toggleable__control:checked~div.sk-toggleable__content {max-height: 200px;max-width: 100%;overflow: auto;}#sk-container-id-3 input.sk-toggleable__control:checked~label.sk-toggleable__label-arrow:before {content: \"▾\";}#sk-container-id-3 div.sk-estimator input.sk-toggleable__control:checked~label.sk-toggleable__label {background-color: #d4ebff;}#sk-container-id-3 div.sk-label input.sk-toggleable__control:checked~label.sk-toggleable__label {background-color: #d4ebff;}#sk-container-id-3 input.sk-hidden--visually {border: 0;clip: rect(1px 1px 1px 1px);clip: rect(1px, 1px, 1px, 1px);height: 1px;margin: -1px;overflow: hidden;padding: 0;position: absolute;width: 1px;}#sk-container-id-3 div.sk-estimator {font-family: monospace;background-color: #f0f8ff;border: 1px dotted black;border-radius: 0.25em;box-sizing: border-box;margin-bottom: 0.5em;}#sk-container-id-3 div.sk-estimator:hover {background-color: #d4ebff;}#sk-container-id-3 div.sk-parallel-item::after {content: \"\";width: 100%;border-bottom: 1px solid gray;flex-grow: 1;}#sk-container-id-3 div.sk-label:hover label.sk-toggleable__label {background-color: #d4ebff;}#sk-container-id-3 div.sk-serial::before {content: \"\";position: absolute;border-left: 1px solid gray;box-sizing: border-box;top: 0;bottom: 0;left: 50%;z-index: 0;}#sk-container-id-3 div.sk-serial {display: flex;flex-direction: column;align-items: center;background-color: white;padding-right: 0.2em;padding-left: 0.2em;position: relative;}#sk-container-id-3 div.sk-item {position: relative;z-index: 1;}#sk-container-id-3 div.sk-parallel {display: flex;align-items: stretch;justify-content: center;background-color: white;position: relative;}#sk-container-id-3 div.sk-item::before, #sk-container-id-3 div.sk-parallel-item::before {content: \"\";position: absolute;border-left: 1px solid gray;box-sizing: border-box;top: 0;bottom: 0;left: 50%;z-index: -1;}#sk-container-id-3 div.sk-parallel-item {display: flex;flex-direction: column;z-index: 1;position: relative;background-color: white;}#sk-container-id-3 div.sk-parallel-item:first-child::after {align-self: flex-end;width: 50%;}#sk-container-id-3 div.sk-parallel-item:last-child::after {align-self: flex-start;width: 50%;}#sk-container-id-3 div.sk-parallel-item:only-child::after {width: 0;}#sk-container-id-3 div.sk-dashed-wrapped {border: 1px dashed gray;margin: 0 0.4em 0.5em 0.4em;box-sizing: border-box;padding-bottom: 0.4em;background-color: white;}#sk-container-id-3 div.sk-label label {font-family: monospace;font-weight: bold;display: inline-block;line-height: 1.2em;}#sk-container-id-3 div.sk-label-container {text-align: center;}#sk-container-id-3 div.sk-container {/* jupyter's `normalize.less` sets `[hidden] { display: none; }` but bootstrap.min.css set `[hidden] { display: none !important; }` so we also need the `!important` here to be able to override the default hidden behavior on the sphinx rendered scikit-learn.org. See: https://github.com/scikit-learn/scikit-learn/issues/21755 */display: inline-block !important;position: relative;}#sk-container-id-3 div.sk-text-repr-fallback {display: none;}</style><div id=\"sk-container-id-3\" class=\"sk-top-container\"><div class=\"sk-text-repr-fallback\"><pre>StandardScaler()</pre><b>In a Jupyter environment, please rerun this cell to show the HTML representation or trust the notebook. <br />On GitHub, the HTML representation is unable to render, please try loading this page with nbviewer.org.</b></div><div class=\"sk-container\" hidden><div class=\"sk-item\"><div class=\"sk-estimator sk-toggleable\"><input class=\"sk-toggleable__control sk-hidden--visually\" id=\"sk-estimator-id-3\" type=\"checkbox\" checked><label for=\"sk-estimator-id-3\" class=\"sk-toggleable__label sk-toggleable__label-arrow\">StandardScaler</label><div class=\"sk-toggleable__content\"><pre>StandardScaler()</pre></div></div></div></div></div>"
      ],
      "text/plain": [
       "StandardScaler()"
      ]
     },
     "execution_count": 44,
     "metadata": {},
     "output_type": "execute_result"
    }
   ],
   "source": [
    "scaler = StandardScaler() # creating an instance of the scaler\n",
    "scaler.fit(df.drop('TARGET CLASS',axis=1)) # fitting the data to the scaler without the target class"
   ]
  },
  {
   "cell_type": "markdown",
   "metadata": {},
   "source": [
    "Now that the `features` are `fitted` we can `transform` the `features` to `scaled` `features`.\n"
   ]
  },
  {
   "cell_type": "code",
   "execution_count": 45,
   "metadata": {},
   "outputs": [
    {
     "data": {
      "text/plain": [
       "array([[-0.12354188,  0.18590747, -0.91343069, ..., -1.48236813,\n",
       "        -0.9497194 , -0.64331425],\n",
       "       [-1.08483602, -0.43034845, -1.02531333, ..., -0.20224031,\n",
       "        -1.82805088,  0.63675862],\n",
       "       [-0.78870217,  0.33931821,  0.30151137, ...,  0.28570652,\n",
       "        -0.68249379, -0.37784986],\n",
       "       ...,\n",
       "       [ 0.64177714, -0.51308341, -0.17920486, ..., -2.36249443,\n",
       "        -0.81426092,  0.11159651],\n",
       "       [ 0.46707241, -0.98278576, -1.46519359, ..., -0.03677699,\n",
       "         0.40602453, -0.85567   ],\n",
       "       [-0.38765353, -0.59589427, -1.4313981 , ..., -0.56778932,\n",
       "         0.3369971 ,  0.01034996]])"
      ]
     },
     "execution_count": 45,
     "metadata": {},
     "output_type": "execute_result"
    }
   ],
   "source": [
    "scaled_features = scaler.transform(df.drop('TARGET CLASS',axis=1)) # transforming the data to the scaled version\n",
    "scaled_features"
   ]
  },
  {
   "cell_type": "markdown",
   "metadata": {},
   "source": [
    "`scaled_features` are showing as a `numpy` array which is the `scaled` `features` of the `dataset`.\n",
    "\n",
    "Now, we will create a `dataframe` using the `scaled_features` and the `columns` of the `dataframe` will be the `columns` of the `dataset`."
   ]
  },
  {
   "cell_type": "code",
   "execution_count": 46,
   "metadata": {},
   "outputs": [],
   "source": [
    "new_dataframe = pd.DataFrame(scaled_features,columns=df.columns[:-1]) # creating a new dataframe with the scaled features"
   ]
  },
  {
   "cell_type": "markdown",
   "metadata": {},
   "source": [
    "> `pd.DataFrame(scaled_features, columns=df.columns[:-1])` because we don't want the `target` column so we are using `df.columns[:-1]` to get all the `columns` except the `target` column.\n",
    "\n",
    "Now let's have a look at our new scaled dataframe."
   ]
  },
  {
   "cell_type": "code",
   "execution_count": 47,
   "metadata": {},
   "outputs": [
    {
     "data": {
      "text/html": [
       "<div>\n",
       "<style scoped>\n",
       "    .dataframe tbody tr th:only-of-type {\n",
       "        vertical-align: middle;\n",
       "    }\n",
       "\n",
       "    .dataframe tbody tr th {\n",
       "        vertical-align: top;\n",
       "    }\n",
       "\n",
       "    .dataframe thead th {\n",
       "        text-align: right;\n",
       "    }\n",
       "</style>\n",
       "<table border=\"1\" class=\"dataframe\">\n",
       "  <thead>\n",
       "    <tr style=\"text-align: right;\">\n",
       "      <th></th>\n",
       "      <th>WTT</th>\n",
       "      <th>PTI</th>\n",
       "      <th>EQW</th>\n",
       "      <th>SBI</th>\n",
       "      <th>LQE</th>\n",
       "      <th>QWG</th>\n",
       "      <th>FDJ</th>\n",
       "      <th>PJF</th>\n",
       "      <th>HQE</th>\n",
       "      <th>NXJ</th>\n",
       "    </tr>\n",
       "  </thead>\n",
       "  <tbody>\n",
       "    <tr>\n",
       "      <th>0</th>\n",
       "      <td>-0.123542</td>\n",
       "      <td>0.185907</td>\n",
       "      <td>-0.913431</td>\n",
       "      <td>0.319629</td>\n",
       "      <td>-1.033637</td>\n",
       "      <td>-2.308375</td>\n",
       "      <td>-0.798951</td>\n",
       "      <td>-1.482368</td>\n",
       "      <td>-0.949719</td>\n",
       "      <td>-0.643314</td>\n",
       "    </tr>\n",
       "    <tr>\n",
       "      <th>1</th>\n",
       "      <td>-1.084836</td>\n",
       "      <td>-0.430348</td>\n",
       "      <td>-1.025313</td>\n",
       "      <td>0.625388</td>\n",
       "      <td>-0.444847</td>\n",
       "      <td>-1.152706</td>\n",
       "      <td>-1.129797</td>\n",
       "      <td>-0.202240</td>\n",
       "      <td>-1.828051</td>\n",
       "      <td>0.636759</td>\n",
       "    </tr>\n",
       "    <tr>\n",
       "      <th>2</th>\n",
       "      <td>-0.788702</td>\n",
       "      <td>0.339318</td>\n",
       "      <td>0.301511</td>\n",
       "      <td>0.755873</td>\n",
       "      <td>2.031693</td>\n",
       "      <td>-0.870156</td>\n",
       "      <td>2.599818</td>\n",
       "      <td>0.285707</td>\n",
       "      <td>-0.682494</td>\n",
       "      <td>-0.377850</td>\n",
       "    </tr>\n",
       "    <tr>\n",
       "      <th>3</th>\n",
       "      <td>0.982841</td>\n",
       "      <td>1.060193</td>\n",
       "      <td>-0.621399</td>\n",
       "      <td>0.625299</td>\n",
       "      <td>0.452820</td>\n",
       "      <td>-0.267220</td>\n",
       "      <td>1.750208</td>\n",
       "      <td>1.066491</td>\n",
       "      <td>1.241325</td>\n",
       "      <td>-1.026987</td>\n",
       "    </tr>\n",
       "    <tr>\n",
       "      <th>4</th>\n",
       "      <td>1.139275</td>\n",
       "      <td>-0.640392</td>\n",
       "      <td>-0.709819</td>\n",
       "      <td>-0.057175</td>\n",
       "      <td>0.822886</td>\n",
       "      <td>-0.936773</td>\n",
       "      <td>0.596782</td>\n",
       "      <td>-1.472352</td>\n",
       "      <td>1.040772</td>\n",
       "      <td>0.276510</td>\n",
       "    </tr>\n",
       "  </tbody>\n",
       "</table>\n",
       "</div>"
      ],
      "text/plain": [
       "        WTT       PTI       EQW       SBI       LQE       QWG       FDJ  \\\n",
       "0 -0.123542  0.185907 -0.913431  0.319629 -1.033637 -2.308375 -0.798951   \n",
       "1 -1.084836 -0.430348 -1.025313  0.625388 -0.444847 -1.152706 -1.129797   \n",
       "2 -0.788702  0.339318  0.301511  0.755873  2.031693 -0.870156  2.599818   \n",
       "3  0.982841  1.060193 -0.621399  0.625299  0.452820 -0.267220  1.750208   \n",
       "4  1.139275 -0.640392 -0.709819 -0.057175  0.822886 -0.936773  0.596782   \n",
       "\n",
       "        PJF       HQE       NXJ  \n",
       "0 -1.482368 -0.949719 -0.643314  \n",
       "1 -0.202240 -1.828051  0.636759  \n",
       "2  0.285707 -0.682494 -0.377850  \n",
       "3  1.066491  1.241325 -1.026987  \n",
       "4 -1.472352  1.040772  0.276510  "
      ]
     },
     "execution_count": 47,
     "metadata": {},
     "output_type": "execute_result"
    }
   ],
   "source": [
    "new_dataframe.head()"
   ]
  },
  {
   "cell_type": "code",
   "execution_count": 48,
   "metadata": {},
   "outputs": [
    {
     "data": {
      "text/html": [
       "<div>\n",
       "<style scoped>\n",
       "    .dataframe tbody tr th:only-of-type {\n",
       "        vertical-align: middle;\n",
       "    }\n",
       "\n",
       "    .dataframe tbody tr th {\n",
       "        vertical-align: top;\n",
       "    }\n",
       "\n",
       "    .dataframe thead th {\n",
       "        text-align: right;\n",
       "    }\n",
       "</style>\n",
       "<table border=\"1\" class=\"dataframe\">\n",
       "  <thead>\n",
       "    <tr style=\"text-align: right;\">\n",
       "      <th></th>\n",
       "      <th>WTT</th>\n",
       "      <th>PTI</th>\n",
       "      <th>EQW</th>\n",
       "      <th>SBI</th>\n",
       "      <th>LQE</th>\n",
       "      <th>QWG</th>\n",
       "      <th>FDJ</th>\n",
       "      <th>PJF</th>\n",
       "      <th>HQE</th>\n",
       "      <th>NXJ</th>\n",
       "    </tr>\n",
       "  </thead>\n",
       "  <tbody>\n",
       "    <tr>\n",
       "      <th>count</th>\n",
       "      <td>1.000000e+03</td>\n",
       "      <td>1.000000e+03</td>\n",
       "      <td>1.000000e+03</td>\n",
       "      <td>1.000000e+03</td>\n",
       "      <td>1.000000e+03</td>\n",
       "      <td>1.000000e+03</td>\n",
       "      <td>1.000000e+03</td>\n",
       "      <td>1.000000e+03</td>\n",
       "      <td>1.000000e+03</td>\n",
       "      <td>1.000000e+03</td>\n",
       "    </tr>\n",
       "    <tr>\n",
       "      <th>mean</th>\n",
       "      <td>1.119105e-16</td>\n",
       "      <td>-2.939871e-16</td>\n",
       "      <td>-1.203482e-16</td>\n",
       "      <td>-1.882938e-16</td>\n",
       "      <td>-6.057377e-16</td>\n",
       "      <td>3.552714e-17</td>\n",
       "      <td>2.255973e-16</td>\n",
       "      <td>-4.760636e-16</td>\n",
       "      <td>3.197442e-16</td>\n",
       "      <td>4.503065e-16</td>\n",
       "    </tr>\n",
       "    <tr>\n",
       "      <th>std</th>\n",
       "      <td>1.000500e+00</td>\n",
       "      <td>1.000500e+00</td>\n",
       "      <td>1.000500e+00</td>\n",
       "      <td>1.000500e+00</td>\n",
       "      <td>1.000500e+00</td>\n",
       "      <td>1.000500e+00</td>\n",
       "      <td>1.000500e+00</td>\n",
       "      <td>1.000500e+00</td>\n",
       "      <td>1.000500e+00</td>\n",
       "      <td>1.000500e+00</td>\n",
       "    </tr>\n",
       "    <tr>\n",
       "      <th>min</th>\n",
       "      <td>-2.678050e+00</td>\n",
       "      <td>-2.618747e+00</td>\n",
       "      <td>-2.275858e+00</td>\n",
       "      <td>-2.775551e+00</td>\n",
       "      <td>-2.947206e+00</td>\n",
       "      <td>-2.660802e+00</td>\n",
       "      <td>-2.620466e+00</td>\n",
       "      <td>-2.674465e+00</td>\n",
       "      <td>-2.701361e+00</td>\n",
       "      <td>-3.542140e+00</td>\n",
       "    </tr>\n",
       "    <tr>\n",
       "      <th>25%</th>\n",
       "      <td>-7.161683e-01</td>\n",
       "      <td>-6.702761e-01</td>\n",
       "      <td>-7.504105e-01</td>\n",
       "      <td>-7.279635e-01</td>\n",
       "      <td>-6.637361e-01</td>\n",
       "      <td>-7.127975e-01</td>\n",
       "      <td>-7.020467e-01</td>\n",
       "      <td>-7.120098e-01</td>\n",
       "      <td>-7.626629e-01</td>\n",
       "      <td>-6.863610e-01</td>\n",
       "    </tr>\n",
       "    <tr>\n",
       "      <th>50%</th>\n",
       "      <td>-3.180217e-02</td>\n",
       "      <td>1.628137e-02</td>\n",
       "      <td>-7.159299e-02</td>\n",
       "      <td>-2.293699e-02</td>\n",
       "      <td>1.433731e-02</td>\n",
       "      <td>-7.940354e-03</td>\n",
       "      <td>-7.093937e-02</td>\n",
       "      <td>-2.236584e-02</td>\n",
       "      <td>2.488297e-02</td>\n",
       "      <td>6.194010e-02</td>\n",
       "    </tr>\n",
       "    <tr>\n",
       "      <th>75%</th>\n",
       "      <td>7.378939e-01</td>\n",
       "      <td>7.534412e-01</td>\n",
       "      <td>6.664646e-01</td>\n",
       "      <td>6.631695e-01</td>\n",
       "      <td>6.820374e-01</td>\n",
       "      <td>7.012930e-01</td>\n",
       "      <td>6.723000e-01</td>\n",
       "      <td>7.311915e-01</td>\n",
       "      <td>7.661087e-01</td>\n",
       "      <td>6.961851e-01</td>\n",
       "    </tr>\n",
       "    <tr>\n",
       "      <th>max</th>\n",
       "      <td>2.667092e+00</td>\n",
       "      <td>2.799904e+00</td>\n",
       "      <td>3.049325e+00</td>\n",
       "      <td>4.151021e+00</td>\n",
       "      <td>2.538987e+00</td>\n",
       "      <td>2.825739e+00</td>\n",
       "      <td>2.940974e+00</td>\n",
       "      <td>2.470109e+00</td>\n",
       "      <td>2.477734e+00</td>\n",
       "      <td>2.602476e+00</td>\n",
       "    </tr>\n",
       "  </tbody>\n",
       "</table>\n",
       "</div>"
      ],
      "text/plain": [
       "                WTT           PTI           EQW           SBI           LQE  \\\n",
       "count  1.000000e+03  1.000000e+03  1.000000e+03  1.000000e+03  1.000000e+03   \n",
       "mean   1.119105e-16 -2.939871e-16 -1.203482e-16 -1.882938e-16 -6.057377e-16   \n",
       "std    1.000500e+00  1.000500e+00  1.000500e+00  1.000500e+00  1.000500e+00   \n",
       "min   -2.678050e+00 -2.618747e+00 -2.275858e+00 -2.775551e+00 -2.947206e+00   \n",
       "25%   -7.161683e-01 -6.702761e-01 -7.504105e-01 -7.279635e-01 -6.637361e-01   \n",
       "50%   -3.180217e-02  1.628137e-02 -7.159299e-02 -2.293699e-02  1.433731e-02   \n",
       "75%    7.378939e-01  7.534412e-01  6.664646e-01  6.631695e-01  6.820374e-01   \n",
       "max    2.667092e+00  2.799904e+00  3.049325e+00  4.151021e+00  2.538987e+00   \n",
       "\n",
       "                QWG           FDJ           PJF           HQE           NXJ  \n",
       "count  1.000000e+03  1.000000e+03  1.000000e+03  1.000000e+03  1.000000e+03  \n",
       "mean   3.552714e-17  2.255973e-16 -4.760636e-16  3.197442e-16  4.503065e-16  \n",
       "std    1.000500e+00  1.000500e+00  1.000500e+00  1.000500e+00  1.000500e+00  \n",
       "min   -2.660802e+00 -2.620466e+00 -2.674465e+00 -2.701361e+00 -3.542140e+00  \n",
       "25%   -7.127975e-01 -7.020467e-01 -7.120098e-01 -7.626629e-01 -6.863610e-01  \n",
       "50%   -7.940354e-03 -7.093937e-02 -2.236584e-02  2.488297e-02  6.194010e-02  \n",
       "75%    7.012930e-01  6.723000e-01  7.311915e-01  7.661087e-01  6.961851e-01  \n",
       "max    2.825739e+00  2.940974e+00  2.470109e+00  2.477734e+00  2.602476e+00  "
      ]
     },
     "execution_count": 48,
     "metadata": {},
     "output_type": "execute_result"
    }
   ],
   "source": [
    "new_dataframe.describe()"
   ]
  },
  {
   "cell_type": "markdown",
   "metadata": {},
   "source": [
    "There you go.. We have a new `dataframe` with `scaled` `features`. Now, we will use this `dataframe` to train our `KNN` model. And after calling you can see the `scaled` `features` have a `mean` close to `0` and a `standard deviation` close to `1`.\n",
    "\n",
    "now we can make our model.\n",
    "\n",
    "## <a id='toc3_2_'></a>[Making the model](#toc0_)\n",
    "\n",
    "I think you know how it goes.\n",
    "- Make a `X` variable and assign the `scaled_features` to it\n",
    "- Make a `y` variable and assign the `target` column to it\n",
    "- Import `train_test_split` from `SCI-KIT LEARN`\n",
    "- Split the `X` and `y` into `X_train`, `X_test`, `y_train` and `y_test`\n",
    "- Import `KNeighborsClassifier` from `SCI-KIT LEARN`\n",
    "- Create a `KNeighborsClassifier` object and pass `n_neighbors=1` to it\n",
    "- Call `fit` method on the `KNeighborsClassifier` object and pass `X_train` and `y_train` to it\n",
    "- Call `predict` method on the `KNeighborsClassifier` object and pass `X_test` to it\n",
    "- Evaluate the model using `confusion matrix`, `accuracy`, `precision`, `recall` and `f1 score`.\n",
    "\n",
    "So, let's start."
   ]
  },
  {
   "cell_type": "code",
   "execution_count": 49,
   "metadata": {},
   "outputs": [],
   "source": [
    "#making the x and y variables\n",
    "x = new_dataframe # x is the scaled features\n",
    "y = df['TARGET CLASS'] # y is the target class"
   ]
  },
  {
   "cell_type": "markdown",
   "metadata": {},
   "source": [
    "`x = new_dataframe` because it has all the `scaled` `features` except the `target` column.\n",
    "`y = df['TARGET CLASS']` because it has the `target` column.\n",
    "\n",
    "Now, we will import `train_test_split` from `SCI-KIT LEARN` and split the `X` and `y` into `X_train`, `X_test`, `y_train` and `y_test`."
   ]
  },
  {
   "cell_type": "code",
   "execution_count": 50,
   "metadata": {},
   "outputs": [],
   "source": [
    "# train test split\n",
    "from sklearn.model_selection import train_test_split\n",
    "\n",
    "x_train,x_test,y_train,y_test = train_test_split(x,y,test_size=0.3,random_state=101)"
   ]
  },
  {
   "cell_type": "markdown",
   "metadata": {},
   "source": [
    "We have the `X_train`, `X_test`, `y_train` and `y_test`. Now, we will import `KNeighborsClassifier` from `SCI-KIT LEARN` and create a `KNeighborsClassifier` object and pass `n_neighbors=1` to it."
   ]
  },
  {
   "cell_type": "code",
   "execution_count": 51,
   "metadata": {},
   "outputs": [
    {
     "data": {
      "text/html": [
       "<style>#sk-container-id-4 {color: black;}#sk-container-id-4 pre{padding: 0;}#sk-container-id-4 div.sk-toggleable {background-color: white;}#sk-container-id-4 label.sk-toggleable__label {cursor: pointer;display: block;width: 100%;margin-bottom: 0;padding: 0.3em;box-sizing: border-box;text-align: center;}#sk-container-id-4 label.sk-toggleable__label-arrow:before {content: \"▸\";float: left;margin-right: 0.25em;color: #696969;}#sk-container-id-4 label.sk-toggleable__label-arrow:hover:before {color: black;}#sk-container-id-4 div.sk-estimator:hover label.sk-toggleable__label-arrow:before {color: black;}#sk-container-id-4 div.sk-toggleable__content {max-height: 0;max-width: 0;overflow: hidden;text-align: left;background-color: #f0f8ff;}#sk-container-id-4 div.sk-toggleable__content pre {margin: 0.2em;color: black;border-radius: 0.25em;background-color: #f0f8ff;}#sk-container-id-4 input.sk-toggleable__control:checked~div.sk-toggleable__content {max-height: 200px;max-width: 100%;overflow: auto;}#sk-container-id-4 input.sk-toggleable__control:checked~label.sk-toggleable__label-arrow:before {content: \"▾\";}#sk-container-id-4 div.sk-estimator input.sk-toggleable__control:checked~label.sk-toggleable__label {background-color: #d4ebff;}#sk-container-id-4 div.sk-label input.sk-toggleable__control:checked~label.sk-toggleable__label {background-color: #d4ebff;}#sk-container-id-4 input.sk-hidden--visually {border: 0;clip: rect(1px 1px 1px 1px);clip: rect(1px, 1px, 1px, 1px);height: 1px;margin: -1px;overflow: hidden;padding: 0;position: absolute;width: 1px;}#sk-container-id-4 div.sk-estimator {font-family: monospace;background-color: #f0f8ff;border: 1px dotted black;border-radius: 0.25em;box-sizing: border-box;margin-bottom: 0.5em;}#sk-container-id-4 div.sk-estimator:hover {background-color: #d4ebff;}#sk-container-id-4 div.sk-parallel-item::after {content: \"\";width: 100%;border-bottom: 1px solid gray;flex-grow: 1;}#sk-container-id-4 div.sk-label:hover label.sk-toggleable__label {background-color: #d4ebff;}#sk-container-id-4 div.sk-serial::before {content: \"\";position: absolute;border-left: 1px solid gray;box-sizing: border-box;top: 0;bottom: 0;left: 50%;z-index: 0;}#sk-container-id-4 div.sk-serial {display: flex;flex-direction: column;align-items: center;background-color: white;padding-right: 0.2em;padding-left: 0.2em;position: relative;}#sk-container-id-4 div.sk-item {position: relative;z-index: 1;}#sk-container-id-4 div.sk-parallel {display: flex;align-items: stretch;justify-content: center;background-color: white;position: relative;}#sk-container-id-4 div.sk-item::before, #sk-container-id-4 div.sk-parallel-item::before {content: \"\";position: absolute;border-left: 1px solid gray;box-sizing: border-box;top: 0;bottom: 0;left: 50%;z-index: -1;}#sk-container-id-4 div.sk-parallel-item {display: flex;flex-direction: column;z-index: 1;position: relative;background-color: white;}#sk-container-id-4 div.sk-parallel-item:first-child::after {align-self: flex-end;width: 50%;}#sk-container-id-4 div.sk-parallel-item:last-child::after {align-self: flex-start;width: 50%;}#sk-container-id-4 div.sk-parallel-item:only-child::after {width: 0;}#sk-container-id-4 div.sk-dashed-wrapped {border: 1px dashed gray;margin: 0 0.4em 0.5em 0.4em;box-sizing: border-box;padding-bottom: 0.4em;background-color: white;}#sk-container-id-4 div.sk-label label {font-family: monospace;font-weight: bold;display: inline-block;line-height: 1.2em;}#sk-container-id-4 div.sk-label-container {text-align: center;}#sk-container-id-4 div.sk-container {/* jupyter's `normalize.less` sets `[hidden] { display: none; }` but bootstrap.min.css set `[hidden] { display: none !important; }` so we also need the `!important` here to be able to override the default hidden behavior on the sphinx rendered scikit-learn.org. See: https://github.com/scikit-learn/scikit-learn/issues/21755 */display: inline-block !important;position: relative;}#sk-container-id-4 div.sk-text-repr-fallback {display: none;}</style><div id=\"sk-container-id-4\" class=\"sk-top-container\"><div class=\"sk-text-repr-fallback\"><pre>KNeighborsClassifier()</pre><b>In a Jupyter environment, please rerun this cell to show the HTML representation or trust the notebook. <br />On GitHub, the HTML representation is unable to render, please try loading this page with nbviewer.org.</b></div><div class=\"sk-container\" hidden><div class=\"sk-item\"><div class=\"sk-estimator sk-toggleable\"><input class=\"sk-toggleable__control sk-hidden--visually\" id=\"sk-estimator-id-4\" type=\"checkbox\" checked><label for=\"sk-estimator-id-4\" class=\"sk-toggleable__label sk-toggleable__label-arrow\">KNeighborsClassifier</label><div class=\"sk-toggleable__content\"><pre>KNeighborsClassifier()</pre></div></div></div></div></div>"
      ],
      "text/plain": [
       "KNeighborsClassifier()"
      ]
     },
     "execution_count": 51,
     "metadata": {},
     "output_type": "execute_result"
    }
   ],
   "source": [
    "## KNN\n",
    "from sklearn.neighbors import KNeighborsClassifier\n",
    "\n",
    "knn_model = KNeighborsClassifier(n_neighbors=5) # creating an instance of the model\n",
    "\n",
    "## training the model\n",
    "knn_model.fit(x_train,y_train)"
   ]
  },
  {
   "cell_type": "markdown",
   "metadata": {},
   "source": [
    "> `n_neighbors=?` is the `k` value. So, we are passing `5` to it."
   ]
  },
  {
   "cell_type": "markdown",
   "metadata": {},
   "source": [
    "Now, we have the model `fitted` and `trained` and we can make predictions using this model. So, we will call `predict` method on the `KNeighborsClassifier` object and pass `X_test` to it."
   ]
  },
  {
   "cell_type": "code",
   "execution_count": 52,
   "metadata": {},
   "outputs": [
    {
     "data": {
      "text/plain": [
       "array([0, 0, 0, 0, 0, 0, 1, 1, 0, 0, 1, 0, 0, 1, 0, 1, 1, 1, 1, 0, 0, 1,\n",
       "       0, 1, 1, 0, 0, 0, 1, 0, 0, 1, 1, 0, 1, 0, 0, 0, 1, 0, 1, 1, 0, 1,\n",
       "       1, 0, 1, 1, 0, 1, 0, 1, 1, 0, 0, 0, 0, 0, 0, 0, 0, 1, 1, 0, 0, 1,\n",
       "       0, 0, 0, 0, 0, 0, 1, 0, 0, 0, 0, 0, 1, 0, 1, 0, 0, 0, 1, 0, 0, 0,\n",
       "       1, 0, 0, 1, 0, 1, 0, 0, 1, 1, 0, 0, 0, 1, 1, 1, 0, 0, 0, 1, 1, 0,\n",
       "       0, 0, 0, 0, 1, 0, 1, 1, 0, 1, 1, 1, 0, 1, 1, 1, 0, 1, 0, 0, 0, 1,\n",
       "       1, 1, 1, 0, 1, 1, 1, 0, 0, 1, 1, 0, 1, 0, 0, 0, 1, 1, 1, 0, 0, 1,\n",
       "       1, 1, 0, 1, 0, 0, 0, 1, 0, 0, 1, 0, 1, 0, 0, 0, 0, 1, 1, 0, 0, 0,\n",
       "       1, 1, 0, 0, 1, 1, 1, 0, 1, 0, 0, 1, 0, 1, 1, 1, 1, 1, 1, 1, 0, 1,\n",
       "       0, 1, 0, 0, 1, 1, 0, 1, 0, 0, 0, 0, 1, 1, 1, 1, 0, 0, 0, 1, 0, 0,\n",
       "       0, 1, 0, 0, 1, 1, 0, 1, 0, 0, 1, 1, 0, 1, 0, 1, 0, 0, 1, 0, 0, 1,\n",
       "       0, 0, 1, 0, 1, 0, 0, 1, 1, 0, 0, 0, 1, 1, 0, 1, 1, 0, 1, 0, 1, 1,\n",
       "       1, 0, 0, 1, 0, 0, 0, 0, 1, 0, 1, 0, 1, 0, 1, 0, 0, 0, 1, 0, 0, 0,\n",
       "       0, 1, 1, 0, 0, 0, 1, 1, 1, 0, 1, 1, 1, 0])"
      ]
     },
     "execution_count": 52,
     "metadata": {},
     "output_type": "execute_result"
    }
   ],
   "source": [
    "## predicting from the model\n",
    "predictions = knn_model.predict(x_test)\n",
    "predictions"
   ]
  },
  {
   "cell_type": "markdown",
   "metadata": {},
   "source": [
    "Success! We have made the predictions. Now, we will evaluate the model using `confusion matrix`, `accuracy`, `precision`, `recall` and `f1 score`."
   ]
  },
  {
   "cell_type": "code",
   "execution_count": 53,
   "metadata": {},
   "outputs": [
    {
     "name": "stdout",
     "output_type": "stream",
     "text": [
      "[[154   5]\n",
      " [ 12 129]]\n"
     ]
    }
   ],
   "source": [
    "## evaluating the model\n",
    "from sklearn.metrics import confusion_matrix\n",
    "\n",
    "print(confusion_matrix(y_true=y_test,y_pred=predictions), ) # y_true is the actual values and y_pred is the predicted values\n"
   ]
  },
  {
   "cell_type": "markdown",
   "metadata": {},
   "source": [
    "Here's the `confusion matrix`:\n",
    "\n",
    "|            | Predicted: 0 | Predicted: 1 | Total |\n",
    "| ---------- | ------------ | ------------ | ----- |\n",
    "| Actual: 0  | 154          | 5            | 159   |\n",
    "| Actual: 1  | 12           | 129          | 141   |\n",
    "| Total      | 166          | 134          | 300   |\n",
    "\n",
    "YOu can do the math yourself to find the `accuracy`, `precision`, `recall` and `f1 score`.\n",
    "\n",
    "But we will use `classification_report` from `SCI-KIT LEARN` to find the `accuracy`, `precision`, `recall` and `f1 score`.\n"
   ]
  },
  {
   "cell_type": "code",
   "execution_count": 54,
   "metadata": {},
   "outputs": [
    {
     "name": "stdout",
     "output_type": "stream",
     "text": [
      "              precision    recall  f1-score   support\n",
      "\n",
      "           0       0.93      0.97      0.95       159\n",
      "           1       0.96      0.91      0.94       141\n",
      "\n",
      "    accuracy                           0.94       300\n",
      "   macro avg       0.95      0.94      0.94       300\n",
      "weighted avg       0.94      0.94      0.94       300\n",
      "\n"
     ]
    }
   ],
   "source": [
    "from sklearn.metrics import classification_report\n",
    "\n",
    "print(classification_report(y_true=y_test,y_pred=predictions))"
   ]
  },
  {
   "cell_type": "markdown",
   "metadata": {},
   "source": [
    "SO, we have a pretty decent `model`. But can we make it better by choosing a better value of `k`? Let's find out.\n",
    "\n",
    "## <a id='toc3_3_'></a>[Choosing the best value of `k`](#toc0_)\n",
    "\n",
    "I'll test the model for `k = 1` to `k = 40` and see which one gives the best result."
   ]
  },
  {
   "cell_type": "markdown",
   "metadata": {},
   "source": [
    "#"
   ]
  },
  {
   "cell_type": "code",
   "execution_count": 55,
   "metadata": {},
   "outputs": [],
   "source": [
    "## choosing the best k value\n",
    "error_rate = []\n",
    "\n",
    "for i in range(1,40):\n",
    "    knn = KNeighborsClassifier(n_neighbors=i)\n",
    "    knn.fit(x_train,y_train)\n",
    "    predictions_i = knn.predict(x_test)\n",
    "    error_rate.append(np.mean(predictions_i != y_test))"
   ]
  },
  {
   "cell_type": "markdown",
   "metadata": {},
   "source": [
    "That's how you choos a good value of `k`. The lower the `error rate` the better the `model`. \n",
    "Now, you might not understand what I did in the `last line` `error_rate.append(np.mean(pred_i != y_test))`. Well, I'll explain it to you.\n",
    "\n",
    "`pred_i != y_test` will return a `boolean` value. If the `predicted value` is `not equal` to the `actual value` it will return `True` otherwise it will return `False`. And `np.mean` will return the `mean` of the `boolean` values. So, if the `mean` is `0.1` it means that `10%` of the `predictions` were `wrong`. So, the `lower` the `error rate` the better the `model`.\n",
    "\n",
    "Heres, what a `prediction != actual` looks like:\n",
    "\n",
    "| prediction | actual | prediction != actual |\n",
    "| ---------- | ------ | -------------------- |\n",
    "| 0          | 0      | False                |\n",
    "| 0          | 1      | True                 |\n",
    "| 1          | 1      | False                |\n",
    "| 1          | 1      | False                |\n",
    "| 0          | 0      | False                |\n",
    "\n",
    "Now, we can just find the lowest `error rate` and it's index and use that index to find the `k` value.\n",
    "\n",
    "OOOOOOORRRRR\n",
    "\n",
    "we can visualize the `error rate` and find the `k` value. (we are data scientists and we love to visualize data)"
   ]
  },
  {
   "cell_type": "code",
   "execution_count": 56,
   "metadata": {},
   "outputs": [
    {
     "data": {
      "text/plain": [
       "Text(0, 0.5, 'Error Rate')"
      ]
     },
     "execution_count": 56,
     "metadata": {},
     "output_type": "execute_result"
    },
    {
     "data": {
      "image/png": "[encoded data removed]",
      "text/plain": [
       "<Figure size 1000x600 with 1 Axes>"
      ]
     },
     "metadata": {},
     "output_type": "display_data"
    }
   ],
   "source": [
    "import matplotlib.pyplot as plt\n",
    "\n",
    "plt.figure(figsize=(10,6))\n",
    "\n",
    "plt.plot(range(1,40),error_rate,color='blue',linestyle='dashed',marker='o',markerfacecolor='red',markersize=5)\n",
    "\n",
    "plt.title('Error Rate vs K Value')\n",
    "plt.xlabel('K')\n",
    "plt.ylabel('Error Rate')"
   ]
  },
  {
   "cell_type": "markdown",
   "metadata": {},
   "source": [
    "Here's a plot of `error rate` vs `k value` and you can see that the `error rate` is `lowest` when `k = 34`.\n",
    "\n",
    "Now, YOu can use `k = 34` to train your `KNN` model or try `k=17` or `26` if you want. But I'll use `k = 34` to train my `KNN` model.\n",
    "\n",
    "Let's see how it goes."
   ]
  },
  {
   "cell_type": "code",
   "execution_count": 57,
   "metadata": {},
   "outputs": [
    {
     "name": "stdout",
     "output_type": "stream",
     "text": [
      "[[153   6]\n",
      " [  7 134]]\n",
      "\n",
      "\n",
      "              precision    recall  f1-score   support\n",
      "\n",
      "           0       0.96      0.96      0.96       159\n",
      "           1       0.96      0.95      0.95       141\n",
      "\n",
      "    accuracy                           0.96       300\n",
      "   macro avg       0.96      0.96      0.96       300\n",
      "weighted avg       0.96      0.96      0.96       300\n",
      "\n"
     ]
    }
   ],
   "source": [
    "# training the model with the best k=34 value\n",
    "knn_model = KNeighborsClassifier(n_neighbors=34) # creating an instance of the model\n",
    "knn_model.fit(x_train,y_train) # training the model\n",
    "predictions = knn_model.predict(x_test) # predicting from the model\n",
    "\n",
    "print(confusion_matrix(y_true=y_test,y_pred=predictions), ) # y_true is the actual values and y_pred is the predicted values\n",
    "print('\\n')\n",
    "print(classification_report(y_true=y_test,y_pred=predictions))"
   ]
  },
  {
   "cell_type": "markdown",
   "metadata": {},
   "source": [
    "Now the `accuracy` is `0.96` which is `better` than the `accuracy` we got when `k = 5`. So, we can say that `k = 34` is a `better` value of `k` than `k = 5`.\n",
    "\n",
    "That's how you use `KNN` algorithm to classify data into different classes. Now, let's see how to use `KNN` algorithm to predict a continuous value.\n",
    "\n",
    "# <a id='toc4_'></a>[Conclusion](#toc0_)\n",
    "\n",
    "I hope you liked this article. If you did, please leave a like and share it with your friends and colleagues. And if you have any questions or suggestions, please leave a comment below. And if you want to learn more about machine learning, you can check out my youtube channel(https://www.youtube.com/channel/UCEEkKXpAkSwcMaIHnGi3Niw) and subscribe to it. And you can also check out my github profile(https://github.com/RishatTalukder)\n",
    "If want to read more articles like this chekc out my linkedIn profile(https://www.linkedin.com/in/md-rishat-talukder-a22157239/)\n",
    "\n",
    "Thank you for reading this article. I hope to see you in my next article. Till then, see you later.\n",
    "\n",
    "##### <a id='toc4_1_1_1_1_'></a>[Happy coding](#toc0_)"
   ]
  }
 ],
 "metadata": {
  "kernelspec": {
   "display_name": "Python 3 (ipykernel)",
   "language": "python",
   "name": "python3"
  },
  "language_info": {
   "codemirror_mode": {
    "name": "ipython",
    "version": 3
   },
   "file_extension": ".py",
   "mimetype": "text/x-python",
   "name": "python",
   "nbconvert_exporter": "python",
   "pygments_lexer": "ipython3",
   "version": "3.11.0"
  }
 },
 "nbformat": 4,
 "nbformat_minor": 4
}
